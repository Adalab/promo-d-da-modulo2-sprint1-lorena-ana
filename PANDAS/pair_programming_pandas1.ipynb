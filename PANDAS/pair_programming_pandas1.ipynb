{
 "cells": [
  {
   "cell_type": "code",
   "execution_count": null,
   "metadata": {},
   "outputs": [],
   "source": []
  }
 ],
 "metadata": {
  "kernelspec": {
   "display_name": "base",
   "language": "python",
   "name": "python3"
  },
  "language_info": {
   "name": "python",
   "version": "3.9.7"
  },
  "orig_nbformat": 4,
  "vscode": {
   "interpreter": {
    "hash": "9e93b45245d013bdd53ec1af459c1fa9a1f27ba233da755697f4231c0d29b83f"
   }
  }
 },
 "nbformat": 4,
 "nbformat_minor": 2
}
