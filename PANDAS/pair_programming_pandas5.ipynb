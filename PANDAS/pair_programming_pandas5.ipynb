{
 "cells": [
  {
   "attachments": {},
   "cell_type": "markdown",
   "metadata": {},
   "source": [
    "# PAIR PROGRAMMING PANDAS 5 \n",
    "### MERGE, CONCAT, JOIN"
   ]
  },
  {
   "attachments": {},
   "cell_type": "markdown",
   "metadata": {},
   "source": [
    "El principal objetivo de este ejercicio de pair programming es acabar teniendo un único DataFrame con toda la información contenida en los tres csv anteriores.\n",
    "- Empleados.csv\n",
    "- Agentes.csv\n",
    "- Puestos.csv"
   ]
  },
  {
   "attachments": {},
   "cell_type": "markdown",
   "metadata": {},
   "source": [
    "Antes de empezar, deberéis crear una columna nueva en los dataframes de 2016.xlsx, 2017.xlsx, 2018.xlsx, 2019.xlsx, 2020.xlsx que contenga los valores del año al que corresponden.\n",
    "\n",
    "Para llevar a cabo nuestro objetivo tendréis que seguir los siguientes pasos:"
   ]
  },
  {
   "attachments": {},
   "cell_type": "markdown",
   "metadata": {},
   "source": [
    "1. Cargad los siete ficheros nombrados anteriormente y los exploramos para familizarizarnos con ellos y saber que información tienen en común y debatir entre vosotras como podríamos juntar toda la información."
   ]
  },
  {
   "cell_type": "code",
   "execution_count": null,
   "metadata": {},
   "outputs": [],
   "source": []
  },
  {
   "attachments": {},
   "cell_type": "markdown",
   "metadata": {},
   "source": [
    "2. Chequead que los nombres de las columnas y ver si se llaman iguales entre dataframes. ¿Están todas en minúsculas? ¿Tienen espacios? En caso de que no sea así homogeneizar los nombres de las columnas para que todos los dataframes tengan el mismo formato."
   ]
  },
  {
   "cell_type": "code",
   "execution_count": null,
   "metadata": {},
   "outputs": [],
   "source": []
  },
  {
   "attachments": {},
   "cell_type": "markdown",
   "metadata": {},
   "source": [
    "3. En este momento nos habremos dado cuenta que el DataFrame que generamos en el pair programming Pandas IV es similar al DataFrame de los datos históricos (2017.xlsx, 2018.xlsx, 2019.xlsx, 2020.xlsx). Si recordamos, eliminamos algunas columnas en la sesión III que no eran útiles, tendréis que ver si esas columnas están en los dataframes nuevos, si es así eliminarlas. Por lo tanto, realizad los cambios que creáis necesarios para que los dataframes sean iguales y luego juntadlos usando el mejor método."
   ]
  },
  {
   "cell_type": "code",
   "execution_count": null,
   "metadata": {},
   "outputs": [],
   "source": []
  },
  {
   "attachments": {},
   "cell_type": "markdown",
   "metadata": {},
   "source": [
    "4. Es el momento de unir la información de todos los puestos y los empleados. Debatid que método es el más correcto para unir toda esta información y ejecutadlo."
   ]
  },
  {
   "cell_type": "code",
   "execution_count": null,
   "metadata": {},
   "outputs": [],
   "source": []
  },
  {
   "attachments": {},
   "cell_type": "markdown",
   "metadata": {},
   "source": [
    "6. Guardad los dataframes en dos csv diferentes que usaremos mañana en la clase de pair programming"
   ]
  },
  {
   "cell_type": "code",
   "execution_count": null,
   "metadata": {},
   "outputs": [],
   "source": []
  },
  {
   "attachments": {},
   "cell_type": "markdown",
   "metadata": {},
   "source": [
    " NOTA Al final de este pair programing deberéis tener tres ficheros:\n",
    " - El fichero de la unión de todos los conjuntos de datos de los distintos años\n",
    " - El fichero con la unión de los datos de puestos y empleados.\n",
    " - El fichero de los agentes."
   ]
  }
 ],
 "metadata": {
  "language_info": {
   "name": "python"
  },
  "orig_nbformat": 4
 },
 "nbformat": 4,
 "nbformat_minor": 2
}
