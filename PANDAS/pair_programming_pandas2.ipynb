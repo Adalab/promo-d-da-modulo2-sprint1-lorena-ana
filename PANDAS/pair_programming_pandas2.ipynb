{
 "cells": [
  {
   "attachments": {},
   "cell_type": "markdown",
   "metadata": {},
   "source": [
    "## PAIR PROGRAMMING - PANDAS 2"
   ]
  },
  {
   "attachments": {},
   "cell_type": "markdown",
   "metadata": {},
   "source": [
    "En este ejercicio de pair programming pondremos en práctica como cargar distintos tipos de archivos en Python usando Pandas.\n",
    "\n",
    "Al final de la explicación encontrareís una serie de ficheros con distintos formatos.\n",
    "\n",
    "Los objetivos de este pair programming:"
   ]
  },
  {
   "attachments": {},
   "cell_type": "markdown",
   "metadata": {},
   "source": [
    "1.Id cargando todos los ficheros en vuestro jupyter.\n",
    "\n",
    "NOTA En la apertura del archivo de quejas.csv puede que os salga un error como este:"
   ]
  },
  {
   "attachments": {},
   "cell_type": "markdown",
   "metadata": {},
   "source": [
    "Esto es debido a que habrá que indicar el encoding y el separador de este fichero. En concreto el encoding es de tipo \"ISO-8859-1\". El separador os lo dejamos a vosotras para que investigueis un poquito.\n",
    "\n",
    "- Utlizando el dataset de quejas.csv y usando el loc, quedaros solo con aquellos datos que correspondan a tipo \"Sugerencia\" (para solucionar este ejercicio tendréis que poner en práctica métodos aprendidos en la lección de ayer). En este caso querremos todas las columnas. Almacenad los resultados en nuevo dataframe que se llame df_sugerencias.\n",
    "- Utlizando el dataset de quejas.csv y usando el loc,quedaros solo con aquellos datos que correspondan con canal de entrada \"Presencial\" y y que sean de tipo \"Queja\" (para solucionar este ejercicio tendréis que poner en práctica métodos aprendidos en la lección de ayer). En este caso solo querremos las columnas de \"fecha_entrada\" y \"fecha_contestacion\". Almacenad los resultados en nuevo dataframe que se llame df_queja_presencial."
   ]
  },
  {
   "cell_type": "code",
   "execution_count": 21,
   "metadata": {},
   "outputs": [],
   "source": [
    "import os\n",
    "import pandas as pd"
   ]
  },
  {
   "cell_type": "code",
   "execution_count": 2,
   "metadata": {},
   "outputs": [
    {
     "data": {
      "text/plain": [
       "'/home/adalaber/Escritorio/ADALAB/LORENA/COPIA EJERCICIOS/MODULO 2- SPRINT 1/pair-programming/promo-d-da-modulo2-sprint1-lorena-ana/PANDAS'"
      ]
     },
     "execution_count": 2,
     "metadata": {},
     "output_type": "execute_result"
    }
   ],
   "source": [
    "os.getcwd()"
   ]
  },
  {
   "cell_type": "code",
   "execution_count": 3,
   "metadata": {},
   "outputs": [],
   "source": [
    "#abrimos csv\n",
    "\n",
    "df_csv = pd.read_csv(\"datos/quejas.csv\", encoding ='ISO-8859-1', sep=';')"
   ]
  },
  {
   "cell_type": "code",
   "execution_count": 4,
   "metadata": {},
   "outputs": [
    {
     "data": {
      "text/html": [
       "<div>\n",
       "<style scoped>\n",
       "    .dataframe tbody tr th:only-of-type {\n",
       "        vertical-align: middle;\n",
       "    }\n",
       "\n",
       "    .dataframe tbody tr th {\n",
       "        vertical-align: top;\n",
       "    }\n",
       "\n",
       "    .dataframe thead th {\n",
       "        text-align: right;\n",
       "    }\n",
       "</style>\n",
       "<table border=\"1\" class=\"dataframe\">\n",
       "  <thead>\n",
       "    <tr style=\"text-align: right;\">\n",
       "      <th></th>\n",
       "      <th>tipo</th>\n",
       "      <th>estado</th>\n",
       "      <th>canal_entrada</th>\n",
       "      <th>fecha_entrada</th>\n",
       "      <th>fecha_contestacion</th>\n",
       "      <th>consejeria</th>\n",
       "      <th>unidad_descripcion</th>\n",
       "      <th>tema</th>\n",
       "      <th>subtema</th>\n",
       "    </tr>\n",
       "  </thead>\n",
       "  <tbody>\n",
       "    <tr>\n",
       "      <th>0</th>\n",
       "      <td>Queja</td>\n",
       "      <td>Recepcionada por Unidad</td>\n",
       "      <td>INTERNET</td>\n",
       "      <td>2022-01-28 00:00:00</td>\n",
       "      <td>NaN</td>\n",
       "      <td>Consejería de Medio Ambiente, Vivienda y Agric...</td>\n",
       "      <td>D.G. de Descarbonización y Transición Energética</td>\n",
       "      <td>ENERGÍA</td>\n",
       "      <td>NaN</td>\n",
       "    </tr>\n",
       "    <tr>\n",
       "      <th>1</th>\n",
       "      <td>Queja</td>\n",
       "      <td>Recepcionada por Unidad</td>\n",
       "      <td>INTERNET</td>\n",
       "      <td>2022-03-28 00:00:00</td>\n",
       "      <td>NaN</td>\n",
       "      <td>Consejería de Medio Ambiente, Vivienda y Agric...</td>\n",
       "      <td>D.G. de Descarbonización y Transición Energética</td>\n",
       "      <td>ENERGÍA</td>\n",
       "      <td>NaN</td>\n",
       "    </tr>\n",
       "  </tbody>\n",
       "</table>\n",
       "</div>"
      ],
      "text/plain": [
       "    tipo                   estado canal_entrada        fecha_entrada  \\\n",
       "0  Queja  Recepcionada por Unidad      INTERNET  2022-01-28 00:00:00   \n",
       "1  Queja  Recepcionada por Unidad      INTERNET  2022-03-28 00:00:00   \n",
       "\n",
       "  fecha_contestacion                                         consejeria  \\\n",
       "0                NaN  Consejería de Medio Ambiente, Vivienda y Agric...   \n",
       "1                NaN  Consejería de Medio Ambiente, Vivienda y Agric...   \n",
       "\n",
       "                                 unidad_descripcion     tema subtema  \n",
       "0  D.G. de Descarbonización y Transición Energética  ENERGÍA     NaN  \n",
       "1  D.G. de Descarbonización y Transición Energética  ENERGÍA     NaN  "
      ]
     },
     "execution_count": 4,
     "metadata": {},
     "output_type": "execute_result"
    }
   ],
   "source": [
    "df_csv.head(2)"
   ]
  },
  {
   "attachments": {},
   "cell_type": "markdown",
   "metadata": {},
   "source": [
    "- Utlizando el dataset de quejas.csv y usando el loc, quedaros solo con aquellos datos que correspondan a tipo \"Sugerencia\" (para solucionar este ejercicio tendréis que poner en práctica métodos aprendidos en la lección de ayer). En este caso querremos todas las columnas. Almacenad los resultados en nuevo dataframe que se llame df_sugerencias."
   ]
  },
  {
   "cell_type": "code",
   "execution_count": 5,
   "metadata": {},
   "outputs": [],
   "source": [
    "#usando loc\n",
    "df_sugerencias = df_csv.loc[df_csv.tipo == \"Sugerencia\",:]"
   ]
  },
  {
   "cell_type": "code",
   "execution_count": 7,
   "metadata": {},
   "outputs": [
    {
     "data": {
      "text/html": [
       "<div>\n",
       "<style scoped>\n",
       "    .dataframe tbody tr th:only-of-type {\n",
       "        vertical-align: middle;\n",
       "    }\n",
       "\n",
       "    .dataframe tbody tr th {\n",
       "        vertical-align: top;\n",
       "    }\n",
       "\n",
       "    .dataframe thead th {\n",
       "        text-align: right;\n",
       "    }\n",
       "</style>\n",
       "<table border=\"1\" class=\"dataframe\">\n",
       "  <thead>\n",
       "    <tr style=\"text-align: right;\">\n",
       "      <th></th>\n",
       "      <th>tipo</th>\n",
       "      <th>estado</th>\n",
       "      <th>canal_entrada</th>\n",
       "      <th>fecha_entrada</th>\n",
       "      <th>fecha_contestacion</th>\n",
       "      <th>consejeria</th>\n",
       "      <th>unidad_descripcion</th>\n",
       "      <th>tema</th>\n",
       "      <th>subtema</th>\n",
       "    </tr>\n",
       "  </thead>\n",
       "  <tbody>\n",
       "    <tr>\n",
       "      <th>5</th>\n",
       "      <td>Sugerencia</td>\n",
       "      <td>Contestada al Ciudadano</td>\n",
       "      <td>INTERNET</td>\n",
       "      <td>2022-03-08 00:00:00</td>\n",
       "      <td>2022-03-14 00:00:00</td>\n",
       "      <td>Consejería de Medio Ambiente, Vivienda y Agric...</td>\n",
       "      <td>D.G. de Descarbonización y Transición Energética</td>\n",
       "      <td>ENERGÍA</td>\n",
       "      <td>NaN</td>\n",
       "    </tr>\n",
       "    <tr>\n",
       "      <th>7</th>\n",
       "      <td>Sugerencia</td>\n",
       "      <td>Contestada al Ciudadano</td>\n",
       "      <td>INTERNET</td>\n",
       "      <td>2022-01-24 00:00:00</td>\n",
       "      <td>2022-02-01 00:00:00</td>\n",
       "      <td>Consejería de Medio Ambiente, Vivienda y Agric...</td>\n",
       "      <td>D.G. de Descarbonización y Transición Energética</td>\n",
       "      <td>ENERGÍA</td>\n",
       "      <td>NaN</td>\n",
       "    </tr>\n",
       "  </tbody>\n",
       "</table>\n",
       "</div>"
      ],
      "text/plain": [
       "         tipo                   estado canal_entrada        fecha_entrada  \\\n",
       "5  Sugerencia  Contestada al Ciudadano      INTERNET  2022-03-08 00:00:00   \n",
       "7  Sugerencia  Contestada al Ciudadano      INTERNET  2022-01-24 00:00:00   \n",
       "\n",
       "    fecha_contestacion                                         consejeria  \\\n",
       "5  2022-03-14 00:00:00  Consejería de Medio Ambiente, Vivienda y Agric...   \n",
       "7  2022-02-01 00:00:00  Consejería de Medio Ambiente, Vivienda y Agric...   \n",
       "\n",
       "                                 unidad_descripcion     tema subtema  \n",
       "5  D.G. de Descarbonización y Transición Energética  ENERGÍA     NaN  \n",
       "7  D.G. de Descarbonización y Transición Energética  ENERGÍA     NaN  "
      ]
     },
     "execution_count": 7,
     "metadata": {},
     "output_type": "execute_result"
    }
   ],
   "source": [
    "df_sugerencias.head(2)"
   ]
  },
  {
   "attachments": {},
   "cell_type": "markdown",
   "metadata": {},
   "source": [
    "Utlizando el dataset de quejas.csv y usando el loc,quedaros solo con aquellos datos que correspondan con canal de entrada \"Presencial\" y y que sean de tipo \"Queja\" (para solucionar este ejercicio tendréis que poner en práctica métodos aprendidos en la lección de ayer). En este caso solo querremos las columnas de \"fecha_entrada\" y \"fecha_contestacion\". Almacenad los resultados en nuevo dataframe que se llame df_queja_presencial."
   ]
  },
  {
   "cell_type": "code",
   "execution_count": 8,
   "metadata": {},
   "outputs": [
    {
     "data": {
      "text/html": [
       "<div>\n",
       "<style scoped>\n",
       "    .dataframe tbody tr th:only-of-type {\n",
       "        vertical-align: middle;\n",
       "    }\n",
       "\n",
       "    .dataframe tbody tr th {\n",
       "        vertical-align: top;\n",
       "    }\n",
       "\n",
       "    .dataframe thead th {\n",
       "        text-align: right;\n",
       "    }\n",
       "</style>\n",
       "<table border=\"1\" class=\"dataframe\">\n",
       "  <thead>\n",
       "    <tr style=\"text-align: right;\">\n",
       "      <th></th>\n",
       "      <th>fecha_entrada</th>\n",
       "      <th>fecha_contestacion</th>\n",
       "    </tr>\n",
       "  </thead>\n",
       "  <tbody>\n",
       "    <tr>\n",
       "      <th>45</th>\n",
       "      <td>2022-01-31 00:00:00</td>\n",
       "      <td>NaN</td>\n",
       "    </tr>\n",
       "    <tr>\n",
       "      <th>197</th>\n",
       "      <td>2022-02-17 00:00:00</td>\n",
       "      <td>2022-02-23 00:00:00</td>\n",
       "    </tr>\n",
       "  </tbody>\n",
       "</table>\n",
       "</div>"
      ],
      "text/plain": [
       "           fecha_entrada   fecha_contestacion\n",
       "45   2022-01-31 00:00:00                  NaN\n",
       "197  2022-02-17 00:00:00  2022-02-23 00:00:00"
      ]
     },
     "execution_count": 8,
     "metadata": {},
     "output_type": "execute_result"
    }
   ],
   "source": [
    "df_queja_presencial = df_csv.loc[(df_csv.tipo == \"Queja\") & (df_csv.canal_entrada == \"PRESENCIAL\"), [\"fecha_entrada\", \"fecha_contestacion\"]]\n",
    "df_queja_presencial.head(2)"
   ]
  },
  {
   "attachments": {},
   "cell_type": "markdown",
   "metadata": {},
   "source": [
    "2. Usando el método read_clipboard, cread un dataframe nuevo que nos ayude a contestar las siguientes preguntas:\n",
    "   - Usando el iloc, ¿Cuál es la temperatura mínima de Febrero? ¿Y la máxima?\n",
    "   - Usando el loc, ¿Cuántas horas de sol hay en Julio? ¿Y en Diciembre?\n",
    "   - Usando el iloc, ¿Cuál fue la húmedad del mes de Septiembre? ¿Y la precipitación?\n",
    "   - Estos datos corresponden a los años 1991-2021. Cread una nueva columna cuyo valor sea \"1991-2021\"."
   ]
  },
  {
   "cell_type": "code",
   "execution_count": 22,
   "metadata": {},
   "outputs": [
    {
     "data": {
      "text/html": [
       "<div>\n",
       "<style scoped>\n",
       "    .dataframe tbody tr th:only-of-type {\n",
       "        vertical-align: middle;\n",
       "    }\n",
       "\n",
       "    .dataframe tbody tr th {\n",
       "        vertical-align: top;\n",
       "    }\n",
       "\n",
       "    .dataframe thead th {\n",
       "        text-align: right;\n",
       "    }\n",
       "</style>\n",
       "<table border=\"1\" class=\"dataframe\">\n",
       "  <thead>\n",
       "    <tr style=\"text-align: right;\">\n",
       "      <th></th>\n",
       "      <th>Enero</th>\n",
       "      <th>Febrero</th>\n",
       "      <th>Marzo</th>\n",
       "      <th>Abril</th>\n",
       "      <th>Mayo</th>\n",
       "      <th>Junio</th>\n",
       "      <th>​​Julio</th>\n",
       "      <th>Agosto</th>\n",
       "      <th>Septiembre</th>\n",
       "      <th>Octubre</th>\n",
       "      <th>Noviembre</th>\n",
       "      <th>Diciembre</th>\n",
       "    </tr>\n",
       "  </thead>\n",
       "  <tbody>\n",
       "    <tr>\n",
       "      <th>Temperatura media (°C)</th>\n",
       "      <td>4.8</td>\n",
       "      <td>6</td>\n",
       "      <td>9.2</td>\n",
       "      <td>12.2</td>\n",
       "      <td>16.7</td>\n",
       "      <td>22.8</td>\n",
       "      <td>26</td>\n",
       "      <td>25.6</td>\n",
       "      <td>20.9</td>\n",
       "      <td>15.1</td>\n",
       "      <td>8.6</td>\n",
       "      <td>5.5</td>\n",
       "    </tr>\n",
       "    <tr>\n",
       "      <th>Temperatura min. (°C)</th>\n",
       "      <td>0.9</td>\n",
       "      <td>1.4</td>\n",
       "      <td>3.8</td>\n",
       "      <td>6.4</td>\n",
       "      <td>10.3</td>\n",
       "      <td>15.7</td>\n",
       "      <td>18.8</td>\n",
       "      <td>18.5</td>\n",
       "      <td>14.8</td>\n",
       "      <td>10.2</td>\n",
       "      <td>4.7</td>\n",
       "      <td>1.8</td>\n",
       "    </tr>\n",
       "    <tr>\n",
       "      <th>Temperatura máx. (°C)</th>\n",
       "      <td>9.5</td>\n",
       "      <td>11.4</td>\n",
       "      <td>15</td>\n",
       "      <td>17.9</td>\n",
       "      <td>22.6</td>\n",
       "      <td>29</td>\n",
       "      <td>32.4</td>\n",
       "      <td>31.9</td>\n",
       "      <td>26.8</td>\n",
       "      <td>20.3</td>\n",
       "      <td>13.2</td>\n",
       "      <td>10.1</td>\n",
       "    </tr>\n",
       "    <tr>\n",
       "      <th>Precipitación (mm)</th>\n",
       "      <td>41</td>\n",
       "      <td>34</td>\n",
       "      <td>40</td>\n",
       "      <td>47</td>\n",
       "      <td>39</td>\n",
       "      <td>16</td>\n",
       "      <td>6</td>\n",
       "      <td>8</td>\n",
       "      <td>22</td>\n",
       "      <td>61</td>\n",
       "      <td>55</td>\n",
       "      <td>46</td>\n",
       "    </tr>\n",
       "    <tr>\n",
       "      <th>Humedad(%)</th>\n",
       "      <td>77%</td>\n",
       "      <td>69%</td>\n",
       "      <td>60%</td>\n",
       "      <td>57%</td>\n",
       "      <td>48%</td>\n",
       "      <td>35%</td>\n",
       "      <td>28%</td>\n",
       "      <td>30%</td>\n",
       "      <td>41%</td>\n",
       "      <td>60%</td>\n",
       "      <td>72%</td>\n",
       "      <td>77%</td>\n",
       "    </tr>\n",
       "    <tr>\n",
       "      <th>Días lluviosos (días)</th>\n",
       "      <td>5</td>\n",
       "      <td>4</td>\n",
       "      <td>4</td>\n",
       "      <td>6</td>\n",
       "      <td>5</td>\n",
       "      <td>3</td>\n",
       "      <td>1</td>\n",
       "      <td>2</td>\n",
       "      <td>3</td>\n",
       "      <td>5</td>\n",
       "      <td>5</td>\n",
       "      <td>5</td>\n",
       "    </tr>\n",
       "    <tr>\n",
       "      <th>Horas de sol (horas)</th>\n",
       "      <td>5.7</td>\n",
       "      <td>6.8</td>\n",
       "      <td>8.1</td>\n",
       "      <td>9.4</td>\n",
       "      <td>11.5</td>\n",
       "      <td>13.0</td>\n",
       "      <td>13.1</td>\n",
       "      <td>12.1</td>\n",
       "      <td>10.4</td>\n",
       "      <td>7.8</td>\n",
       "      <td>6.1</td>\n",
       "      <td>5.7</td>\n",
       "    </tr>\n",
       "  </tbody>\n",
       "</table>\n",
       "</div>"
      ],
      "text/plain": [
       "                        Enero  Febrero  Marzo  Abril   Mayo  Junio  ​​Julio   \\\n",
       "Temperatura media (°C)    4.8        6    9.2   12.2   16.7   22.8       26    \n",
       "Temperatura min. (°C)     0.9      1.4    3.8    6.4   10.3   15.7     18.8    \n",
       "Temperatura máx. (°C)     9.5     11.4     15   17.9   22.6     29     32.4    \n",
       "Precipitación (mm)         41       34     40     47     39     16        6    \n",
       "Humedad(%)                77%      69%    60%    57%    48%    35%      28%    \n",
       "Días lluviosos (días)       5        4      4      6      5      3        1    \n",
       "Horas de sol (horas)      5.7      6.8    8.1    9.4   11.5   13.0     13.1    \n",
       "\n",
       "                        Agosto  Septiembre  Octubre  Noviembre  Diciembre  \n",
       "Temperatura media (°C)    25.6        20.9     15.1        8.6        5.5  \n",
       "Temperatura min. (°C)     18.5        14.8     10.2        4.7        1.8  \n",
       "Temperatura máx. (°C)     31.9        26.8     20.3       13.2       10.1  \n",
       "Precipitación (mm)           8          22       61         55         46  \n",
       "Humedad(%)                 30%         41%      60%        72%        77%  \n",
       "Días lluviosos (días)        2           3        5          5          5  \n",
       "Horas de sol (horas)      12.1        10.4      7.8        6.1        5.7  "
      ]
     },
     "execution_count": 22,
     "metadata": {},
     "output_type": "execute_result"
    }
   ],
   "source": [
    "#para que funcione el código con archivos de tipo clipboard es necesario trabajar desde otro entorno\n",
    "#¿cómo generar clipboard? copiamos tabla en una hoja excel y luego simplemente con el doc abierto, en Visual aplicamos el código de abajo\n",
    "df_clipboard = pd.read_clipboard(sep='\\t')\n",
    "df_clipboard.head(10)"
   ]
  },
  {
   "cell_type": "markdown",
   "metadata": {},
   "source": [
    " - Usando el iloc, ¿Cuál es la temperatura mínima de Febrero? ¿Y la máxima?"
   ]
  },
  {
   "cell_type": "code",
   "execution_count": 4,
   "metadata": {},
   "outputs": [
    {
     "data": {
      "text/plain": [
       "'6.4 '"
      ]
     },
     "execution_count": 4,
     "metadata": {},
     "output_type": "execute_result"
    }
   ],
   "source": [
    "df_clipboard.iloc[1,1]"
   ]
  },
  {
   "cell_type": "code",
   "execution_count": 16,
   "metadata": {},
   "outputs": [
    {
     "data": {
      "text/plain": [
       "'11.4 '"
      ]
     },
     "execution_count": 16,
     "metadata": {},
     "output_type": "execute_result"
    }
   ],
   "source": [
    "#La máxima:\n",
    "df_clipboard.iloc[2,1]"
   ]
  },
  {
   "attachments": {},
   "cell_type": "markdown",
   "metadata": {},
   "source": [
    "Usando el loc, ¿Cuántas horas de sol hay en Julio? ¿Y en Diciembre?"
   ]
  },
  {
   "cell_type": "code",
   "execution_count": 25,
   "metadata": {},
   "outputs": [
    {
     "data": {
      "text/plain": [
       "Index(['Enero ', 'Febrero ', 'Marzo ', 'Abril ', 'Mayo ', 'Junio ', '​​Julio ',\n",
       "       'Agosto ', 'Septiembre ', 'Octubre ', 'Noviembre ', 'Diciembre'],\n",
       "      dtype='object')"
      ]
     },
     "execution_count": 25,
     "metadata": {},
     "output_type": "execute_result"
    }
   ],
   "source": [
    "df_clipboard.columns #para conocer el nombre de las columnas del DF"
   ]
  },
  {
   "cell_type": "code",
   "execution_count": 27,
   "metadata": {},
   "outputs": [
    {
     "data": {
      "text/plain": [
       "array(['Temperatura media (°C) ', 'Temperatura min. (°C) ',\n",
       "       'Temperatura máx. (°C) ', 'Precipitación (mm) ', 'Humedad(%) ',\n",
       "       'Días lluviosos (días) ', 'Horas de sol (horas) '], dtype=object)"
      ]
     },
     "execution_count": 27,
     "metadata": {},
     "output_type": "execute_result"
    }
   ],
   "source": [
    "df_clipboard.index.values #para conocer el nombre de las filas del DF"
   ]
  },
  {
   "cell_type": "code",
   "execution_count": 29,
   "metadata": {},
   "outputs": [
    {
     "data": {
      "text/plain": [
       "'13.1 '"
      ]
     },
     "execution_count": 29,
     "metadata": {},
     "output_type": "execute_result"
    }
   ],
   "source": [
    "#julio\n",
    "df_clipboard.loc['Horas de sol (horas) ', '​​Julio ']"
   ]
  },
  {
   "cell_type": "code",
   "execution_count": 30,
   "metadata": {},
   "outputs": [
    {
     "data": {
      "text/plain": [
       "'5.7'"
      ]
     },
     "execution_count": 30,
     "metadata": {},
     "output_type": "execute_result"
    }
   ],
   "source": [
    "#diciembre\n",
    "df_clipboard.loc['Horas de sol (horas) ','Diciembre']"
   ]
  },
  {
   "cell_type": "code",
   "execution_count": 31,
   "metadata": {},
   "outputs": [
    {
     "data": {
      "text/plain": [
       "'28% '"
      ]
     },
     "execution_count": 31,
     "metadata": {},
     "output_type": "execute_result"
    }
   ],
   "source": [
    "df_clipboard.loc['Humedad(%) ', '​​Julio ']"
   ]
  },
  {
   "attachments": {},
   "cell_type": "markdown",
   "metadata": {},
   "source": [
    "- Usando el iloc, ¿Cuál fue la húmedad del mes de Septiembre? ¿Y la precipitación?\n"
   ]
  },
  {
   "cell_type": "code",
   "execution_count": 23,
   "metadata": {},
   "outputs": [
    {
     "data": {
      "text/plain": [
       "'41% '"
      ]
     },
     "execution_count": 23,
     "metadata": {},
     "output_type": "execute_result"
    }
   ],
   "source": [
    "#Humedad de septiembre\n",
    "df_clipboard.iloc[4,8]"
   ]
  },
  {
   "cell_type": "code",
   "execution_count": 24,
   "metadata": {},
   "outputs": [
    {
     "data": {
      "text/plain": [
       "'22 '"
      ]
     },
     "execution_count": 24,
     "metadata": {},
     "output_type": "execute_result"
    }
   ],
   "source": [
    "#Precipitación de septiembre\n",
    "df_clipboard.iloc[3,8]"
   ]
  },
  {
   "attachments": {},
   "cell_type": "markdown",
   "metadata": {},
   "source": [
    "- Estos datos corresponden a los años 1991-2021. Cread una nueva columna cuyo valor sea \"1991-2021\"."
   ]
  },
  {
   "cell_type": "code",
   "execution_count": 32,
   "metadata": {},
   "outputs": [],
   "source": [
    "#para crear nueva columna, método assign/metodo César\n",
    "\n",
    "df_clipboard[\"Décadas\"] = \"1991-2021\""
   ]
  },
  {
   "cell_type": "code",
   "execution_count": 33,
   "metadata": {},
   "outputs": [
    {
     "data": {
      "text/html": [
       "<div>\n",
       "<style scoped>\n",
       "    .dataframe tbody tr th:only-of-type {\n",
       "        vertical-align: middle;\n",
       "    }\n",
       "\n",
       "    .dataframe tbody tr th {\n",
       "        vertical-align: top;\n",
       "    }\n",
       "\n",
       "    .dataframe thead th {\n",
       "        text-align: right;\n",
       "    }\n",
       "</style>\n",
       "<table border=\"1\" class=\"dataframe\">\n",
       "  <thead>\n",
       "    <tr style=\"text-align: right;\">\n",
       "      <th></th>\n",
       "      <th>Enero</th>\n",
       "      <th>Febrero</th>\n",
       "      <th>Marzo</th>\n",
       "      <th>Abril</th>\n",
       "      <th>Mayo</th>\n",
       "      <th>Junio</th>\n",
       "      <th>​​Julio</th>\n",
       "      <th>Agosto</th>\n",
       "      <th>Septiembre</th>\n",
       "      <th>Octubre</th>\n",
       "      <th>Noviembre</th>\n",
       "      <th>Diciembre</th>\n",
       "      <th>Décadas</th>\n",
       "    </tr>\n",
       "  </thead>\n",
       "  <tbody>\n",
       "    <tr>\n",
       "      <th>Temperatura media (°C)</th>\n",
       "      <td>4.8</td>\n",
       "      <td>6</td>\n",
       "      <td>9.2</td>\n",
       "      <td>12.2</td>\n",
       "      <td>16.7</td>\n",
       "      <td>22.8</td>\n",
       "      <td>26</td>\n",
       "      <td>25.6</td>\n",
       "      <td>20.9</td>\n",
       "      <td>15.1</td>\n",
       "      <td>8.6</td>\n",
       "      <td>5.5</td>\n",
       "      <td>1991-2021</td>\n",
       "    </tr>\n",
       "    <tr>\n",
       "      <th>Temperatura min. (°C)</th>\n",
       "      <td>0.9</td>\n",
       "      <td>1.4</td>\n",
       "      <td>3.8</td>\n",
       "      <td>6.4</td>\n",
       "      <td>10.3</td>\n",
       "      <td>15.7</td>\n",
       "      <td>18.8</td>\n",
       "      <td>18.5</td>\n",
       "      <td>14.8</td>\n",
       "      <td>10.2</td>\n",
       "      <td>4.7</td>\n",
       "      <td>1.8</td>\n",
       "      <td>1991-2021</td>\n",
       "    </tr>\n",
       "  </tbody>\n",
       "</table>\n",
       "</div>"
      ],
      "text/plain": [
       "                        Enero  Febrero  Marzo  Abril   Mayo  Junio  ​​Julio   \\\n",
       "Temperatura media (°C)    4.8        6    9.2   12.2   16.7   22.8       26    \n",
       "Temperatura min. (°C)     0.9      1.4    3.8    6.4   10.3   15.7     18.8    \n",
       "\n",
       "                        Agosto  Septiembre  Octubre  Noviembre  Diciembre  \\\n",
       "Temperatura media (°C)    25.6        20.9     15.1        8.6        5.5   \n",
       "Temperatura min. (°C)     18.5        14.8     10.2        4.7        1.8   \n",
       "\n",
       "                           Décadas  \n",
       "Temperatura media (°C)   1991-2021  \n",
       "Temperatura min. (°C)    1991-2021  "
      ]
     },
     "execution_count": 33,
     "metadata": {},
     "output_type": "execute_result"
    }
   ],
   "source": [
    "df_clipboard.head(2)"
   ]
  },
  {
   "cell_type": "code",
   "execution_count": 34,
   "metadata": {},
   "outputs": [],
   "source": [
    "import os"
   ]
  },
  {
   "cell_type": "code",
   "execution_count": 35,
   "metadata": {},
   "outputs": [
    {
     "data": {
      "text/plain": [
       "'/home/adalaber/Escritorio/ADALAB/LORENA/COPIA EJERCICIOS/MODULO 2- SPRINT 1/pair-programming/promo-d-da-modulo2-sprint1-lorena-ana/PANDAS'"
      ]
     },
     "execution_count": 35,
     "metadata": {},
     "output_type": "execute_result"
    }
   ],
   "source": [
    "os.getcwd()"
   ]
  },
  {
   "attachments": {},
   "cell_type": "markdown",
   "metadata": {},
   "source": [
    "3. Por último, guardad el dataframe generado en el ejercicio 2 en formato csv y xlsx."
   ]
  },
  {
   "cell_type": "code",
   "execution_count": 36,
   "metadata": {},
   "outputs": [],
   "source": [
    "df_clipboard.to_csv(\"datos/pair_programming_pandas2.csv\")\n",
    "df_clipboard.to_excel(\"datos/pair_programming_pandas2.xlsx\")"
   ]
  }
 ],
 "metadata": {
  "kernelspec": {
   "display_name": "adalabenv",
   "language": "python",
   "name": "python3"
  },
  "language_info": {
   "codemirror_mode": {
    "name": "ipython",
    "version": 3
   },
   "file_extension": ".py",
   "mimetype": "text/x-python",
   "name": "python",
   "nbconvert_exporter": "python",
   "pygments_lexer": "ipython3",
   "version": "3.10.9"
  },
  "orig_nbformat": 4,
  "vscode": {
   "interpreter": {
    "hash": "0b8bbabd87d3ce636409443d1398e5656bf795e33c753b5e821c4b969f4e6c41"
   }
  }
 },
 "nbformat": 4,
 "nbformat_minor": 2
}
