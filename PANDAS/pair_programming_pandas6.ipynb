{
 "cells": [
  {
   "attachments": {},
   "cell_type": "markdown",
   "metadata": {},
   "source": [
    "## PAIR PROGRAMMING - PANDAS 6"
   ]
  },
  {
   "attachments": {},
   "cell_type": "markdown",
   "metadata": {},
   "source": [
    "En los ejercicios de hoy pondremos en práctica los apply, y nos crearemos algunas funciones que nos van a permitir limpiar un poco los datos, para que podamos extraer conclusiones de una forma más sencilla. Para ellos seguiremos trabajando con mismos csv que en el pair anterior, el de los empleados que unimos en el pair de unión de datasets y el de los tickets de todos los años. Para ello, lo primero que tendremos que hacer es cargar estos dos csv.\n",
    "\n",
    "Como hemos dicho hasta ahora, hemos estado explorando los datos, y puede que ya nos hayamos dado cuenta de que hay columnas de que están un poco \"sucias\". Hoy limpiaremos esas columnas para poder extraer conclusiones más eficaces."
   ]
  },
  {
   "cell_type": "code",
   "execution_count": 1,
   "metadata": {},
   "outputs": [],
   "source": [
    "import pandas as pd\n",
    "import numpy as np\n",
    "import matplotlib as plt"
   ]
  },
  {
   "cell_type": "code",
   "execution_count": 2,
   "metadata": {},
   "outputs": [],
   "source": [
    "df_historico = pd.read_csv('datos/historico_tickets.csv')\n",
    "df_ep = pd.read_csv('datos/empleados_puestos.csv')"
   ]
  },
  {
   "cell_type": "code",
   "execution_count": 10,
   "metadata": {},
   "outputs": [
    {
     "data": {
      "text/plain": [
       "Unnamed: 0          int64\n",
       "id_ticket          object\n",
       "fecha              object\n",
       "id_empleado         int64\n",
       "id_agente           int64\n",
       "categoría          object\n",
       "tipo               object\n",
       "severidad          object\n",
       "prioridad          object\n",
       "días_resolución     int64\n",
       "satisfacción        int64\n",
       "semestre           object\n",
       "año                 int64\n",
       "dtype: object"
      ]
     },
     "execution_count": 10,
     "metadata": {},
     "output_type": "execute_result"
    }
   ],
   "source": [
    "df_historico.dtypes"
   ]
  },
  {
   "cell_type": "code",
   "execution_count": 12,
   "metadata": {},
   "outputs": [],
   "source": [
    "df_historico_copia = df_historico.copy()"
   ]
  },
  {
   "cell_type": "code",
   "execution_count": 14,
   "metadata": {},
   "outputs": [
    {
     "data": {
      "text/html": [
       "<div>\n",
       "<style scoped>\n",
       "    .dataframe tbody tr th:only-of-type {\n",
       "        vertical-align: middle;\n",
       "    }\n",
       "\n",
       "    .dataframe tbody tr th {\n",
       "        vertical-align: top;\n",
       "    }\n",
       "\n",
       "    .dataframe thead th {\n",
       "        text-align: right;\n",
       "    }\n",
       "</style>\n",
       "<table border=\"1\" class=\"dataframe\">\n",
       "  <thead>\n",
       "    <tr style=\"text-align: right;\">\n",
       "      <th></th>\n",
       "      <th>Unnamed: 0</th>\n",
       "      <th>id_ticket</th>\n",
       "      <th>fecha</th>\n",
       "      <th>id_empleado</th>\n",
       "      <th>id_agente</th>\n",
       "      <th>categoría</th>\n",
       "      <th>tipo</th>\n",
       "      <th>severidad</th>\n",
       "      <th>prioridad</th>\n",
       "      <th>días_resolución</th>\n",
       "      <th>satisfacción</th>\n",
       "      <th>semestre</th>\n",
       "      <th>año</th>\n",
       "    </tr>\n",
       "  </thead>\n",
       "  <tbody>\n",
       "    <tr>\n",
       "      <th>0</th>\n",
       "      <td>0</td>\n",
       "      <td>GDDENR-5042564453</td>\n",
       "      <td>2016-07-13</td>\n",
       "      <td>1735</td>\n",
       "      <td>4</td>\n",
       "      <td>Acceso&amp;%Login</td>\n",
       "      <td>Problema</td>\n",
       "      <td>0 - Sin Clasificar</td>\n",
       "      <td>0 - Sin Asignar</td>\n",
       "      <td>0</td>\n",
       "      <td>5</td>\n",
       "      <td>2º semestre</td>\n",
       "      <td>2016</td>\n",
       "    </tr>\n",
       "    <tr>\n",
       "      <th>1</th>\n",
       "      <td>1</td>\n",
       "      <td>GDDENR-8042508060</td>\n",
       "      <td>2016-05-18</td>\n",
       "      <td>1566</td>\n",
       "      <td>10</td>\n",
       "      <td>Acceso&amp;%Login</td>\n",
       "      <td>Problema</td>\n",
       "      <td>0 - Sin Clasificar</td>\n",
       "      <td>0 - Sin Asignar</td>\n",
       "      <td>0</td>\n",
       "      <td>5</td>\n",
       "      <td>1 semestre</td>\n",
       "      <td>2016</td>\n",
       "    </tr>\n",
       "  </tbody>\n",
       "</table>\n",
       "</div>"
      ],
      "text/plain": [
       "   Unnamed: 0          id_ticket       fecha  id_empleado  id_agente  \\\n",
       "0           0  GDDENR-5042564453  2016-07-13         1735          4   \n",
       "1           1  GDDENR-8042508060  2016-05-18         1566         10   \n",
       "\n",
       "       categoría      tipo           severidad        prioridad  \\\n",
       "0  Acceso&%Login  Problema  0 - Sin Clasificar  0 - Sin Asignar   \n",
       "1  Acceso&%Login  Problema  0 - Sin Clasificar  0 - Sin Asignar   \n",
       "\n",
       "   días_resolución  satisfacción     semestre   año  \n",
       "0                0             5  2º semestre  2016  \n",
       "1                0             5   1 semestre  2016  "
      ]
     },
     "execution_count": 14,
     "metadata": {},
     "output_type": "execute_result"
    }
   ],
   "source": [
    "df_historico_copia.head(2)"
   ]
  },
  {
   "cell_type": "code",
   "execution_count": 15,
   "metadata": {},
   "outputs": [
    {
     "data": {
      "text/html": [
       "<div>\n",
       "<style scoped>\n",
       "    .dataframe tbody tr th:only-of-type {\n",
       "        vertical-align: middle;\n",
       "    }\n",
       "\n",
       "    .dataframe tbody tr th {\n",
       "        vertical-align: top;\n",
       "    }\n",
       "\n",
       "    .dataframe thead th {\n",
       "        text-align: right;\n",
       "    }\n",
       "</style>\n",
       "<table border=\"1\" class=\"dataframe\">\n",
       "  <thead>\n",
       "    <tr style=\"text-align: right;\">\n",
       "      <th></th>\n",
       "      <th>Unnamed: 0</th>\n",
       "      <th>Turno</th>\n",
       "      <th>ID Empleado</th>\n",
       "      <th>Apellido</th>\n",
       "      <th>Nombre</th>\n",
       "      <th>ID Puesto</th>\n",
       "      <th>Email</th>\n",
       "      <th>Puesto</th>\n",
       "      <th>Departamento</th>\n",
       "      <th>Tipo Puesto</th>\n",
       "    </tr>\n",
       "  </thead>\n",
       "  <tbody>\n",
       "    <tr>\n",
       "      <th>0</th>\n",
       "      <td>0</td>\n",
       "      <td>A</td>\n",
       "      <td>6.0</td>\n",
       "      <td>VILLA</td>\n",
       "      <td>JESUS</td>\n",
       "      <td>50-32200</td>\n",
       "      <td>jesus.villa@tractchun.com</td>\n",
       "      <td>Comprador de Materiales</td>\n",
       "      <td>CONTROL DE PRODUCCION</td>\n",
       "      <td>Administrativo</td>\n",
       "    </tr>\n",
       "    <tr>\n",
       "      <th>1</th>\n",
       "      <td>1</td>\n",
       "      <td>NaN</td>\n",
       "      <td>60.0</td>\n",
       "      <td>DIAZ</td>\n",
       "      <td>PATRICIA</td>\n",
       "      <td>50-32200</td>\n",
       "      <td>patricia.diaz@tractchun.com</td>\n",
       "      <td>Comprador de Materiales</td>\n",
       "      <td>CONTROL DE PRODUCCION</td>\n",
       "      <td>Administrativo</td>\n",
       "    </tr>\n",
       "  </tbody>\n",
       "</table>\n",
       "</div>"
      ],
      "text/plain": [
       "   Unnamed: 0 Turno  ID Empleado Apellido    Nombre ID Puesto  \\\n",
       "0           0     A          6.0    VILLA     JESUS  50-32200   \n",
       "1           1   NaN         60.0     DIAZ  PATRICIA  50-32200   \n",
       "\n",
       "                         Email                   Puesto  \\\n",
       "0    jesus.villa@tractchun.com  Comprador de Materiales   \n",
       "1  patricia.diaz@tractchun.com  Comprador de Materiales   \n",
       "\n",
       "            Departamento     Tipo Puesto  \n",
       "0  CONTROL DE PRODUCCION  Administrativo  \n",
       "1  CONTROL DE PRODUCCION  Administrativo  "
      ]
     },
     "execution_count": 15,
     "metadata": {},
     "output_type": "execute_result"
    }
   ],
   "source": [
    "df_ep_copia = df_ep.copy()\n",
    "df_ep_copia.head(2)"
   ]
  },
  {
   "attachments": {},
   "cell_type": "markdown",
   "metadata": {},
   "source": [
    "1. Cread una columna nueva y una función que nos de el mes en el que se solicitó el servicio. Tened en cuenta que todas las filas tienen la misma estructura. A la hora de escribir la función debemos tener en cuenta que puede que no haya la información de mes en la columna de la fecha. En ese caso devolved un nulo (NaN). (programación defensiva try/except)\n",
    "   \n",
    "   📌 Nota La fecha tendrá que ir formato de string como \"Enero\", \"Febrero\", etc.\n",
    "   💡 Pista 💡Podréis usar regex, pero no es estrictamente necesario."
   ]
  },
  {
   "cell_type": "code",
   "execution_count": 11,
   "metadata": {},
   "outputs": [],
   "source": [
    "import datetime"
   ]
  },
  {
   "cell_type": "code",
   "execution_count": 27,
   "metadata": {},
   "outputs": [
    {
     "data": {
      "text/html": [
       "<div>\n",
       "<style scoped>\n",
       "    .dataframe tbody tr th:only-of-type {\n",
       "        vertical-align: middle;\n",
       "    }\n",
       "\n",
       "    .dataframe tbody tr th {\n",
       "        vertical-align: top;\n",
       "    }\n",
       "\n",
       "    .dataframe thead th {\n",
       "        text-align: right;\n",
       "    }\n",
       "</style>\n",
       "<table border=\"1\" class=\"dataframe\">\n",
       "  <thead>\n",
       "    <tr style=\"text-align: right;\">\n",
       "      <th></th>\n",
       "      <th>Unnamed: 0</th>\n",
       "      <th>id_ticket</th>\n",
       "      <th>fecha</th>\n",
       "      <th>id_empleado</th>\n",
       "      <th>id_agente</th>\n",
       "      <th>categoría</th>\n",
       "      <th>tipo</th>\n",
       "      <th>severidad</th>\n",
       "      <th>prioridad</th>\n",
       "      <th>días_resolución</th>\n",
       "      <th>satisfacción</th>\n",
       "      <th>semestre</th>\n",
       "      <th>año</th>\n",
       "      <th>mes</th>\n",
       "    </tr>\n",
       "  </thead>\n",
       "  <tbody>\n",
       "    <tr>\n",
       "      <th>0</th>\n",
       "      <td>0</td>\n",
       "      <td>GDDENR-5042564453</td>\n",
       "      <td>2016-07-13</td>\n",
       "      <td>1735</td>\n",
       "      <td>4</td>\n",
       "      <td>Acceso&amp;%Login</td>\n",
       "      <td>Problema</td>\n",
       "      <td>0 - Sin Clasificar</td>\n",
       "      <td>0 - Sin Asignar</td>\n",
       "      <td>0</td>\n",
       "      <td>5</td>\n",
       "      <td>2º semestre</td>\n",
       "      <td>2016</td>\n",
       "      <td>July</td>\n",
       "    </tr>\n",
       "    <tr>\n",
       "      <th>1</th>\n",
       "      <td>1</td>\n",
       "      <td>GDDENR-8042508060</td>\n",
       "      <td>2016-05-18</td>\n",
       "      <td>1566</td>\n",
       "      <td>10</td>\n",
       "      <td>Acceso&amp;%Login</td>\n",
       "      <td>Problema</td>\n",
       "      <td>0 - Sin Clasificar</td>\n",
       "      <td>0 - Sin Asignar</td>\n",
       "      <td>0</td>\n",
       "      <td>5</td>\n",
       "      <td>1 semestre</td>\n",
       "      <td>2016</td>\n",
       "      <td>May</td>\n",
       "    </tr>\n",
       "    <tr>\n",
       "      <th>2</th>\n",
       "      <td>2</td>\n",
       "      <td>GDDESR-1342539995</td>\n",
       "      <td>2016-06-18</td>\n",
       "      <td>569</td>\n",
       "      <td>29</td>\n",
       "      <td>Sistema</td>\n",
       "      <td>Problema</td>\n",
       "      <td>0 - Sin Clasificar</td>\n",
       "      <td>0 - Sin Asignar</td>\n",
       "      <td>3</td>\n",
       "      <td>5</td>\n",
       "      <td>1 semestre</td>\n",
       "      <td>2016</td>\n",
       "      <td>June</td>\n",
       "    </tr>\n",
       "    <tr>\n",
       "      <th>3</th>\n",
       "      <td>3</td>\n",
       "      <td>GDDTSR-5942488006</td>\n",
       "      <td>2016-04-28</td>\n",
       "      <td>320</td>\n",
       "      <td>40</td>\n",
       "      <td>Sistema</td>\n",
       "      <td>Solicitud</td>\n",
       "      <td>0 - Sin Clasificar</td>\n",
       "      <td>0 - Sin Asignar</td>\n",
       "      <td>9</td>\n",
       "      <td>5</td>\n",
       "      <td>1 semestre</td>\n",
       "      <td>2016</td>\n",
       "      <td>April</td>\n",
       "    </tr>\n",
       "    <tr>\n",
       "      <th>4</th>\n",
       "      <td>4</td>\n",
       "      <td>GDLEER-0042524120</td>\n",
       "      <td>2016-06-03</td>\n",
       "      <td>1842</td>\n",
       "      <td>31</td>\n",
       "      <td>Software</td>\n",
       "      <td>Problema</td>\n",
       "      <td>2 - Normal</td>\n",
       "      <td>0 - Sin Asignar</td>\n",
       "      <td>0</td>\n",
       "      <td>5</td>\n",
       "      <td>1 semestre</td>\n",
       "      <td>2016</td>\n",
       "      <td>June</td>\n",
       "    </tr>\n",
       "    <tr>\n",
       "      <th>5</th>\n",
       "      <td>5</td>\n",
       "      <td>GDLEER-0142608095</td>\n",
       "      <td>2016-08-26</td>\n",
       "      <td>59</td>\n",
       "      <td>20</td>\n",
       "      <td>Software</td>\n",
       "      <td>Problema</td>\n",
       "      <td>2 - Normal</td>\n",
       "      <td>0 - Sin Asignar</td>\n",
       "      <td>1</td>\n",
       "      <td>1</td>\n",
       "      <td>2º semestre</td>\n",
       "      <td>2016</td>\n",
       "      <td>August</td>\n",
       "    </tr>\n",
       "    <tr>\n",
       "      <th>6</th>\n",
       "      <td>6</td>\n",
       "      <td>GDLEER-0242564650</td>\n",
       "      <td>2016-07-13</td>\n",
       "      <td>1175</td>\n",
       "      <td>36</td>\n",
       "      <td>Software</td>\n",
       "      <td>Problema</td>\n",
       "      <td>2 - Normal</td>\n",
       "      <td>0 - Sin Asignar</td>\n",
       "      <td>2</td>\n",
       "      <td>1</td>\n",
       "      <td>2º semestre</td>\n",
       "      <td>2016</td>\n",
       "      <td>July</td>\n",
       "    </tr>\n",
       "    <tr>\n",
       "      <th>7</th>\n",
       "      <td>7</td>\n",
       "      <td>GDLEER-0542574815</td>\n",
       "      <td>2016-07-23</td>\n",
       "      <td>561</td>\n",
       "      <td>18</td>\n",
       "      <td>Software</td>\n",
       "      <td>Problema</td>\n",
       "      <td>2 - Normal</td>\n",
       "      <td>0 - Sin Asignar</td>\n",
       "      <td>5</td>\n",
       "      <td>5</td>\n",
       "      <td>2º semestre</td>\n",
       "      <td>2016</td>\n",
       "      <td>July</td>\n",
       "    </tr>\n",
       "    <tr>\n",
       "      <th>8</th>\n",
       "      <td>8</td>\n",
       "      <td>GDLEER-0842457219</td>\n",
       "      <td>2016-03-28</td>\n",
       "      <td>71</td>\n",
       "      <td>12</td>\n",
       "      <td>Software</td>\n",
       "      <td>Problema</td>\n",
       "      <td>2 - Normal</td>\n",
       "      <td>0 - Sin Asignar</td>\n",
       "      <td>8</td>\n",
       "      <td>5</td>\n",
       "      <td>1 semestre</td>\n",
       "      <td>2016</td>\n",
       "      <td>March</td>\n",
       "    </tr>\n",
       "    <tr>\n",
       "      <th>9</th>\n",
       "      <td>9</td>\n",
       "      <td>GDLEER-1242542213</td>\n",
       "      <td>2016-06-21</td>\n",
       "      <td>1831</td>\n",
       "      <td>42</td>\n",
       "      <td>Software</td>\n",
       "      <td>Problema</td>\n",
       "      <td>2 - Normal</td>\n",
       "      <td>0 - Sin Asignar</td>\n",
       "      <td>2</td>\n",
       "      <td>5</td>\n",
       "      <td>1 semestre</td>\n",
       "      <td>2016</td>\n",
       "      <td>June</td>\n",
       "    </tr>\n",
       "  </tbody>\n",
       "</table>\n",
       "</div>"
      ],
      "text/plain": [
       "   Unnamed: 0          id_ticket      fecha  id_empleado  id_agente  \\\n",
       "0           0  GDDENR-5042564453 2016-07-13         1735          4   \n",
       "1           1  GDDENR-8042508060 2016-05-18         1566         10   \n",
       "2           2  GDDESR-1342539995 2016-06-18          569         29   \n",
       "3           3  GDDTSR-5942488006 2016-04-28          320         40   \n",
       "4           4  GDLEER-0042524120 2016-06-03         1842         31   \n",
       "5           5  GDLEER-0142608095 2016-08-26           59         20   \n",
       "6           6  GDLEER-0242564650 2016-07-13         1175         36   \n",
       "7           7  GDLEER-0542574815 2016-07-23          561         18   \n",
       "8           8  GDLEER-0842457219 2016-03-28           71         12   \n",
       "9           9  GDLEER-1242542213 2016-06-21         1831         42   \n",
       "\n",
       "       categoría       tipo           severidad        prioridad  \\\n",
       "0  Acceso&%Login   Problema  0 - Sin Clasificar  0 - Sin Asignar   \n",
       "1  Acceso&%Login   Problema  0 - Sin Clasificar  0 - Sin Asignar   \n",
       "2        Sistema   Problema  0 - Sin Clasificar  0 - Sin Asignar   \n",
       "3        Sistema  Solicitud  0 - Sin Clasificar  0 - Sin Asignar   \n",
       "4       Software   Problema          2 - Normal  0 - Sin Asignar   \n",
       "5       Software   Problema          2 - Normal  0 - Sin Asignar   \n",
       "6       Software   Problema          2 - Normal  0 - Sin Asignar   \n",
       "7       Software   Problema          2 - Normal  0 - Sin Asignar   \n",
       "8       Software   Problema          2 - Normal  0 - Sin Asignar   \n",
       "9       Software   Problema          2 - Normal  0 - Sin Asignar   \n",
       "\n",
       "   días_resolución  satisfacción     semestre   año     mes  \n",
       "0                0             5  2º semestre  2016    July  \n",
       "1                0             5   1 semestre  2016     May  \n",
       "2                3             5   1 semestre  2016    June  \n",
       "3                9             5   1 semestre  2016   April  \n",
       "4                0             5   1 semestre  2016    June  \n",
       "5                1             1  2º semestre  2016  August  \n",
       "6                2             1  2º semestre  2016    July  \n",
       "7                5             5  2º semestre  2016    July  \n",
       "8                8             5   1 semestre  2016   March  \n",
       "9                2             5   1 semestre  2016    June  "
      ]
     },
     "execution_count": 27,
     "metadata": {},
     "output_type": "execute_result"
    }
   ],
   "source": [
    "# para trabajar con esta librería lo primero que tenemos que hacer es convertir el tipo de la\n",
    "# columna \"fecha\" a formato datetime. Para eso usaremos un apply\n",
    "\n",
    "df_historico_copia[\"fecha\"] = df_historico_copia[\"fecha\"].apply(pd.to_datetime)\n",
    "df_historico_copia.head(10)"
   ]
  },
  {
   "cell_type": "code",
   "execution_count": 26,
   "metadata": {},
   "outputs": [
    {
     "data": {
      "text/plain": [
       "0"
      ]
     },
     "execution_count": 26,
     "metadata": {},
     "output_type": "execute_result"
    }
   ],
   "source": [
    "df_historico_copia[\"fecha\"].isnull().sum()"
   ]
  },
  {
   "cell_type": "code",
   "execution_count": 21,
   "metadata": {},
   "outputs": [],
   "source": [
    "#definimos la función para obtener el mes\n",
    "\n",
    "def sacar_mes(x):\n",
    "    try:\n",
    "        if type(x) == ## cómo completar esa parte\n",
    "            return x.strftime(\"%B\") #como queremos obtener el nombre del mes completo, hemos utilizado %B, según la documentación de Datetime\n",
    "    except:\n",
    "        return np.nan"
   ]
  },
  {
   "cell_type": "code",
   "execution_count": 24,
   "metadata": {},
   "outputs": [],
   "source": [
    "df_historico_copia[\"mes\"] = df_historico_copia[\"fecha\"].apply(sacar_mes)"
   ]
  },
  {
   "cell_type": "code",
   "execution_count": 25,
   "metadata": {},
   "outputs": [
    {
     "data": {
      "text/html": [
       "<div>\n",
       "<style scoped>\n",
       "    .dataframe tbody tr th:only-of-type {\n",
       "        vertical-align: middle;\n",
       "    }\n",
       "\n",
       "    .dataframe tbody tr th {\n",
       "        vertical-align: top;\n",
       "    }\n",
       "\n",
       "    .dataframe thead th {\n",
       "        text-align: right;\n",
       "    }\n",
       "</style>\n",
       "<table border=\"1\" class=\"dataframe\">\n",
       "  <thead>\n",
       "    <tr style=\"text-align: right;\">\n",
       "      <th></th>\n",
       "      <th>Unnamed: 0</th>\n",
       "      <th>id_ticket</th>\n",
       "      <th>fecha</th>\n",
       "      <th>id_empleado</th>\n",
       "      <th>id_agente</th>\n",
       "      <th>categoría</th>\n",
       "      <th>tipo</th>\n",
       "      <th>severidad</th>\n",
       "      <th>prioridad</th>\n",
       "      <th>días_resolución</th>\n",
       "      <th>satisfacción</th>\n",
       "      <th>semestre</th>\n",
       "      <th>año</th>\n",
       "      <th>mes</th>\n",
       "    </tr>\n",
       "  </thead>\n",
       "  <tbody>\n",
       "    <tr>\n",
       "      <th>0</th>\n",
       "      <td>0</td>\n",
       "      <td>GDDENR-5042564453</td>\n",
       "      <td>2016-07-13</td>\n",
       "      <td>1735</td>\n",
       "      <td>4</td>\n",
       "      <td>Acceso&amp;%Login</td>\n",
       "      <td>Problema</td>\n",
       "      <td>0 - Sin Clasificar</td>\n",
       "      <td>0 - Sin Asignar</td>\n",
       "      <td>0</td>\n",
       "      <td>5</td>\n",
       "      <td>2º semestre</td>\n",
       "      <td>2016</td>\n",
       "      <td>July</td>\n",
       "    </tr>\n",
       "    <tr>\n",
       "      <th>1</th>\n",
       "      <td>1</td>\n",
       "      <td>GDDENR-8042508060</td>\n",
       "      <td>2016-05-18</td>\n",
       "      <td>1566</td>\n",
       "      <td>10</td>\n",
       "      <td>Acceso&amp;%Login</td>\n",
       "      <td>Problema</td>\n",
       "      <td>0 - Sin Clasificar</td>\n",
       "      <td>0 - Sin Asignar</td>\n",
       "      <td>0</td>\n",
       "      <td>5</td>\n",
       "      <td>1 semestre</td>\n",
       "      <td>2016</td>\n",
       "      <td>May</td>\n",
       "    </tr>\n",
       "  </tbody>\n",
       "</table>\n",
       "</div>"
      ],
      "text/plain": [
       "   Unnamed: 0          id_ticket      fecha  id_empleado  id_agente  \\\n",
       "0           0  GDDENR-5042564453 2016-07-13         1735          4   \n",
       "1           1  GDDENR-8042508060 2016-05-18         1566         10   \n",
       "\n",
       "       categoría      tipo           severidad        prioridad  \\\n",
       "0  Acceso&%Login  Problema  0 - Sin Clasificar  0 - Sin Asignar   \n",
       "1  Acceso&%Login  Problema  0 - Sin Clasificar  0 - Sin Asignar   \n",
       "\n",
       "   días_resolución  satisfacción     semestre   año   mes  \n",
       "0                0             5  2º semestre  2016  July  \n",
       "1                0             5   1 semestre  2016   May  "
      ]
     },
     "execution_count": 25,
     "metadata": {},
     "output_type": "execute_result"
    }
   ],
   "source": [
    "df_historico_copia.head(2)"
   ]
  },
  {
   "attachments": {},
   "cell_type": "markdown",
   "metadata": {},
   "source": [
    "2. En la tabla de empleados, tenemos los nombres y los apellidos de los empleados, pero en columnas separadas. En los ejercicios de pair de la lección del groupby vimos que si quisieramos agrupar por los nombres, esto se nos puede complicar. Ahora nos piden que creemos una columna donde tengamos el nombre y el apellido juntos.\n",
    "   \n",
    "   📌 NOTA La columna nueva debe tener el nombre y apellido con la primera letra en mayúsculas, por ejemplo \"Jesús Villa\".\n",
    "\n",
    "   📌 NOTA Una vez hallamos creado la columna nueva, eliminad las columnas de nombre y apellido originales."
   ]
  },
  {
   "cell_type": "code",
   "execution_count": 28,
   "metadata": {},
   "outputs": [
    {
     "data": {
      "text/html": [
       "<div>\n",
       "<style scoped>\n",
       "    .dataframe tbody tr th:only-of-type {\n",
       "        vertical-align: middle;\n",
       "    }\n",
       "\n",
       "    .dataframe tbody tr th {\n",
       "        vertical-align: top;\n",
       "    }\n",
       "\n",
       "    .dataframe thead th {\n",
       "        text-align: right;\n",
       "    }\n",
       "</style>\n",
       "<table border=\"1\" class=\"dataframe\">\n",
       "  <thead>\n",
       "    <tr style=\"text-align: right;\">\n",
       "      <th></th>\n",
       "      <th>Unnamed: 0</th>\n",
       "      <th>Turno</th>\n",
       "      <th>ID Empleado</th>\n",
       "      <th>Apellido</th>\n",
       "      <th>Nombre</th>\n",
       "      <th>ID Puesto</th>\n",
       "      <th>Email</th>\n",
       "      <th>Puesto</th>\n",
       "      <th>Departamento</th>\n",
       "      <th>Tipo Puesto</th>\n",
       "    </tr>\n",
       "  </thead>\n",
       "  <tbody>\n",
       "    <tr>\n",
       "      <th>0</th>\n",
       "      <td>0</td>\n",
       "      <td>A</td>\n",
       "      <td>6.0</td>\n",
       "      <td>VILLA</td>\n",
       "      <td>JESUS</td>\n",
       "      <td>50-32200</td>\n",
       "      <td>jesus.villa@tractchun.com</td>\n",
       "      <td>Comprador de Materiales</td>\n",
       "      <td>CONTROL DE PRODUCCION</td>\n",
       "      <td>Administrativo</td>\n",
       "    </tr>\n",
       "    <tr>\n",
       "      <th>1</th>\n",
       "      <td>1</td>\n",
       "      <td>NaN</td>\n",
       "      <td>60.0</td>\n",
       "      <td>DIAZ</td>\n",
       "      <td>PATRICIA</td>\n",
       "      <td>50-32200</td>\n",
       "      <td>patricia.diaz@tractchun.com</td>\n",
       "      <td>Comprador de Materiales</td>\n",
       "      <td>CONTROL DE PRODUCCION</td>\n",
       "      <td>Administrativo</td>\n",
       "    </tr>\n",
       "  </tbody>\n",
       "</table>\n",
       "</div>"
      ],
      "text/plain": [
       "   Unnamed: 0 Turno  ID Empleado Apellido    Nombre ID Puesto  \\\n",
       "0           0     A          6.0    VILLA     JESUS  50-32200   \n",
       "1           1   NaN         60.0     DIAZ  PATRICIA  50-32200   \n",
       "\n",
       "                         Email                   Puesto  \\\n",
       "0    jesus.villa@tractchun.com  Comprador de Materiales   \n",
       "1  patricia.diaz@tractchun.com  Comprador de Materiales   \n",
       "\n",
       "            Departamento     Tipo Puesto  \n",
       "0  CONTROL DE PRODUCCION  Administrativo  \n",
       "1  CONTROL DE PRODUCCION  Administrativo  "
      ]
     },
     "execution_count": 28,
     "metadata": {},
     "output_type": "execute_result"
    }
   ],
   "source": [
    "df_ep.head(2)"
   ]
  },
  {
   "cell_type": "code",
   "execution_count": 35,
   "metadata": {},
   "outputs": [],
   "source": [
    "df_ep[\"Nombre completo\"] = df_ep[\"Nombre\"] + \" \" + df_ep[\"Apellido\"]"
   ]
  },
  {
   "cell_type": "code",
   "execution_count": 50,
   "metadata": {},
   "outputs": [],
   "source": [
    "df_ep[\"Nombre Completo\"] = df_ep[\"Nombre completo\"].apply(nombre_completo)"
   ]
  },
  {
   "cell_type": "code",
   "execution_count": null,
   "metadata": {},
   "outputs": [],
   "source": [
    "#A continuación borramos con drop...."
   ]
  },
  {
   "cell_type": "code",
   "execution_count": 51,
   "metadata": {},
   "outputs": [
    {
     "data": {
      "text/html": [
       "<div>\n",
       "<style scoped>\n",
       "    .dataframe tbody tr th:only-of-type {\n",
       "        vertical-align: middle;\n",
       "    }\n",
       "\n",
       "    .dataframe tbody tr th {\n",
       "        vertical-align: top;\n",
       "    }\n",
       "\n",
       "    .dataframe thead th {\n",
       "        text-align: right;\n",
       "    }\n",
       "</style>\n",
       "<table border=\"1\" class=\"dataframe\">\n",
       "  <thead>\n",
       "    <tr style=\"text-align: right;\">\n",
       "      <th></th>\n",
       "      <th>Unnamed: 0</th>\n",
       "      <th>Turno</th>\n",
       "      <th>ID Empleado</th>\n",
       "      <th>Apellido</th>\n",
       "      <th>Nombre</th>\n",
       "      <th>ID Puesto</th>\n",
       "      <th>Email</th>\n",
       "      <th>Puesto</th>\n",
       "      <th>Departamento</th>\n",
       "      <th>Tipo Puesto</th>\n",
       "      <th>Nombre completo</th>\n",
       "      <th>Nombre Completo</th>\n",
       "    </tr>\n",
       "  </thead>\n",
       "  <tbody>\n",
       "    <tr>\n",
       "      <th>0</th>\n",
       "      <td>0</td>\n",
       "      <td>A</td>\n",
       "      <td>6.0</td>\n",
       "      <td>VILLA</td>\n",
       "      <td>JESUS</td>\n",
       "      <td>50-32200</td>\n",
       "      <td>jesus.villa@tractchun.com</td>\n",
       "      <td>Comprador de Materiales</td>\n",
       "      <td>CONTROL DE PRODUCCION</td>\n",
       "      <td>Administrativo</td>\n",
       "      <td>JESUS VILLA</td>\n",
       "      <td>Jesus Villa</td>\n",
       "    </tr>\n",
       "    <tr>\n",
       "      <th>1</th>\n",
       "      <td>1</td>\n",
       "      <td>NaN</td>\n",
       "      <td>60.0</td>\n",
       "      <td>DIAZ</td>\n",
       "      <td>PATRICIA</td>\n",
       "      <td>50-32200</td>\n",
       "      <td>patricia.diaz@tractchun.com</td>\n",
       "      <td>Comprador de Materiales</td>\n",
       "      <td>CONTROL DE PRODUCCION</td>\n",
       "      <td>Administrativo</td>\n",
       "      <td>PATRICIA DIAZ</td>\n",
       "      <td>Patricia Diaz</td>\n",
       "    </tr>\n",
       "  </tbody>\n",
       "</table>\n",
       "</div>"
      ],
      "text/plain": [
       "   Unnamed: 0 Turno  ID Empleado Apellido    Nombre ID Puesto  \\\n",
       "0           0     A          6.0    VILLA     JESUS  50-32200   \n",
       "1           1   NaN         60.0     DIAZ  PATRICIA  50-32200   \n",
       "\n",
       "                         Email                   Puesto  \\\n",
       "0    jesus.villa@tractchun.com  Comprador de Materiales   \n",
       "1  patricia.diaz@tractchun.com  Comprador de Materiales   \n",
       "\n",
       "            Departamento     Tipo Puesto Nombre completo Nombre Completo  \n",
       "0  CONTROL DE PRODUCCION  Administrativo     JESUS VILLA     Jesus Villa  \n",
       "1  CONTROL DE PRODUCCION  Administrativo   PATRICIA DIAZ   Patricia Diaz  "
      ]
     },
     "execution_count": 51,
     "metadata": {},
     "output_type": "execute_result"
    }
   ],
   "source": [
    "df_ep.head(2)"
   ]
  },
  {
   "cell_type": "code",
   "execution_count": 46,
   "metadata": {},
   "outputs": [
    {
     "data": {
      "text/plain": [
       "22"
      ]
     },
     "execution_count": 46,
     "metadata": {},
     "output_type": "execute_result"
    }
   ],
   "source": [
    "df_ep[\"Nombre completo\"].isnull().sum()"
   ]
  },
  {
   "cell_type": "code",
   "execution_count": 36,
   "metadata": {},
   "outputs": [
    {
     "data": {
      "text/html": [
       "<div>\n",
       "<style scoped>\n",
       "    .dataframe tbody tr th:only-of-type {\n",
       "        vertical-align: middle;\n",
       "    }\n",
       "\n",
       "    .dataframe tbody tr th {\n",
       "        vertical-align: top;\n",
       "    }\n",
       "\n",
       "    .dataframe thead th {\n",
       "        text-align: right;\n",
       "    }\n",
       "</style>\n",
       "<table border=\"1\" class=\"dataframe\">\n",
       "  <thead>\n",
       "    <tr style=\"text-align: right;\">\n",
       "      <th></th>\n",
       "      <th>Unnamed: 0</th>\n",
       "      <th>Turno</th>\n",
       "      <th>ID Empleado</th>\n",
       "      <th>Apellido</th>\n",
       "      <th>Nombre</th>\n",
       "      <th>ID Puesto</th>\n",
       "      <th>Email</th>\n",
       "      <th>Puesto</th>\n",
       "      <th>Departamento</th>\n",
       "      <th>Tipo Puesto</th>\n",
       "      <th>Nombre completo</th>\n",
       "    </tr>\n",
       "  </thead>\n",
       "  <tbody>\n",
       "    <tr>\n",
       "      <th>0</th>\n",
       "      <td>0</td>\n",
       "      <td>A</td>\n",
       "      <td>6.0</td>\n",
       "      <td>VILLA</td>\n",
       "      <td>JESUS</td>\n",
       "      <td>50-32200</td>\n",
       "      <td>jesus.villa@tractchun.com</td>\n",
       "      <td>Comprador de Materiales</td>\n",
       "      <td>CONTROL DE PRODUCCION</td>\n",
       "      <td>Administrativo</td>\n",
       "      <td>JESUS VILLA</td>\n",
       "    </tr>\n",
       "    <tr>\n",
       "      <th>1</th>\n",
       "      <td>1</td>\n",
       "      <td>NaN</td>\n",
       "      <td>60.0</td>\n",
       "      <td>DIAZ</td>\n",
       "      <td>PATRICIA</td>\n",
       "      <td>50-32200</td>\n",
       "      <td>patricia.diaz@tractchun.com</td>\n",
       "      <td>Comprador de Materiales</td>\n",
       "      <td>CONTROL DE PRODUCCION</td>\n",
       "      <td>Administrativo</td>\n",
       "      <td>PATRICIA DIAZ</td>\n",
       "    </tr>\n",
       "  </tbody>\n",
       "</table>\n",
       "</div>"
      ],
      "text/plain": [
       "   Unnamed: 0 Turno  ID Empleado Apellido    Nombre ID Puesto  \\\n",
       "0           0     A          6.0    VILLA     JESUS  50-32200   \n",
       "1           1   NaN         60.0     DIAZ  PATRICIA  50-32200   \n",
       "\n",
       "                         Email                   Puesto  \\\n",
       "0    jesus.villa@tractchun.com  Comprador de Materiales   \n",
       "1  patricia.diaz@tractchun.com  Comprador de Materiales   \n",
       "\n",
       "            Departamento     Tipo Puesto Nombre completo  \n",
       "0  CONTROL DE PRODUCCION  Administrativo     JESUS VILLA  \n",
       "1  CONTROL DE PRODUCCION  Administrativo   PATRICIA DIAZ  "
      ]
     },
     "execution_count": 36,
     "metadata": {},
     "output_type": "execute_result"
    }
   ],
   "source": [
    "df_ep.head(2)"
   ]
  },
  {
   "cell_type": "code",
   "execution_count": 47,
   "metadata": {},
   "outputs": [],
   "source": [
    "def nombre_completo(nombre):\n",
    "    if type(nombre) != float:\n",
    "        try:\n",
    "            nombre1 = nombre.title()\n",
    "            return nombre1 \n",
    "        except:\n",
    "            pass"
   ]
  },
  {
   "cell_type": "code",
   "execution_count": null,
   "metadata": {},
   "outputs": [],
   "source": [
    "#Hemos visto que se puede hacer también creando una función con dos parámetros.\n",
    "#Esto significa que a la hora de pasar el apply, tendríamos que hacerlo con una lambda"
   ]
  },
  {
   "cell_type": "code",
   "execution_count": 42,
   "metadata": {},
   "outputs": [],
   "source": [
    "def nombre_completo(nombre, apellido):\n",
    "    nombre1 = nombre.title()\n",
    "    apellido1 = apellido.title()\n",
    "    return nombre1 + \" \" + apellido1 # si ponemos solo coma, nos sale una tupla con los elementos separados por coma"
   ]
  },
  {
   "cell_type": "code",
   "execution_count": 38,
   "metadata": {},
   "outputs": [],
   "source": [
    "nombre = \"ANNA\"\n",
    "apellido = \"PÉREZ\""
   ]
  },
  {
   "cell_type": "code",
   "execution_count": 43,
   "metadata": {},
   "outputs": [
    {
     "data": {
      "text/plain": [
       "'Anna Pérez'"
      ]
     },
     "execution_count": 43,
     "metadata": {},
     "output_type": "execute_result"
    }
   ],
   "source": [
    "nombre_completo (nombre, apellido)"
   ]
  },
  {
   "attachments": {},
   "cell_type": "markdown",
   "metadata": {},
   "source": [
    "3. En el pair programming desde a dirección nos pedían que agruparamos los datos en base a la columna de \"categoría\", puede que en aquel momento nos dieramos cuenta que había varías categorías que eran igual (en concreto \"Acceso Login\") pero que en algunos casos tenía unos símbolos raros (&, %, -). Es el momento de limpiar esta columna. El objetivo, reemplazar todos estos símbolos raros por \"/\", para conseguir homogeneizar los valores de esta columna. Para ellos deberemos crear una función."
   ]
  },
  {
   "cell_type": "code",
   "execution_count": 52,
   "metadata": {},
   "outputs": [
    {
     "data": {
      "text/html": [
       "<div>\n",
       "<style scoped>\n",
       "    .dataframe tbody tr th:only-of-type {\n",
       "        vertical-align: middle;\n",
       "    }\n",
       "\n",
       "    .dataframe tbody tr th {\n",
       "        vertical-align: top;\n",
       "    }\n",
       "\n",
       "    .dataframe thead th {\n",
       "        text-align: right;\n",
       "    }\n",
       "</style>\n",
       "<table border=\"1\" class=\"dataframe\">\n",
       "  <thead>\n",
       "    <tr style=\"text-align: right;\">\n",
       "      <th></th>\n",
       "      <th>Unnamed: 0</th>\n",
       "      <th>id_ticket</th>\n",
       "      <th>fecha</th>\n",
       "      <th>id_empleado</th>\n",
       "      <th>id_agente</th>\n",
       "      <th>categoría</th>\n",
       "      <th>tipo</th>\n",
       "      <th>severidad</th>\n",
       "      <th>prioridad</th>\n",
       "      <th>días_resolución</th>\n",
       "      <th>satisfacción</th>\n",
       "      <th>semestre</th>\n",
       "      <th>año</th>\n",
       "      <th>mes</th>\n",
       "    </tr>\n",
       "  </thead>\n",
       "  <tbody>\n",
       "    <tr>\n",
       "      <th>0</th>\n",
       "      <td>0</td>\n",
       "      <td>GDDENR-5042564453</td>\n",
       "      <td>2016-07-13</td>\n",
       "      <td>1735</td>\n",
       "      <td>4</td>\n",
       "      <td>Acceso&amp;%Login</td>\n",
       "      <td>Problema</td>\n",
       "      <td>0 - Sin Clasificar</td>\n",
       "      <td>0 - Sin Asignar</td>\n",
       "      <td>0</td>\n",
       "      <td>5</td>\n",
       "      <td>2º semestre</td>\n",
       "      <td>2016</td>\n",
       "      <td>July</td>\n",
       "    </tr>\n",
       "    <tr>\n",
       "      <th>1</th>\n",
       "      <td>1</td>\n",
       "      <td>GDDENR-8042508060</td>\n",
       "      <td>2016-05-18</td>\n",
       "      <td>1566</td>\n",
       "      <td>10</td>\n",
       "      <td>Acceso&amp;%Login</td>\n",
       "      <td>Problema</td>\n",
       "      <td>0 - Sin Clasificar</td>\n",
       "      <td>0 - Sin Asignar</td>\n",
       "      <td>0</td>\n",
       "      <td>5</td>\n",
       "      <td>1 semestre</td>\n",
       "      <td>2016</td>\n",
       "      <td>May</td>\n",
       "    </tr>\n",
       "  </tbody>\n",
       "</table>\n",
       "</div>"
      ],
      "text/plain": [
       "   Unnamed: 0          id_ticket      fecha  id_empleado  id_agente  \\\n",
       "0           0  GDDENR-5042564453 2016-07-13         1735          4   \n",
       "1           1  GDDENR-8042508060 2016-05-18         1566         10   \n",
       "\n",
       "       categoría      tipo           severidad        prioridad  \\\n",
       "0  Acceso&%Login  Problema  0 - Sin Clasificar  0 - Sin Asignar   \n",
       "1  Acceso&%Login  Problema  0 - Sin Clasificar  0 - Sin Asignar   \n",
       "\n",
       "   días_resolución  satisfacción     semestre   año   mes  \n",
       "0                0             5  2º semestre  2016  July  \n",
       "1                0             5   1 semestre  2016   May  "
      ]
     },
     "execution_count": 52,
     "metadata": {},
     "output_type": "execute_result"
    }
   ],
   "source": [
    "df_historico_copia.head(1)"
   ]
  },
  {
   "cell_type": "code",
   "execution_count": 53,
   "metadata": {},
   "outputs": [
    {
     "data": {
      "text/plain": [
       "array(['Acceso&%Login', 'Sistema', 'Software', 'Hardware',\n",
       "       'Acceso%&Login', 'Acceso-&Login', 'Acceso99Login', 'Acceso/Login'],\n",
       "      dtype=object)"
      ]
     },
     "execution_count": 53,
     "metadata": {},
     "output_type": "execute_result"
    }
   ],
   "source": [
    "df_historico_copia[\"categoría\"].unique()"
   ]
  },
  {
   "cell_type": "code",
   "execution_count": null,
   "metadata": {},
   "outputs": [],
   "source": [
    "# qué necesitamos?\n",
    "# eliminar símbolos raros &, %, - y reemplazarlos por /\n",
    "# quizá crear un patrón de regex???\n"
   ]
  },
  {
   "attachments": {},
   "cell_type": "markdown",
   "metadata": {},
   "source": [
    "4. Una vez que hayáis terminado eliminad las columnas originales conservando las nuevas."
   ]
  },
  {
   "cell_type": "code",
   "execution_count": null,
   "metadata": {},
   "outputs": [],
   "source": []
  },
  {
   "attachments": {},
   "cell_type": "markdown",
   "metadata": {},
   "source": [
    "5. Guardad el dataframe en un csv que usaremos más adelante"
   ]
  },
  {
   "cell_type": "code",
   "execution_count": null,
   "metadata": {},
   "outputs": [],
   "source": []
  }
 ],
 "metadata": {
  "kernelspec": {
   "display_name": "adalabenv",
   "language": "python",
   "name": "python3"
  },
  "language_info": {
   "codemirror_mode": {
    "name": "ipython",
    "version": 3
   },
   "file_extension": ".py",
   "mimetype": "text/x-python",
   "name": "python",
   "nbconvert_exporter": "python",
   "pygments_lexer": "ipython3",
   "version": "3.10.9"
  },
  "orig_nbformat": 4,
  "vscode": {
   "interpreter": {
    "hash": "0b8bbabd87d3ce636409443d1398e5656bf795e33c753b5e821c4b969f4e6c41"
   }
  }
 },
 "nbformat": 4,
 "nbformat_minor": 2
}
