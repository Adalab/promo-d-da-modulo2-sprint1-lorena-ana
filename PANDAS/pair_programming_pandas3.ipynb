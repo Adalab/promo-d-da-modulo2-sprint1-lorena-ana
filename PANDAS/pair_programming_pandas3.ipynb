{
 "cells": [
  {
   "attachments": {},
   "cell_type": "markdown",
   "metadata": {},
   "source": [
    "# PANDAS 3 PAIR PROGRAMMING"
   ]
  },
  {
   "cell_type": "code",
   "execution_count": 3,
   "metadata": {},
   "outputs": [
    {
     "data": {
      "text/plain": [
       "'/home/adalaber/Escritorio/ADALAB/LORENA/CLASES/modulo2/pair-programming/promo-d-da-modulo2-sprint1-lorena-ana/PANDAS'"
      ]
     },
     "execution_count": 3,
     "metadata": {},
     "output_type": "execute_result"
    }
   ],
   "source": [
    "import pandas as pd\n",
    "\n",
    "import os\n",
    "\n",
    "os.getcwd() "
   ]
  },
  {
   "attachments": {},
   "cell_type": "markdown",
   "metadata": {},
   "source": [
    "\n",
    "Tareas a realizar en este pair programming\n",
    "\n",
    "\n",
    "- La exploración de datos es una parte crítica del proceso de análisis de datos. \n",
    "    Para los analistas de datos, hacer una exploración de datos con Pandas es importante por varias razones:\n",
    "\n",
    "- Comprender los datos: antes de comenzar a analizar datos, es importante comprender los datos con los que se está trabajando.\n",
    "\n",
    "- Identificar problemas de calidad de datos: los datos pueden contener errores, valores faltantes o datos duplicados. Al utilizar Pandas, como analistas de datos podemos identificar rápidamente estos problemas y determinar la mejor manera de abordarlos antes de comenzar a analizar los datos.\n",
    "\n",
    "- Identificar patrones y tendencias: al explorar los datos con Pandas, los analistas de datos podemos identificar patrones y tendencias en los datos que pueden ayudar a generar ideas y obtener información valiosa."
   ]
  },
  {
   "attachments": {},
   "cell_type": "markdown",
   "metadata": {},
   "source": [
    "\n",
    "En resumen, hacer una exploración de datos con Pandas es esencial para cualquier analista de datos, ya que puede ayudar a comprender los datos, identificar problemas de calidad de datos, identificar patrones y tendencias y visualizar los datos para una mejor comprensión y presentación de los resultados del análisis. En los próximos pair programmings vamos a empezar a explorar los datos para identificar posibles problemas en los datos, comprender los datos y familiarizanos con ellos."
   ]
  },
  {
   "attachments": {},
   "cell_type": "markdown",
   "metadata": {},
   "source": [
    "\n",
    "1. Cargar todos los datasets que os hemos compartido en este pair programming"
   ]
  },
  {
   "cell_type": "code",
   "execution_count": 5,
   "metadata": {},
   "outputs": [],
   "source": [
    "\n",
    "df_csv1 = pd.read_csv('datos/Agentes.csv')\n",
    "df_csv =  pd.read_csv('datos/Empleados.csv')\n",
    "df_xlsx = pd.read_excel('datos/2016.xlsx')"
   ]
  },
  {
   "attachments": {},
   "cell_type": "markdown",
   "metadata": {},
   "source": [
    "2. Haced una exploración básica cada uno de los DataFrames, esta exploración debe incluir:"
   ]
  },
  {
   "attachments": {},
   "cell_type": "markdown",
   "metadata": {},
   "source": [
    "¿Cuántas filas y columnas tiene el DataFrame?"
   ]
  },
  {
   "cell_type": "code",
   "execution_count": 6,
   "metadata": {},
   "outputs": [
    {
     "data": {
      "text/plain": [
       "(13051, 12)"
      ]
     },
     "execution_count": 6,
     "metadata": {},
     "output_type": "execute_result"
    }
   ],
   "source": [
    "df_csv1.shape\n",
    "\n"
   ]
  },
  {
   "cell_type": "code",
   "execution_count": null,
   "metadata": {},
   "outputs": [],
   "source": [
    "df_csv.shape\n",
    "\n"
   ]
  },
  {
   "cell_type": "code",
   "execution_count": null,
   "metadata": {},
   "outputs": [],
   "source": [
    "df_xlsx.shape "
   ]
  },
  {
   "attachments": {},
   "cell_type": "markdown",
   "metadata": {},
   "source": [
    "\n",
    "Mostrad las primeras cinco filas y las últimas cinco filas del DataFrame.\n"
   ]
  },
  {
   "cell_type": "code",
   "execution_count": 7,
   "metadata": {},
   "outputs": [
    {
     "data": {
      "text/html": [
       "<div>\n",
       "<style scoped>\n",
       "    .dataframe tbody tr th:only-of-type {\n",
       "        vertical-align: middle;\n",
       "    }\n",
       "\n",
       "    .dataframe tbody tr th {\n",
       "        vertical-align: top;\n",
       "    }\n",
       "\n",
       "    .dataframe thead th {\n",
       "        text-align: right;\n",
       "    }\n",
       "</style>\n",
       "<table border=\"1\" class=\"dataframe\">\n",
       "  <thead>\n",
       "    <tr style=\"text-align: right;\">\n",
       "      <th></th>\n",
       "      <th>ID Ticket</th>\n",
       "      <th>Fecha</th>\n",
       "      <th>ID Empleado</th>\n",
       "      <th>ID Agente</th>\n",
       "      <th>Categoría</th>\n",
       "      <th>Tipo</th>\n",
       "      <th>Severidad</th>\n",
       "      <th>Prioridad</th>\n",
       "      <th>Días Resolución</th>\n",
       "      <th>Satisfacción</th>\n",
       "      <th>Web</th>\n",
       "      <th>Índice</th>\n",
       "    </tr>\n",
       "  </thead>\n",
       "  <tbody>\n",
       "    <tr>\n",
       "      <th>0</th>\n",
       "      <td>GDDENR-5042564453</td>\n",
       "      <td>2016-07-13</td>\n",
       "      <td>1735.0</td>\n",
       "      <td>4.0</td>\n",
       "      <td>Acceso&amp;%Login</td>\n",
       "      <td>Problema</td>\n",
       "      <td>0 - Sin Clasificar</td>\n",
       "      <td>0 - Sin Asignar</td>\n",
       "      <td>0.0</td>\n",
       "      <td>5.0</td>\n",
       "      <td>www.tractchun.es</td>\n",
       "      <td>1.0</td>\n",
       "    </tr>\n",
       "    <tr>\n",
       "      <th>1</th>\n",
       "      <td>GDDENR-8042508060</td>\n",
       "      <td>2016-05-18</td>\n",
       "      <td>1566.0</td>\n",
       "      <td>10.0</td>\n",
       "      <td>Acceso&amp;%Login</td>\n",
       "      <td>Problema</td>\n",
       "      <td>0 - Sin Clasificar</td>\n",
       "      <td>0 - Sin Asignar</td>\n",
       "      <td>0.0</td>\n",
       "      <td>5.0</td>\n",
       "      <td>www.tractchun.es</td>\n",
       "      <td>1.0</td>\n",
       "    </tr>\n",
       "    <tr>\n",
       "      <th>2</th>\n",
       "      <td>GDDESR-1342539995</td>\n",
       "      <td>2016-06-18</td>\n",
       "      <td>569.0</td>\n",
       "      <td>29.0</td>\n",
       "      <td>Sistema</td>\n",
       "      <td>Problema</td>\n",
       "      <td>0 - Sin Clasificar</td>\n",
       "      <td>0 - Sin Asignar</td>\n",
       "      <td>3.0</td>\n",
       "      <td>5.0</td>\n",
       "      <td>www.tractchun.es</td>\n",
       "      <td>1.0</td>\n",
       "    </tr>\n",
       "    <tr>\n",
       "      <th>3</th>\n",
       "      <td>GDDTSR-5942488006</td>\n",
       "      <td>2016-04-28</td>\n",
       "      <td>320.0</td>\n",
       "      <td>40.0</td>\n",
       "      <td>Sistema</td>\n",
       "      <td>Solicitud</td>\n",
       "      <td>0 - Sin Clasificar</td>\n",
       "      <td>0 - Sin Asignar</td>\n",
       "      <td>9.0</td>\n",
       "      <td>5.0</td>\n",
       "      <td>www.tractchun.es</td>\n",
       "      <td>1.0</td>\n",
       "    </tr>\n",
       "    <tr>\n",
       "      <th>4</th>\n",
       "      <td>GDLEER-0042524120</td>\n",
       "      <td>2016-06-03</td>\n",
       "      <td>1842.0</td>\n",
       "      <td>31.0</td>\n",
       "      <td>Software</td>\n",
       "      <td>Problema</td>\n",
       "      <td>2 - Normal</td>\n",
       "      <td>0 - Sin Asignar</td>\n",
       "      <td>0.0</td>\n",
       "      <td>5.0</td>\n",
       "      <td>www.tractchun.es</td>\n",
       "      <td>1.0</td>\n",
       "    </tr>\n",
       "  </tbody>\n",
       "</table>\n",
       "</div>"
      ],
      "text/plain": [
       "           ID Ticket      Fecha  ID Empleado  ID Agente      Categoría  \\\n",
       "0  GDDENR-5042564453 2016-07-13       1735.0        4.0  Acceso&%Login   \n",
       "1  GDDENR-8042508060 2016-05-18       1566.0       10.0  Acceso&%Login   \n",
       "2  GDDESR-1342539995 2016-06-18        569.0       29.0        Sistema   \n",
       "3  GDDTSR-5942488006 2016-04-28        320.0       40.0        Sistema   \n",
       "4  GDLEER-0042524120 2016-06-03       1842.0       31.0       Software   \n",
       "\n",
       "        Tipo           Severidad        Prioridad  Días Resolución  \\\n",
       "0   Problema  0 - Sin Clasificar  0 - Sin Asignar              0.0   \n",
       "1   Problema  0 - Sin Clasificar  0 - Sin Asignar              0.0   \n",
       "2   Problema  0 - Sin Clasificar  0 - Sin Asignar              3.0   \n",
       "3  Solicitud  0 - Sin Clasificar  0 - Sin Asignar              9.0   \n",
       "4   Problema          2 - Normal  0 - Sin Asignar              0.0   \n",
       "\n",
       "   Satisfacción               Web  Índice   \n",
       "0           5.0  www.tractchun.es      1.0  \n",
       "1           5.0  www.tractchun.es      1.0  \n",
       "2           5.0  www.tractchun.es      1.0  \n",
       "3           5.0  www.tractchun.es      1.0  \n",
       "4           5.0  www.tractchun.es      1.0  "
      ]
     },
     "execution_count": 7,
     "metadata": {},
     "output_type": "execute_result"
    }
   ],
   "source": [
    "\n",
    "df_csv1.head(5)\n",
    "\n",
    "df_csv.head(5)\n",
    "\n",
    "df_xlsx.head(5)\n",
    "\n"
   ]
  },
  {
   "cell_type": "code",
   "execution_count": 8,
   "metadata": {},
   "outputs": [
    {
     "data": {
      "text/html": [
       "<div>\n",
       "<style scoped>\n",
       "    .dataframe tbody tr th:only-of-type {\n",
       "        vertical-align: middle;\n",
       "    }\n",
       "\n",
       "    .dataframe tbody tr th {\n",
       "        vertical-align: top;\n",
       "    }\n",
       "\n",
       "    .dataframe thead th {\n",
       "        text-align: right;\n",
       "    }\n",
       "</style>\n",
       "<table border=\"1\" class=\"dataframe\">\n",
       "  <thead>\n",
       "    <tr style=\"text-align: right;\">\n",
       "      <th></th>\n",
       "      <th>ID Ticket</th>\n",
       "      <th>Fecha</th>\n",
       "      <th>ID Empleado</th>\n",
       "      <th>ID Agente</th>\n",
       "      <th>Categoría</th>\n",
       "      <th>Tipo</th>\n",
       "      <th>Severidad</th>\n",
       "      <th>Prioridad</th>\n",
       "      <th>Días Resolución</th>\n",
       "      <th>Satisfacción</th>\n",
       "      <th>Web</th>\n",
       "      <th>Índice</th>\n",
       "    </tr>\n",
       "  </thead>\n",
       "  <tbody>\n",
       "    <tr>\n",
       "      <th>13046</th>\n",
       "      <td>TWRTSR-6442574526</td>\n",
       "      <td>2016-07-23</td>\n",
       "      <td>962.0</td>\n",
       "      <td>25.0</td>\n",
       "      <td>Sistema</td>\n",
       "      <td>Solicitud</td>\n",
       "      <td>1 - Menor</td>\n",
       "      <td>1 - Baja</td>\n",
       "      <td>14.0</td>\n",
       "      <td>4.0</td>\n",
       "      <td>www.tractchun.es</td>\n",
       "      <td>1.0</td>\n",
       "    </tr>\n",
       "    <tr>\n",
       "      <th>13047</th>\n",
       "      <td>TWRTSR-7142570866</td>\n",
       "      <td>2016-07-19</td>\n",
       "      <td>126.0</td>\n",
       "      <td>38.0</td>\n",
       "      <td>Sistema</td>\n",
       "      <td>Solicitud</td>\n",
       "      <td>3 - Mayor</td>\n",
       "      <td>1 - Baja</td>\n",
       "      <td>13.0</td>\n",
       "      <td>5.0</td>\n",
       "      <td>www.tractchun.es</td>\n",
       "      <td>1.0</td>\n",
       "    </tr>\n",
       "    <tr>\n",
       "      <th>13048</th>\n",
       "      <td>TWRTSR-7742498308</td>\n",
       "      <td>2016-05-08</td>\n",
       "      <td>510.0</td>\n",
       "      <td>3.0</td>\n",
       "      <td>Sistema</td>\n",
       "      <td>Solicitud</td>\n",
       "      <td>3 - Mayor</td>\n",
       "      <td>1 - Baja</td>\n",
       "      <td>2.0</td>\n",
       "      <td>5.0</td>\n",
       "      <td>www.tractchun.es</td>\n",
       "      <td>1.0</td>\n",
       "    </tr>\n",
       "    <tr>\n",
       "      <th>13049</th>\n",
       "      <td>TWRTSR-8642558628</td>\n",
       "      <td>2016-07-07</td>\n",
       "      <td>1942.0</td>\n",
       "      <td>26.0</td>\n",
       "      <td>Sistema</td>\n",
       "      <td>Solicitud</td>\n",
       "      <td>1 - Menor</td>\n",
       "      <td>1 - Baja</td>\n",
       "      <td>16.0</td>\n",
       "      <td>4.0</td>\n",
       "      <td>www.tractchun.es</td>\n",
       "      <td>1.0</td>\n",
       "    </tr>\n",
       "    <tr>\n",
       "      <th>13050</th>\n",
       "      <td>TWRTSR-8742628897</td>\n",
       "      <td>2016-09-15</td>\n",
       "      <td>919.0</td>\n",
       "      <td>8.0</td>\n",
       "      <td>Sistema</td>\n",
       "      <td>Solicitud</td>\n",
       "      <td>1 - Menor</td>\n",
       "      <td>1 - Baja</td>\n",
       "      <td>7.0</td>\n",
       "      <td>4.0</td>\n",
       "      <td>www.tractchun.es</td>\n",
       "      <td>1.0</td>\n",
       "    </tr>\n",
       "  </tbody>\n",
       "</table>\n",
       "</div>"
      ],
      "text/plain": [
       "               ID Ticket      Fecha  ID Empleado  ID Agente Categoría  \\\n",
       "13046  TWRTSR-6442574526 2016-07-23        962.0       25.0   Sistema   \n",
       "13047  TWRTSR-7142570866 2016-07-19        126.0       38.0   Sistema   \n",
       "13048  TWRTSR-7742498308 2016-05-08        510.0        3.0   Sistema   \n",
       "13049  TWRTSR-8642558628 2016-07-07       1942.0       26.0   Sistema   \n",
       "13050  TWRTSR-8742628897 2016-09-15        919.0        8.0   Sistema   \n",
       "\n",
       "            Tipo  Severidad Prioridad  Días Resolución  Satisfacción  \\\n",
       "13046  Solicitud  1 - Menor  1 - Baja             14.0           4.0   \n",
       "13047  Solicitud  3 - Mayor  1 - Baja             13.0           5.0   \n",
       "13048  Solicitud  3 - Mayor  1 - Baja              2.0           5.0   \n",
       "13049  Solicitud  1 - Menor  1 - Baja             16.0           4.0   \n",
       "13050  Solicitud  1 - Menor  1 - Baja              7.0           4.0   \n",
       "\n",
       "                    Web  Índice   \n",
       "13046  www.tractchun.es      1.0  \n",
       "13047  www.tractchun.es      1.0  \n",
       "13048  www.tractchun.es      1.0  \n",
       "13049  www.tractchun.es      1.0  \n",
       "13050  www.tractchun.es      1.0  "
      ]
     },
     "execution_count": 8,
     "metadata": {},
     "output_type": "execute_result"
    }
   ],
   "source": [
    "df_csv1.tail(5)\n",
    "\n",
    "df_csv.tail(5)\n",
    "\n",
    "df_xlsx.tail(5)"
   ]
  },
  {
   "attachments": {},
   "cell_type": "markdown",
   "metadata": {},
   "source": [
    "\n",
    "Mostrad 2 filas al azar del DataFrame.\n"
   ]
  },
  {
   "cell_type": "code",
   "execution_count": null,
   "metadata": {},
   "outputs": [
    {
     "ename": "",
     "evalue": "",
     "output_type": "error",
     "traceback": [
      "\u001b[1;31mThe kernel failed to start as the Python Environment '/home/adalaber/anaconda3/envs/py39' is no longer available. Consider selecting another kernel or refreshing the list of Python Environments."
     ]
    }
   ],
   "source": [
    "\n",
    "df_csv1.sample(2)\n",
    "\n",
    "df_csv.sample(2)\n",
    "\n",
    "df_xlsx.sample(2)"
   ]
  },
  {
   "attachments": {},
   "cell_type": "markdown",
   "metadata": {},
   "source": [
    "\n",
    "¿Cuál es el nombre de las columnas del DataFrame?\n"
   ]
  },
  {
   "cell_type": "code",
   "execution_count": null,
   "metadata": {},
   "outputs": [
    {
     "ename": "",
     "evalue": "",
     "output_type": "error",
     "traceback": [
      "\u001b[1;31mThe kernel failed to start as the Python Environment '/home/adalaber/anaconda3/envs/py39' is no longer available. Consider selecting another kernel or refreshing the list of Python Environments."
     ]
    }
   ],
   "source": [
    "\n",
    "df_csv1.columns\n",
    "\n",
    "df_csv.columns\n",
    "\n",
    "df_xlsx.columns"
   ]
  },
  {
   "attachments": {},
   "cell_type": "markdown",
   "metadata": {},
   "source": [
    "\n",
    "¿Cuáles son los principales estádisticos del DataFrame? Mostrad por separado las variables categóricas y las variables numéricas.\n"
   ]
  },
  {
   "cell_type": "code",
   "execution_count": null,
   "metadata": {},
   "outputs": [
    {
     "ename": "",
     "evalue": "",
     "output_type": "error",
     "traceback": [
      "\u001b[1;31mThe kernel failed to start as the Python Environment '/home/adalaber/anaconda3/envs/py39' is no longer available. Consider selecting another kernel or refreshing the list of Python Environments."
     ]
    }
   ],
   "source": [
    "\n",
    "# valores numéricos\n",
    "\n",
    "\n",
    "df_csv1.describe()\n",
    "\n",
    "df_csv.describe()\n",
    "\n",
    "df_xlsx.describe()\n",
    "\n"
   ]
  },
  {
   "cell_type": "code",
   "execution_count": null,
   "metadata": {},
   "outputs": [
    {
     "ename": "",
     "evalue": "",
     "output_type": "error",
     "traceback": [
      "\u001b[1;31mThe kernel failed to start as the Python Environment '/home/adalaber/anaconda3/envs/py39' is no longer available. Consider selecting another kernel or refreshing the list of Python Environments."
     ]
    }
   ],
   "source": [
    "\n",
    "# valores categóricos\n",
    "df_csv1.describe(include = 'object')\n",
    "\n",
    "df_csv.describe(include = 'object')\n",
    "\n",
    "df_xlsx.describe(include = 'object')"
   ]
  },
  {
   "attachments": {},
   "cell_type": "markdown",
   "metadata": {},
   "source": [
    "\n",
    "¿Cuál es el porcentaje de valores nulos en cada columna?\n"
   ]
  },
  {
   "cell_type": "code",
   "execution_count": null,
   "metadata": {},
   "outputs": [
    {
     "ename": "",
     "evalue": "",
     "output_type": "error",
     "traceback": [
      "\u001b[1;31mThe kernel failed to start as the Python Environment '/home/adalaber/anaconda3/envs/py39' is no longer available. Consider selecting another kernel or refreshing the list of Python Environments."
     ]
    }
   ],
   "source": [
    "\n",
    "df_csv1.isnull().sum() /100\n",
    "\n",
    "df_csv.isnull().sum() /100\n",
    "\n",
    "df_xlsx.isnull().sum() /100"
   ]
  },
  {
   "attachments": {},
   "cell_type": "markdown",
   "metadata": {},
   "source": [
    "¿Cuántos valores únicos tenemos para cada una de las columnas?\n"
   ]
  },
  {
   "cell_type": "code",
   "execution_count": 9,
   "metadata": {},
   "outputs": [
    {
     "name": "stdout",
     "output_type": "stream",
     "text": [
      "{'ID Agente': 50, 'Nombre': 50, 'email': 50, 'Fecha de Nacimiento': 50}\n"
     ]
    }
   ],
   "source": [
    "\n",
    "columnas_csv1 = df_csv1.columns\n",
    "\n",
    "\n",
    "conteo_unique_csv1 = {col: len(df_csv1[col].unique()) for col in columnas_csv1}\n",
    "\n",
    "print(conteo_unique_csv1)\n",
    "\n",
    "\n",
    "#df_csv.describe(include = 'object')\n",
    "\n",
    "#df_xlsx.describe(include = 'object')"
   ]
  },
  {
   "cell_type": "code",
   "execution_count": 11,
   "metadata": {},
   "outputs": [
    {
     "name": "stdout",
     "output_type": "stream",
     "text": [
      "{'Turno': 5, 'ID Empleado': 2000, 'Apellido': 376, 'Nombre': 565, 'ID Puesto': 75, 'Email': 2000}\n"
     ]
    }
   ],
   "source": [
    "columnas_csv = df_csv.columns\n",
    "\n",
    "\n",
    "conteo_unique_csv = {col: len(df_csv[col].unique()) for col in columnas_csv}\n",
    "\n",
    "print(conteo_unique_csv)"
   ]
  },
  {
   "cell_type": "code",
   "execution_count": 16,
   "metadata": {},
   "outputs": [
    {
     "data": {
      "text/plain": [
       "75"
      ]
     },
     "execution_count": 16,
     "metadata": {},
     "output_type": "execute_result"
    }
   ],
   "source": [
    "len(df_csv[\"ID Puesto\"].unique())"
   ]
  },
  {
   "cell_type": "code",
   "execution_count": null,
   "metadata": {},
   "outputs": [
    {
     "ename": "",
     "evalue": "",
     "output_type": "error",
     "traceback": [
      "\u001b[1;31mThe kernel failed to start as the Python Environment '/home/adalaber/anaconda3/envs/py39' is no longer available. Consider selecting another kernel or refreshing the list of Python Environments."
     ]
    }
   ],
   "source": [
    "\n",
    "df_csv.head()\n",
    "\n",
    "len(df_csv['Nombre'].unique())\n",
    "\n"
   ]
  },
  {
   "cell_type": "code",
   "execution_count": null,
   "metadata": {},
   "outputs": [
    {
     "ename": "",
     "evalue": "",
     "output_type": "error",
     "traceback": [
      "\u001b[1;31mThe kernel failed to start as the Python Environment '/home/adalaber/anaconda3/envs/py39' is no longer available. Consider selecting another kernel or refreshing the list of Python Environments."
     ]
    }
   ],
   "source": [
    "\n",
    "\n",
    "columnas_csv = df_csv.columns\n",
    "\n",
    "\n",
    "conteo_unique_csv = {col: len(df_csv[col].unique()) for col in columnas_csv}\n",
    "\n",
    "print(conteo_unique_csv)\n",
    "\n"
   ]
  },
  {
   "cell_type": "code",
   "execution_count": null,
   "metadata": {},
   "outputs": [
    {
     "ename": "",
     "evalue": "",
     "output_type": "error",
     "traceback": [
      "\u001b[1;31mThe kernel failed to start as the Python Environment '/home/adalaber/anaconda3/envs/py39' is no longer available. Consider selecting another kernel or refreshing the list of Python Environments."
     ]
    }
   ],
   "source": [
    "\n",
    "columnas_xlsx = df_xlsx.columns\n",
    "\n",
    "\n",
    "conteo_unique_xlsx = {col: df_xlsx[col].value_counts() for col in columnas_xlsx}\n",
    "\n",
    "print(conteo_unique_xlsx)"
   ]
  },
  {
   "attachments": {},
   "cell_type": "markdown",
   "metadata": {},
   "source": [
    "De aquellas columnas que tengan menos de 6 elementos únicos mostrad cada uno de sus valores únicos.\n"
   ]
  },
  {
   "cell_type": "code",
   "execution_count": null,
   "metadata": {},
   "outputs": [
    {
     "ename": "",
     "evalue": "",
     "output_type": "error",
     "traceback": [
      "\u001b[1;31mThe kernel failed to start as the Python Environment '/home/adalaber/anaconda3/envs/py39' is no longer available. Consider selecting another kernel or refreshing the list of Python Environments."
     ]
    }
   ],
   "source": [
    "\n",
    "columnas_csv = df_csv.columns\n",
    "\n",
    "conteo_unique_csv = {col: df_csv[col].value_counts() for col in columnas_csv} \n",
    "\n",
    "conteo_unique_csv \n",
    "\n",
    "for i in conteo_unique_csv:\n",
    "    print(i)\n",
    "\n",
    "#df['columna'].unique()\n",
    "\n",
    "#print(conteo_unique_csv)"
   ]
  },
  {
   "attachments": {},
   "cell_type": "markdown",
   "metadata": {},
   "source": [
    "📌 NOTA Fijaos que vamos a hacer lo mismo para cada archivo que tenemos. Una buena práctica sería crearnos una función que apliquemos a cada conjunto de datos. Nuestra función recibirá un parámetro, que será el dataframe entero"
   ]
  },
  {
   "cell_type": "code",
   "execution_count": null,
   "metadata": {},
   "outputs": [
    {
     "ename": "",
     "evalue": "",
     "output_type": "error",
     "traceback": [
      "\u001b[1;31mThe kernel failed to start as the Python Environment '/home/adalaber/anaconda3/envs/py39' is no longer available. Consider selecting another kernel or refreshing the list of Python Environments."
     ]
    }
   ],
   "source": []
  },
  {
   "attachments": {},
   "cell_type": "markdown",
   "metadata": {},
   "source": [
    "📌 NOTA Nos estamos convirtiendo en analistas de datos y no nos debe valer solo con escribir el código, os recomendamos que reviseis bien los resultados y empezais a extraer algunas conclusiones. ¿Hay datos raros en nuestros conjuntos de datos? ¿Tenemos nulos?, etc."
   ]
  },
  {
   "cell_type": "code",
   "execution_count": null,
   "metadata": {},
   "outputs": [
    {
     "ename": "",
     "evalue": "",
     "output_type": "error",
     "traceback": [
      "\u001b[1;31mThe kernel failed to start as the Python Environment '/home/adalaber/anaconda3/envs/py39' is no longer available. Consider selecting another kernel or refreshing the list of Python Environments."
     ]
    }
   ],
   "source": []
  },
  {
   "attachments": {},
   "cell_type": "markdown",
   "metadata": {},
   "source": [
    "3. Modificaciones básicas de los conjuntos de datos:"
   ]
  },
  {
   "attachments": {},
   "cell_type": "markdown",
   "metadata": {},
   "source": [
    "Cambiad el nombre de las columnas para que todas estén en minúsculas y reemplazad los espacios por _."
   ]
  },
  {
   "cell_type": "code",
   "execution_count": null,
   "metadata": {},
   "outputs": [
    {
     "ename": "",
     "evalue": "",
     "output_type": "error",
     "traceback": [
      "\u001b[1;31mThe kernel failed to start as the Python Environment '/home/adalaber/anaconda3/envs/py39' is no longer available. Consider selecting another kernel or refreshing the list of Python Environments."
     ]
    }
   ],
   "source": []
  },
  {
   "attachments": {},
   "cell_type": "markdown",
   "metadata": {},
   "source": [
    "Para las columnas de web e índice en el archovo de 2016.xlsx ya hemos visto que tiene un único valor único, lo cual no tiene mucho sentido ya que no nos aporta información útil. En este ejercicios tendréis que eliminar dichas columnas del dataframe."
   ]
  },
  {
   "cell_type": "code",
   "execution_count": null,
   "metadata": {},
   "outputs": [
    {
     "ename": "",
     "evalue": "",
     "output_type": "error",
     "traceback": [
      "\u001b[1;31mThe kernel failed to start as the Python Environment '/home/adalaber/anaconda3/envs/py39' is no longer available. Consider selecting another kernel or refreshing the list of Python Environments."
     ]
    }
   ],
   "source": []
  },
  {
   "attachments": {},
   "cell_type": "markdown",
   "metadata": {},
   "source": [
    "Establece la columna id_ticket de la tabla de 2016.xlsx como índice del DataFrame."
   ]
  },
  {
   "cell_type": "code",
   "execution_count": null,
   "metadata": {},
   "outputs": [
    {
     "ename": "",
     "evalue": "",
     "output_type": "error",
     "traceback": [
      "\u001b[1;31mThe kernel failed to start as the Python Environment '/home/adalaber/anaconda3/envs/py39' is no longer available. Consider selecting another kernel or refreshing the list of Python Environments."
     ]
    }
   ],
   "source": []
  },
  {
   "attachments": {},
   "cell_type": "markdown",
   "metadata": {},
   "source": [
    "4. Guarda los csv's sobre los que hayáis hecho cambios para usarlos en próximos pairs ."
   ]
  },
  {
   "cell_type": "code",
   "execution_count": null,
   "metadata": {},
   "outputs": [
    {
     "ename": "",
     "evalue": "",
     "output_type": "error",
     "traceback": [
      "\u001b[1;31mThe kernel failed to start as the Python Environment '/home/adalaber/anaconda3/envs/py39' is no longer available. Consider selecting another kernel or refreshing the list of Python Environments."
     ]
    }
   ],
   "source": []
  }
 ],
 "metadata": {
  "kernelspec": {
   "display_name": "adalabenv",
   "language": "python",
   "name": "python3"
  },
  "language_info": {
   "codemirror_mode": {
    "name": "ipython",
    "version": 3
   },
   "file_extension": ".py",
   "mimetype": "text/x-python",
   "name": "python",
   "nbconvert_exporter": "python",
   "pygments_lexer": "ipython3",
   "version": "3.10.9"
  },
  "orig_nbformat": 4,
  "vscode": {
   "interpreter": {
    "hash": "0b8bbabd87d3ce636409443d1398e5656bf795e33c753b5e821c4b969f4e6c41"
   }
  }
 },
 "nbformat": 4,
 "nbformat_minor": 2
}
