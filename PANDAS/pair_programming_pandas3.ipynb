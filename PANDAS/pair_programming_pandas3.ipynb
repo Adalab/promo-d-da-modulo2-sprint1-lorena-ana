{
 "cells": [
  {
   "attachments": {},
   "cell_type": "markdown",
   "metadata": {},
   "source": [
    "## PAIR PROGRAMMING - PANDAS 3"
   ]
  },
  {
   "cell_type": "code",
   "execution_count": 2,
   "metadata": {},
   "outputs": [
    {
     "data": {
      "text/plain": [
       "'/home/adalaber/Escritorio/ADALAB/LORENA/COPIA EJERCICIOS/MODULO 2- SPRINT 1/pair-programming/promo-d-da-modulo2-sprint1-lorena-ana/PANDAS'"
      ]
     },
     "execution_count": 2,
     "metadata": {},
     "output_type": "execute_result"
    }
   ],
   "source": [
    "import pandas as pd\n",
    "\n",
    "import os\n",
    "\n",
    "os.getcwd() "
   ]
  },
  {
   "attachments": {},
   "cell_type": "markdown",
   "metadata": {},
   "source": [
    "\n",
    "Tareas a realizar en este pair programming\n",
    "\n",
    "\n",
    "- La exploración de datos es una parte crítica del proceso de análisis de datos. \n",
    "    Para los analistas de datos, hacer una exploración de datos con Pandas es importante por varias razones:\n",
    "\n",
    "- Comprender los datos: antes de comenzar a analizar datos, es importante comprender los datos con los que se está trabajando.\n",
    "\n",
    "- Identificar problemas de calidad de datos: los datos pueden contener errores, valores faltantes o datos duplicados. Al utilizar Pandas, como analistas de datos podemos identificar rápidamente estos problemas y determinar la mejor manera de abordarlos antes de comenzar a analizar los datos.\n",
    "\n",
    "- Identificar patrones y tendencias: al explorar los datos con Pandas, los analistas de datos podemos identificar patrones y tendencias en los datos que pueden ayudar a generar ideas y obtener información valiosa."
   ]
  },
  {
   "attachments": {},
   "cell_type": "markdown",
   "metadata": {},
   "source": [
    "\n",
    "En resumen, hacer una exploración de datos con Pandas es esencial para cualquier analista de datos, ya que puede ayudar a comprender los datos, identificar problemas de calidad de datos, identificar patrones y tendencias y visualizar los datos para una mejor comprensión y presentación de los resultados del análisis. En los próximos pair programmings vamos a empezar a explorar los datos para identificar posibles problemas en los datos, comprender los datos y familiarizanos con ellos."
   ]
  },
  {
   "attachments": {},
   "cell_type": "markdown",
   "metadata": {},
   "source": [
    "\n",
    "1. Cargar todos los datasets que os hemos compartido en este pair programming"
   ]
  },
  {
   "cell_type": "code",
   "execution_count": 5,
   "metadata": {},
   "outputs": [],
   "source": [
    "\n",
    "df_csv1 = pd.read_csv('datos/Agentes.csv')\n",
    "df_csv2 =  pd.read_csv('datos/Empleados.csv')\n",
    "df_xlsx = pd.read_excel('datos/2016.xlsx')"
   ]
  },
  {
   "attachments": {},
   "cell_type": "markdown",
   "metadata": {},
   "source": [
    "2. Haced una exploración básica cada uno de los DataFrames, esta exploración debe incluir:"
   ]
  },
  {
   "attachments": {},
   "cell_type": "markdown",
   "metadata": {},
   "source": [
    "¿Cuántas filas y columnas tiene el DataFrame?"
   ]
  },
  {
   "cell_type": "code",
   "execution_count": 6,
   "metadata": {},
   "outputs": [
    {
     "data": {
      "text/plain": [
       "(50, 4)"
      ]
     },
     "execution_count": 6,
     "metadata": {},
     "output_type": "execute_result"
    }
   ],
   "source": [
    "df_csv1.shape"
   ]
  },
  {
   "cell_type": "code",
   "execution_count": 7,
   "metadata": {},
   "outputs": [
    {
     "data": {
      "text/plain": [
       "(2000, 6)"
      ]
     },
     "execution_count": 7,
     "metadata": {},
     "output_type": "execute_result"
    }
   ],
   "source": [
    "df_csv2.shape"
   ]
  },
  {
   "cell_type": "code",
   "execution_count": 8,
   "metadata": {},
   "outputs": [
    {
     "data": {
      "text/plain": [
       "(13051, 12)"
      ]
     },
     "execution_count": 8,
     "metadata": {},
     "output_type": "execute_result"
    }
   ],
   "source": [
    "df_xlsx.shape "
   ]
  },
  {
   "attachments": {},
   "cell_type": "markdown",
   "metadata": {},
   "source": [
    "\n",
    "Mostrad las primeras cinco filas y las últimas cinco filas del DataFrame.\n"
   ]
  },
  {
   "cell_type": "code",
   "execution_count": 11,
   "metadata": {},
   "outputs": [
    {
     "data": {
      "text/html": [
       "<div>\n",
       "<style scoped>\n",
       "    .dataframe tbody tr th:only-of-type {\n",
       "        vertical-align: middle;\n",
       "    }\n",
       "\n",
       "    .dataframe tbody tr th {\n",
       "        vertical-align: top;\n",
       "    }\n",
       "\n",
       "    .dataframe thead th {\n",
       "        text-align: right;\n",
       "    }\n",
       "</style>\n",
       "<table border=\"1\" class=\"dataframe\">\n",
       "  <thead>\n",
       "    <tr style=\"text-align: right;\">\n",
       "      <th></th>\n",
       "      <th>ID Ticket</th>\n",
       "      <th>Fecha</th>\n",
       "      <th>ID Empleado</th>\n",
       "      <th>ID Agente</th>\n",
       "      <th>Categoría</th>\n",
       "      <th>Tipo</th>\n",
       "      <th>Severidad</th>\n",
       "      <th>Prioridad</th>\n",
       "      <th>Días Resolución</th>\n",
       "      <th>Satisfacción</th>\n",
       "      <th>Web</th>\n",
       "      <th>Índice</th>\n",
       "    </tr>\n",
       "  </thead>\n",
       "  <tbody>\n",
       "    <tr>\n",
       "      <th>0</th>\n",
       "      <td>GDDENR-5042564453</td>\n",
       "      <td>2016-07-13</td>\n",
       "      <td>1735.0</td>\n",
       "      <td>4.0</td>\n",
       "      <td>Acceso&amp;%Login</td>\n",
       "      <td>Problema</td>\n",
       "      <td>0 - Sin Clasificar</td>\n",
       "      <td>0 - Sin Asignar</td>\n",
       "      <td>0.0</td>\n",
       "      <td>5.0</td>\n",
       "      <td>www.tractchun.es</td>\n",
       "      <td>1.0</td>\n",
       "    </tr>\n",
       "    <tr>\n",
       "      <th>1</th>\n",
       "      <td>GDDENR-8042508060</td>\n",
       "      <td>2016-05-18</td>\n",
       "      <td>1566.0</td>\n",
       "      <td>10.0</td>\n",
       "      <td>Acceso&amp;%Login</td>\n",
       "      <td>Problema</td>\n",
       "      <td>0 - Sin Clasificar</td>\n",
       "      <td>0 - Sin Asignar</td>\n",
       "      <td>0.0</td>\n",
       "      <td>5.0</td>\n",
       "      <td>www.tractchun.es</td>\n",
       "      <td>1.0</td>\n",
       "    </tr>\n",
       "    <tr>\n",
       "      <th>2</th>\n",
       "      <td>GDDESR-1342539995</td>\n",
       "      <td>2016-06-18</td>\n",
       "      <td>569.0</td>\n",
       "      <td>29.0</td>\n",
       "      <td>Sistema</td>\n",
       "      <td>Problema</td>\n",
       "      <td>0 - Sin Clasificar</td>\n",
       "      <td>0 - Sin Asignar</td>\n",
       "      <td>3.0</td>\n",
       "      <td>5.0</td>\n",
       "      <td>www.tractchun.es</td>\n",
       "      <td>1.0</td>\n",
       "    </tr>\n",
       "    <tr>\n",
       "      <th>3</th>\n",
       "      <td>GDDTSR-5942488006</td>\n",
       "      <td>2016-04-28</td>\n",
       "      <td>320.0</td>\n",
       "      <td>40.0</td>\n",
       "      <td>Sistema</td>\n",
       "      <td>Solicitud</td>\n",
       "      <td>0 - Sin Clasificar</td>\n",
       "      <td>0 - Sin Asignar</td>\n",
       "      <td>9.0</td>\n",
       "      <td>5.0</td>\n",
       "      <td>www.tractchun.es</td>\n",
       "      <td>1.0</td>\n",
       "    </tr>\n",
       "    <tr>\n",
       "      <th>4</th>\n",
       "      <td>GDLEER-0042524120</td>\n",
       "      <td>2016-06-03</td>\n",
       "      <td>1842.0</td>\n",
       "      <td>31.0</td>\n",
       "      <td>Software</td>\n",
       "      <td>Problema</td>\n",
       "      <td>2 - Normal</td>\n",
       "      <td>0 - Sin Asignar</td>\n",
       "      <td>0.0</td>\n",
       "      <td>5.0</td>\n",
       "      <td>www.tractchun.es</td>\n",
       "      <td>1.0</td>\n",
       "    </tr>\n",
       "  </tbody>\n",
       "</table>\n",
       "</div>"
      ],
      "text/plain": [
       "           ID Ticket      Fecha  ID Empleado  ID Agente      Categoría  \\\n",
       "0  GDDENR-5042564453 2016-07-13       1735.0        4.0  Acceso&%Login   \n",
       "1  GDDENR-8042508060 2016-05-18       1566.0       10.0  Acceso&%Login   \n",
       "2  GDDESR-1342539995 2016-06-18        569.0       29.0        Sistema   \n",
       "3  GDDTSR-5942488006 2016-04-28        320.0       40.0        Sistema   \n",
       "4  GDLEER-0042524120 2016-06-03       1842.0       31.0       Software   \n",
       "\n",
       "        Tipo           Severidad        Prioridad  Días Resolución  \\\n",
       "0   Problema  0 - Sin Clasificar  0 - Sin Asignar              0.0   \n",
       "1   Problema  0 - Sin Clasificar  0 - Sin Asignar              0.0   \n",
       "2   Problema  0 - Sin Clasificar  0 - Sin Asignar              3.0   \n",
       "3  Solicitud  0 - Sin Clasificar  0 - Sin Asignar              9.0   \n",
       "4   Problema          2 - Normal  0 - Sin Asignar              0.0   \n",
       "\n",
       "   Satisfacción               Web  Índice   \n",
       "0           5.0  www.tractchun.es      1.0  \n",
       "1           5.0  www.tractchun.es      1.0  \n",
       "2           5.0  www.tractchun.es      1.0  \n",
       "3           5.0  www.tractchun.es      1.0  \n",
       "4           5.0  www.tractchun.es      1.0  "
      ]
     },
     "execution_count": 11,
     "metadata": {},
     "output_type": "execute_result"
    }
   ],
   "source": [
    "\n",
    "df_csv1.head(5)\n",
    "\n",
    "df_csv2.head(5)\n",
    "\n",
    "df_xlsx.head(5)"
   ]
  },
  {
   "cell_type": "code",
   "execution_count": 12,
   "metadata": {},
   "outputs": [
    {
     "data": {
      "text/html": [
       "<div>\n",
       "<style scoped>\n",
       "    .dataframe tbody tr th:only-of-type {\n",
       "        vertical-align: middle;\n",
       "    }\n",
       "\n",
       "    .dataframe tbody tr th {\n",
       "        vertical-align: top;\n",
       "    }\n",
       "\n",
       "    .dataframe thead th {\n",
       "        text-align: right;\n",
       "    }\n",
       "</style>\n",
       "<table border=\"1\" class=\"dataframe\">\n",
       "  <thead>\n",
       "    <tr style=\"text-align: right;\">\n",
       "      <th></th>\n",
       "      <th>ID Ticket</th>\n",
       "      <th>Fecha</th>\n",
       "      <th>ID Empleado</th>\n",
       "      <th>ID Agente</th>\n",
       "      <th>Categoría</th>\n",
       "      <th>Tipo</th>\n",
       "      <th>Severidad</th>\n",
       "      <th>Prioridad</th>\n",
       "      <th>Días Resolución</th>\n",
       "      <th>Satisfacción</th>\n",
       "      <th>Web</th>\n",
       "      <th>Índice</th>\n",
       "    </tr>\n",
       "  </thead>\n",
       "  <tbody>\n",
       "    <tr>\n",
       "      <th>13046</th>\n",
       "      <td>TWRTSR-6442574526</td>\n",
       "      <td>2016-07-23</td>\n",
       "      <td>962.0</td>\n",
       "      <td>25.0</td>\n",
       "      <td>Sistema</td>\n",
       "      <td>Solicitud</td>\n",
       "      <td>1 - Menor</td>\n",
       "      <td>1 - Baja</td>\n",
       "      <td>14.0</td>\n",
       "      <td>4.0</td>\n",
       "      <td>www.tractchun.es</td>\n",
       "      <td>1.0</td>\n",
       "    </tr>\n",
       "    <tr>\n",
       "      <th>13047</th>\n",
       "      <td>TWRTSR-7142570866</td>\n",
       "      <td>2016-07-19</td>\n",
       "      <td>126.0</td>\n",
       "      <td>38.0</td>\n",
       "      <td>Sistema</td>\n",
       "      <td>Solicitud</td>\n",
       "      <td>3 - Mayor</td>\n",
       "      <td>1 - Baja</td>\n",
       "      <td>13.0</td>\n",
       "      <td>5.0</td>\n",
       "      <td>www.tractchun.es</td>\n",
       "      <td>1.0</td>\n",
       "    </tr>\n",
       "    <tr>\n",
       "      <th>13048</th>\n",
       "      <td>TWRTSR-7742498308</td>\n",
       "      <td>2016-05-08</td>\n",
       "      <td>510.0</td>\n",
       "      <td>3.0</td>\n",
       "      <td>Sistema</td>\n",
       "      <td>Solicitud</td>\n",
       "      <td>3 - Mayor</td>\n",
       "      <td>1 - Baja</td>\n",
       "      <td>2.0</td>\n",
       "      <td>5.0</td>\n",
       "      <td>www.tractchun.es</td>\n",
       "      <td>1.0</td>\n",
       "    </tr>\n",
       "    <tr>\n",
       "      <th>13049</th>\n",
       "      <td>TWRTSR-8642558628</td>\n",
       "      <td>2016-07-07</td>\n",
       "      <td>1942.0</td>\n",
       "      <td>26.0</td>\n",
       "      <td>Sistema</td>\n",
       "      <td>Solicitud</td>\n",
       "      <td>1 - Menor</td>\n",
       "      <td>1 - Baja</td>\n",
       "      <td>16.0</td>\n",
       "      <td>4.0</td>\n",
       "      <td>www.tractchun.es</td>\n",
       "      <td>1.0</td>\n",
       "    </tr>\n",
       "    <tr>\n",
       "      <th>13050</th>\n",
       "      <td>TWRTSR-8742628897</td>\n",
       "      <td>2016-09-15</td>\n",
       "      <td>919.0</td>\n",
       "      <td>8.0</td>\n",
       "      <td>Sistema</td>\n",
       "      <td>Solicitud</td>\n",
       "      <td>1 - Menor</td>\n",
       "      <td>1 - Baja</td>\n",
       "      <td>7.0</td>\n",
       "      <td>4.0</td>\n",
       "      <td>www.tractchun.es</td>\n",
       "      <td>1.0</td>\n",
       "    </tr>\n",
       "  </tbody>\n",
       "</table>\n",
       "</div>"
      ],
      "text/plain": [
       "               ID Ticket      Fecha  ID Empleado  ID Agente Categoría  \\\n",
       "13046  TWRTSR-6442574526 2016-07-23        962.0       25.0   Sistema   \n",
       "13047  TWRTSR-7142570866 2016-07-19        126.0       38.0   Sistema   \n",
       "13048  TWRTSR-7742498308 2016-05-08        510.0        3.0   Sistema   \n",
       "13049  TWRTSR-8642558628 2016-07-07       1942.0       26.0   Sistema   \n",
       "13050  TWRTSR-8742628897 2016-09-15        919.0        8.0   Sistema   \n",
       "\n",
       "            Tipo  Severidad Prioridad  Días Resolución  Satisfacción  \\\n",
       "13046  Solicitud  1 - Menor  1 - Baja             14.0           4.0   \n",
       "13047  Solicitud  3 - Mayor  1 - Baja             13.0           5.0   \n",
       "13048  Solicitud  3 - Mayor  1 - Baja              2.0           5.0   \n",
       "13049  Solicitud  1 - Menor  1 - Baja             16.0           4.0   \n",
       "13050  Solicitud  1 - Menor  1 - Baja              7.0           4.0   \n",
       "\n",
       "                    Web  Índice   \n",
       "13046  www.tractchun.es      1.0  \n",
       "13047  www.tractchun.es      1.0  \n",
       "13048  www.tractchun.es      1.0  \n",
       "13049  www.tractchun.es      1.0  \n",
       "13050  www.tractchun.es      1.0  "
      ]
     },
     "execution_count": 12,
     "metadata": {},
     "output_type": "execute_result"
    }
   ],
   "source": [
    "df_csv1.tail(5)\n",
    "\n",
    "df_csv2.tail(5)\n",
    "\n",
    "df_xlsx.tail(5)"
   ]
  },
  {
   "attachments": {},
   "cell_type": "markdown",
   "metadata": {},
   "source": [
    "\n",
    "Mostrad 2 filas al azar del DataFrame.\n"
   ]
  },
  {
   "cell_type": "code",
   "execution_count": 13,
   "metadata": {},
   "outputs": [
    {
     "data": {
      "text/html": [
       "<div>\n",
       "<style scoped>\n",
       "    .dataframe tbody tr th:only-of-type {\n",
       "        vertical-align: middle;\n",
       "    }\n",
       "\n",
       "    .dataframe tbody tr th {\n",
       "        vertical-align: top;\n",
       "    }\n",
       "\n",
       "    .dataframe thead th {\n",
       "        text-align: right;\n",
       "    }\n",
       "</style>\n",
       "<table border=\"1\" class=\"dataframe\">\n",
       "  <thead>\n",
       "    <tr style=\"text-align: right;\">\n",
       "      <th></th>\n",
       "      <th>ID Ticket</th>\n",
       "      <th>Fecha</th>\n",
       "      <th>ID Empleado</th>\n",
       "      <th>ID Agente</th>\n",
       "      <th>Categoría</th>\n",
       "      <th>Tipo</th>\n",
       "      <th>Severidad</th>\n",
       "      <th>Prioridad</th>\n",
       "      <th>Días Resolución</th>\n",
       "      <th>Satisfacción</th>\n",
       "      <th>Web</th>\n",
       "      <th>Índice</th>\n",
       "    </tr>\n",
       "  </thead>\n",
       "  <tbody>\n",
       "    <tr>\n",
       "      <th>12267</th>\n",
       "      <td>TMLENR-9042587186</td>\n",
       "      <td>2016-08-05</td>\n",
       "      <td>1258.0</td>\n",
       "      <td>21.0</td>\n",
       "      <td>Acceso&amp;%Login</td>\n",
       "      <td>Problema</td>\n",
       "      <td>2 - Normal</td>\n",
       "      <td>2 - Media</td>\n",
       "      <td>0.0</td>\n",
       "      <td>5.0</td>\n",
       "      <td>www.tractchun.es</td>\n",
       "      <td>1.0</td>\n",
       "    </tr>\n",
       "    <tr>\n",
       "      <th>8796</th>\n",
       "      <td>SHLEST-3242532925</td>\n",
       "      <td>2016-06-11</td>\n",
       "      <td>442.0</td>\n",
       "      <td>49.0</td>\n",
       "      <td>Sistema</td>\n",
       "      <td>Problema</td>\n",
       "      <td>2 - Normal</td>\n",
       "      <td>3 - Alta</td>\n",
       "      <td>2.0</td>\n",
       "      <td>5.0</td>\n",
       "      <td>www.tractchun.es</td>\n",
       "      <td>1.0</td>\n",
       "    </tr>\n",
       "  </tbody>\n",
       "</table>\n",
       "</div>"
      ],
      "text/plain": [
       "               ID Ticket      Fecha  ID Empleado  ID Agente      Categoría  \\\n",
       "12267  TMLENR-9042587186 2016-08-05       1258.0       21.0  Acceso&%Login   \n",
       "8796   SHLEST-3242532925 2016-06-11        442.0       49.0        Sistema   \n",
       "\n",
       "           Tipo   Severidad  Prioridad  Días Resolución  Satisfacción  \\\n",
       "12267  Problema  2 - Normal  2 - Media              0.0           5.0   \n",
       "8796   Problema  2 - Normal   3 - Alta              2.0           5.0   \n",
       "\n",
       "                    Web  Índice   \n",
       "12267  www.tractchun.es      1.0  \n",
       "8796   www.tractchun.es      1.0  "
      ]
     },
     "execution_count": 13,
     "metadata": {},
     "output_type": "execute_result"
    }
   ],
   "source": [
    "\n",
    "df_csv1.sample(2)\n",
    "\n",
    "df_csv2.sample(2)\n",
    "\n",
    "df_xlsx.sample(2)"
   ]
  },
  {
   "attachments": {},
   "cell_type": "markdown",
   "metadata": {},
   "source": [
    "\n",
    "¿Cuál es el nombre de las columnas del DataFrame?\n"
   ]
  },
  {
   "cell_type": "code",
   "execution_count": 14,
   "metadata": {},
   "outputs": [
    {
     "data": {
      "text/plain": [
       "Index(['ID Ticket', 'Fecha', 'ID Empleado', 'ID Agente', 'Categoría', 'Tipo',\n",
       "       'Severidad', 'Prioridad', 'Días Resolución', 'Satisfacción', 'Web',\n",
       "       'Índice '],\n",
       "      dtype='object')"
      ]
     },
     "execution_count": 14,
     "metadata": {},
     "output_type": "execute_result"
    }
   ],
   "source": [
    "#Con columns sacamos todas las columnas\n",
    "\n",
    "df_csv1.columns\n",
    "\n",
    "df_csv2.columns\n",
    "\n",
    "df_xlsx.columns"
   ]
  },
  {
   "attachments": {},
   "cell_type": "markdown",
   "metadata": {},
   "source": [
    "\n",
    "¿Cuáles son los principales estádisticos del DataFrame? Mostrad por separado las variables categóricas y las variables numéricas.\n"
   ]
  },
  {
   "cell_type": "code",
   "execution_count": 15,
   "metadata": {},
   "outputs": [
    {
     "data": {
      "text/html": [
       "<div>\n",
       "<style scoped>\n",
       "    .dataframe tbody tr th:only-of-type {\n",
       "        vertical-align: middle;\n",
       "    }\n",
       "\n",
       "    .dataframe tbody tr th {\n",
       "        vertical-align: top;\n",
       "    }\n",
       "\n",
       "    .dataframe thead th {\n",
       "        text-align: right;\n",
       "    }\n",
       "</style>\n",
       "<table border=\"1\" class=\"dataframe\">\n",
       "  <thead>\n",
       "    <tr style=\"text-align: right;\">\n",
       "      <th></th>\n",
       "      <th>ID Empleado</th>\n",
       "      <th>ID Agente</th>\n",
       "      <th>Días Resolución</th>\n",
       "      <th>Satisfacción</th>\n",
       "      <th>Índice</th>\n",
       "    </tr>\n",
       "  </thead>\n",
       "  <tbody>\n",
       "    <tr>\n",
       "      <th>count</th>\n",
       "      <td>13049.000000</td>\n",
       "      <td>13050.000000</td>\n",
       "      <td>13049.000000</td>\n",
       "      <td>13037.000000</td>\n",
       "      <td>13038.0</td>\n",
       "    </tr>\n",
       "    <tr>\n",
       "      <th>mean</th>\n",
       "      <td>999.737988</td>\n",
       "      <td>25.425134</td>\n",
       "      <td>4.551843</td>\n",
       "      <td>3.979673</td>\n",
       "      <td>1.0</td>\n",
       "    </tr>\n",
       "    <tr>\n",
       "      <th>std</th>\n",
       "      <td>580.422512</td>\n",
       "      <td>14.363362</td>\n",
       "      <td>4.352681</td>\n",
       "      <td>1.326657</td>\n",
       "      <td>0.0</td>\n",
       "    </tr>\n",
       "    <tr>\n",
       "      <th>min</th>\n",
       "      <td>1.000000</td>\n",
       "      <td>1.000000</td>\n",
       "      <td>0.000000</td>\n",
       "      <td>1.000000</td>\n",
       "      <td>1.0</td>\n",
       "    </tr>\n",
       "    <tr>\n",
       "      <th>25%</th>\n",
       "      <td>499.000000</td>\n",
       "      <td>13.000000</td>\n",
       "      <td>0.000000</td>\n",
       "      <td>4.000000</td>\n",
       "      <td>1.0</td>\n",
       "    </tr>\n",
       "    <tr>\n",
       "      <th>50%</th>\n",
       "      <td>995.000000</td>\n",
       "      <td>26.000000</td>\n",
       "      <td>4.000000</td>\n",
       "      <td>4.000000</td>\n",
       "      <td>1.0</td>\n",
       "    </tr>\n",
       "    <tr>\n",
       "      <th>75%</th>\n",
       "      <td>1505.000000</td>\n",
       "      <td>38.000000</td>\n",
       "      <td>7.000000</td>\n",
       "      <td>5.000000</td>\n",
       "      <td>1.0</td>\n",
       "    </tr>\n",
       "    <tr>\n",
       "      <th>max</th>\n",
       "      <td>2000.000000</td>\n",
       "      <td>50.000000</td>\n",
       "      <td>21.000000</td>\n",
       "      <td>5.000000</td>\n",
       "      <td>1.0</td>\n",
       "    </tr>\n",
       "  </tbody>\n",
       "</table>\n",
       "</div>"
      ],
      "text/plain": [
       "        ID Empleado     ID Agente  Días Resolución  Satisfacción  Índice \n",
       "count  13049.000000  13050.000000     13049.000000  13037.000000  13038.0\n",
       "mean     999.737988     25.425134         4.551843      3.979673      1.0\n",
       "std      580.422512     14.363362         4.352681      1.326657      0.0\n",
       "min        1.000000      1.000000         0.000000      1.000000      1.0\n",
       "25%      499.000000     13.000000         0.000000      4.000000      1.0\n",
       "50%      995.000000     26.000000         4.000000      4.000000      1.0\n",
       "75%     1505.000000     38.000000         7.000000      5.000000      1.0\n",
       "max     2000.000000     50.000000        21.000000      5.000000      1.0"
      ]
     },
     "execution_count": 15,
     "metadata": {},
     "output_type": "execute_result"
    }
   ],
   "source": [
    "#Con describe sacamos todos los principales estadísticos de los valores numéricos\n",
    "\n",
    "df_csv1.describe()\n",
    "\n",
    "df_csv2.describe()\n",
    "\n",
    "df_xlsx.describe()"
   ]
  },
  {
   "cell_type": "code",
   "execution_count": 16,
   "metadata": {},
   "outputs": [
    {
     "data": {
      "text/html": [
       "<div>\n",
       "<style scoped>\n",
       "    .dataframe tbody tr th:only-of-type {\n",
       "        vertical-align: middle;\n",
       "    }\n",
       "\n",
       "    .dataframe tbody tr th {\n",
       "        vertical-align: top;\n",
       "    }\n",
       "\n",
       "    .dataframe thead th {\n",
       "        text-align: right;\n",
       "    }\n",
       "</style>\n",
       "<table border=\"1\" class=\"dataframe\">\n",
       "  <thead>\n",
       "    <tr style=\"text-align: right;\">\n",
       "      <th></th>\n",
       "      <th>ID Ticket</th>\n",
       "      <th>Categoría</th>\n",
       "      <th>Tipo</th>\n",
       "      <th>Severidad</th>\n",
       "      <th>Prioridad</th>\n",
       "      <th>Web</th>\n",
       "    </tr>\n",
       "  </thead>\n",
       "  <tbody>\n",
       "    <tr>\n",
       "      <th>count</th>\n",
       "      <td>13050</td>\n",
       "      <td>13038</td>\n",
       "      <td>13050</td>\n",
       "      <td>13025</td>\n",
       "      <td>13025</td>\n",
       "      <td>13024</td>\n",
       "    </tr>\n",
       "    <tr>\n",
       "      <th>unique</th>\n",
       "      <td>13050</td>\n",
       "      <td>4</td>\n",
       "      <td>2</td>\n",
       "      <td>5</td>\n",
       "      <td>4</td>\n",
       "      <td>1</td>\n",
       "    </tr>\n",
       "    <tr>\n",
       "      <th>top</th>\n",
       "      <td>GDDENR-5042564453</td>\n",
       "      <td>Sistema</td>\n",
       "      <td>Solicitud</td>\n",
       "      <td>2 - Normal</td>\n",
       "      <td>3 - Alta</td>\n",
       "      <td>www.tractchun.es</td>\n",
       "    </tr>\n",
       "    <tr>\n",
       "      <th>freq</th>\n",
       "      <td>1</td>\n",
       "      <td>5247</td>\n",
       "      <td>9756</td>\n",
       "      <td>11771</td>\n",
       "      <td>4828</td>\n",
       "      <td>13024</td>\n",
       "    </tr>\n",
       "  </tbody>\n",
       "</table>\n",
       "</div>"
      ],
      "text/plain": [
       "                ID Ticket Categoría       Tipo   Severidad Prioridad  \\\n",
       "count               13050     13038      13050       13025     13025   \n",
       "unique              13050         4          2           5         4   \n",
       "top     GDDENR-5042564453   Sistema  Solicitud  2 - Normal  3 - Alta   \n",
       "freq                    1      5247       9756       11771      4828   \n",
       "\n",
       "                     Web  \n",
       "count              13024  \n",
       "unique                 1  \n",
       "top     www.tractchun.es  \n",
       "freq               13024  "
      ]
     },
     "execution_count": 16,
     "metadata": {},
     "output_type": "execute_result"
    }
   ],
   "source": [
    "#Para poder sacar los datos de los valores categóricos, hemos de incluir include = \"object\"\n",
    "\n",
    "df_csv1.describe(include = 'object')\n",
    "\n",
    "df_csv2.describe(include = 'object')\n",
    "\n",
    "df_xlsx.describe(include = 'object')"
   ]
  },
  {
   "attachments": {},
   "cell_type": "markdown",
   "metadata": {},
   "source": [
    "\n",
    "¿Cuál es el porcentaje de valores nulos en cada columna?\n"
   ]
  },
  {
   "cell_type": "code",
   "execution_count": 17,
   "metadata": {},
   "outputs": [
    {
     "data": {
      "text/plain": [
       "(50, 4)"
      ]
     },
     "execution_count": 17,
     "metadata": {},
     "output_type": "execute_result"
    }
   ],
   "source": [
    "df_csv1.shape"
   ]
  },
  {
   "cell_type": "code",
   "execution_count": 18,
   "metadata": {},
   "outputs": [
    {
     "ename": "ValueError",
     "evalue": "operands could not be broadcast together with shapes (4,) (2,) ",
     "output_type": "error",
     "traceback": [
      "\u001b[0;31m---------------------------------------------------------------------------\u001b[0m",
      "\u001b[0;31mValueError\u001b[0m                                Traceback (most recent call last)",
      "Cell \u001b[0;32mIn [18], line 1\u001b[0m\n\u001b[0;32m----> 1\u001b[0m df_csv1\u001b[39m.\u001b[39;49misnull()\u001b[39m.\u001b[39;49msum() \u001b[39m*\u001b[39;49m df_csv1\u001b[39m.\u001b[39;49mshape \u001b[39m/\u001b[39m \u001b[39m100\u001b[39m\n\u001b[1;32m      3\u001b[0m df_csv2\u001b[39m.\u001b[39misnull()\u001b[39m.\u001b[39msum() \u001b[39m*\u001b[39m df_csv2\u001b[39m.\u001b[39mshape \u001b[39m/\u001b[39m \u001b[39m100\u001b[39m\n\u001b[1;32m      5\u001b[0m df_xlsx\u001b[39m.\u001b[39misnull()\u001b[39m.\u001b[39msum() \u001b[39m*\u001b[39m df_xlsx\u001b[39m.\u001b[39mshape \u001b[39m/\u001b[39m \u001b[39m100\u001b[39m\n",
      "File \u001b[0;32m~/anaconda3/envs/adalabenv/lib/python3.10/site-packages/pandas/core/ops/common.py:72\u001b[0m, in \u001b[0;36m_unpack_zerodim_and_defer.<locals>.new_method\u001b[0;34m(self, other)\u001b[0m\n\u001b[1;32m     68\u001b[0m             \u001b[39mreturn\u001b[39;00m \u001b[39mNotImplemented\u001b[39m\n\u001b[1;32m     70\u001b[0m other \u001b[39m=\u001b[39m item_from_zerodim(other)\n\u001b[0;32m---> 72\u001b[0m \u001b[39mreturn\u001b[39;00m method(\u001b[39mself\u001b[39;49m, other)\n",
      "File \u001b[0;32m~/anaconda3/envs/adalabenv/lib/python3.10/site-packages/pandas/core/arraylike.py:118\u001b[0m, in \u001b[0;36mOpsMixin.__mul__\u001b[0;34m(self, other)\u001b[0m\n\u001b[1;32m    116\u001b[0m \u001b[39m@unpack_zerodim_and_defer\u001b[39m(\u001b[39m\"\u001b[39m\u001b[39m__mul__\u001b[39m\u001b[39m\"\u001b[39m)\n\u001b[1;32m    117\u001b[0m \u001b[39mdef\u001b[39;00m \u001b[39m__mul__\u001b[39m(\u001b[39mself\u001b[39m, other):\n\u001b[0;32m--> 118\u001b[0m     \u001b[39mreturn\u001b[39;00m \u001b[39mself\u001b[39;49m\u001b[39m.\u001b[39;49m_arith_method(other, operator\u001b[39m.\u001b[39;49mmul)\n",
      "File \u001b[0;32m~/anaconda3/envs/adalabenv/lib/python3.10/site-packages/pandas/core/series.py:6259\u001b[0m, in \u001b[0;36mSeries._arith_method\u001b[0;34m(self, other, op)\u001b[0m\n\u001b[1;32m   6257\u001b[0m \u001b[39mdef\u001b[39;00m \u001b[39m_arith_method\u001b[39m(\u001b[39mself\u001b[39m, other, op):\n\u001b[1;32m   6258\u001b[0m     \u001b[39mself\u001b[39m, other \u001b[39m=\u001b[39m ops\u001b[39m.\u001b[39malign_method_SERIES(\u001b[39mself\u001b[39m, other)\n\u001b[0;32m-> 6259\u001b[0m     \u001b[39mreturn\u001b[39;00m base\u001b[39m.\u001b[39;49mIndexOpsMixin\u001b[39m.\u001b[39;49m_arith_method(\u001b[39mself\u001b[39;49m, other, op)\n",
      "File \u001b[0;32m~/anaconda3/envs/adalabenv/lib/python3.10/site-packages/pandas/core/base.py:1325\u001b[0m, in \u001b[0;36mIndexOpsMixin._arith_method\u001b[0;34m(self, other, op)\u001b[0m\n\u001b[1;32m   1322\u001b[0m rvalues \u001b[39m=\u001b[39m ensure_wrapped_if_datetimelike(rvalues)\n\u001b[1;32m   1324\u001b[0m \u001b[39mwith\u001b[39;00m np\u001b[39m.\u001b[39merrstate(\u001b[39mall\u001b[39m\u001b[39m=\u001b[39m\u001b[39m\"\u001b[39m\u001b[39mignore\u001b[39m\u001b[39m\"\u001b[39m):\n\u001b[0;32m-> 1325\u001b[0m     result \u001b[39m=\u001b[39m ops\u001b[39m.\u001b[39;49marithmetic_op(lvalues, rvalues, op)\n\u001b[1;32m   1327\u001b[0m \u001b[39mreturn\u001b[39;00m \u001b[39mself\u001b[39m\u001b[39m.\u001b[39m_construct_result(result, name\u001b[39m=\u001b[39mres_name)\n",
      "File \u001b[0;32m~/anaconda3/envs/adalabenv/lib/python3.10/site-packages/pandas/core/ops/array_ops.py:226\u001b[0m, in \u001b[0;36marithmetic_op\u001b[0;34m(left, right, op)\u001b[0m\n\u001b[1;32m    222\u001b[0m     _bool_arith_check(op, left, right)\n\u001b[1;32m    224\u001b[0m     \u001b[39m# error: Argument 1 to \"_na_arithmetic_op\" has incompatible type\u001b[39;00m\n\u001b[1;32m    225\u001b[0m     \u001b[39m# \"Union[ExtensionArray, ndarray[Any, Any]]\"; expected \"ndarray[Any, Any]\"\u001b[39;00m\n\u001b[0;32m--> 226\u001b[0m     res_values \u001b[39m=\u001b[39m _na_arithmetic_op(left, right, op)  \u001b[39m# type: ignore[arg-type]\u001b[39;00m\n\u001b[1;32m    228\u001b[0m \u001b[39mreturn\u001b[39;00m res_values\n",
      "File \u001b[0;32m~/anaconda3/envs/adalabenv/lib/python3.10/site-packages/pandas/core/ops/array_ops.py:165\u001b[0m, in \u001b[0;36m_na_arithmetic_op\u001b[0;34m(left, right, op, is_cmp)\u001b[0m\n\u001b[1;32m    162\u001b[0m     func \u001b[39m=\u001b[39m partial(expressions\u001b[39m.\u001b[39mevaluate, op)\n\u001b[1;32m    164\u001b[0m \u001b[39mtry\u001b[39;00m:\n\u001b[0;32m--> 165\u001b[0m     result \u001b[39m=\u001b[39m func(left, right)\n\u001b[1;32m    166\u001b[0m \u001b[39mexcept\u001b[39;00m \u001b[39mTypeError\u001b[39;00m:\n\u001b[1;32m    167\u001b[0m     \u001b[39mif\u001b[39;00m \u001b[39mnot\u001b[39;00m is_cmp \u001b[39mand\u001b[39;00m (is_object_dtype(left\u001b[39m.\u001b[39mdtype) \u001b[39mor\u001b[39;00m is_object_dtype(right)):\n\u001b[1;32m    168\u001b[0m         \u001b[39m# For object dtype, fallback to a masked operation (only operating\u001b[39;00m\n\u001b[1;32m    169\u001b[0m         \u001b[39m#  on the non-missing values)\u001b[39;00m\n\u001b[1;32m    170\u001b[0m         \u001b[39m# Don't do this for comparisons, as that will handle complex numbers\u001b[39;00m\n\u001b[1;32m    171\u001b[0m         \u001b[39m#  incorrectly, see GH#32047\u001b[39;00m\n",
      "File \u001b[0;32m~/anaconda3/envs/adalabenv/lib/python3.10/site-packages/pandas/core/computation/expressions.py:241\u001b[0m, in \u001b[0;36mevaluate\u001b[0;34m(op, a, b, use_numexpr)\u001b[0m\n\u001b[1;32m    238\u001b[0m \u001b[39mif\u001b[39;00m op_str \u001b[39mis\u001b[39;00m \u001b[39mnot\u001b[39;00m \u001b[39mNone\u001b[39;00m:\n\u001b[1;32m    239\u001b[0m     \u001b[39mif\u001b[39;00m use_numexpr:\n\u001b[1;32m    240\u001b[0m         \u001b[39m# error: \"None\" not callable\u001b[39;00m\n\u001b[0;32m--> 241\u001b[0m         \u001b[39mreturn\u001b[39;00m _evaluate(op, op_str, a, b)  \u001b[39m# type: ignore[misc]\u001b[39;00m\n\u001b[1;32m    242\u001b[0m \u001b[39mreturn\u001b[39;00m _evaluate_standard(op, op_str, a, b)\n",
      "File \u001b[0;32m~/anaconda3/envs/adalabenv/lib/python3.10/site-packages/pandas/core/computation/expressions.py:70\u001b[0m, in \u001b[0;36m_evaluate_standard\u001b[0;34m(op, op_str, a, b)\u001b[0m\n\u001b[1;32m     68\u001b[0m \u001b[39mif\u001b[39;00m _TEST_MODE:\n\u001b[1;32m     69\u001b[0m     _store_test_result(\u001b[39mFalse\u001b[39;00m)\n\u001b[0;32m---> 70\u001b[0m \u001b[39mreturn\u001b[39;00m op(a, b)\n",
      "\u001b[0;31mValueError\u001b[0m: operands could not be broadcast together with shapes (4,) (2,) "
     ]
    }
   ],
   "source": [
    "\n",
    "df_csv1.isnull().sum() * df_csv1.shape / 100\n",
    "\n",
    "df_csv2.isnull().sum() * df_csv2.shape / 100\n",
    "\n",
    "df_xlsx.isnull().sum() * df_xlsx.shape / 100 #buscar la fórmula y copiarla"
   ]
  },
  {
   "cell_type": "code",
   "execution_count": 19,
   "metadata": {},
   "outputs": [
    {
     "data": {
      "text/html": [
       "<div>\n",
       "<style scoped>\n",
       "    .dataframe tbody tr th:only-of-type {\n",
       "        vertical-align: middle;\n",
       "    }\n",
       "\n",
       "    .dataframe tbody tr th {\n",
       "        vertical-align: top;\n",
       "    }\n",
       "\n",
       "    .dataframe thead th {\n",
       "        text-align: right;\n",
       "    }\n",
       "</style>\n",
       "<table border=\"1\" class=\"dataframe\">\n",
       "  <thead>\n",
       "    <tr style=\"text-align: right;\">\n",
       "      <th></th>\n",
       "      <th>ID Agente</th>\n",
       "      <th>Nombre</th>\n",
       "      <th>email</th>\n",
       "      <th>Fecha de Nacimiento</th>\n",
       "    </tr>\n",
       "  </thead>\n",
       "  <tbody>\n",
       "    <tr>\n",
       "      <th>0</th>\n",
       "      <td>1</td>\n",
       "      <td>Mata Lucero</td>\n",
       "      <td>lucero.mata@tractchun.com</td>\n",
       "      <td>1989/4/28</td>\n",
       "    </tr>\n",
       "    <tr>\n",
       "      <th>1</th>\n",
       "      <td>2</td>\n",
       "      <td>JesusGrajeda</td>\n",
       "      <td>jesus.grajeda@tractchun.com</td>\n",
       "      <td>1979/1/1</td>\n",
       "    </tr>\n",
       "    <tr>\n",
       "      <th>2</th>\n",
       "      <td>3</td>\n",
       "      <td>Elena Velez</td>\n",
       "      <td>elena.velez@tractchun.com</td>\n",
       "      <td>1993/6/6</td>\n",
       "    </tr>\n",
       "    <tr>\n",
       "      <th>3</th>\n",
       "      <td>4</td>\n",
       "      <td>Barraza Alberto</td>\n",
       "      <td>alberto.barraza@tractchun.com</td>\n",
       "      <td>1978/10/20</td>\n",
       "    </tr>\n",
       "    <tr>\n",
       "      <th>4</th>\n",
       "      <td>5</td>\n",
       "      <td>Willyberto Gonzales</td>\n",
       "      <td>willyberto.gonzales@tractchun.com</td>\n",
       "      <td>1973/5/11</td>\n",
       "    </tr>\n",
       "  </tbody>\n",
       "</table>\n",
       "</div>"
      ],
      "text/plain": [
       "   ID Agente               Nombre                              email  \\\n",
       "0          1          Mata Lucero          lucero.mata@tractchun.com   \n",
       "1          2         JesusGrajeda        jesus.grajeda@tractchun.com   \n",
       "2          3          Elena Velez          elena.velez@tractchun.com   \n",
       "3          4      Barraza Alberto      alberto.barraza@tractchun.com   \n",
       "4          5  Willyberto Gonzales  willyberto.gonzales@tractchun.com   \n",
       "\n",
       "  Fecha de Nacimiento  \n",
       "0           1989/4/28  \n",
       "1            1979/1/1  \n",
       "2            1993/6/6  \n",
       "3          1978/10/20  \n",
       "4           1973/5/11  "
      ]
     },
     "execution_count": 19,
     "metadata": {},
     "output_type": "execute_result"
    }
   ],
   "source": [
    "df_csv1.head()"
   ]
  },
  {
   "attachments": {},
   "cell_type": "markdown",
   "metadata": {},
   "source": [
    "¿Cuántos valores únicos tenemos para cada una de las columnas?\n"
   ]
  },
  {
   "cell_type": "code",
   "execution_count": 23,
   "metadata": {},
   "outputs": [
    {
     "data": {
      "text/plain": [
       "Index(['ID Agente', 'Nombre', 'email', 'Fecha de Nacimiento'], dtype='object')"
      ]
     },
     "execution_count": 23,
     "metadata": {},
     "output_type": "execute_result"
    }
   ],
   "source": [
    "df_csv1.columns"
   ]
  },
  {
   "cell_type": "code",
   "execution_count": 25,
   "metadata": {},
   "outputs": [
    {
     "data": {
      "text/plain": [
       "50"
      ]
     },
     "execution_count": 25,
     "metadata": {},
     "output_type": "execute_result"
    }
   ],
   "source": [
    "len(df_csv1[\"ID Agente\"].unique())"
   ]
  },
  {
   "cell_type": "code",
   "execution_count": 30,
   "metadata": {},
   "outputs": [
    {
     "data": {
      "text/plain": [
       "[50, 50, 50, 50]"
      ]
     },
     "execution_count": 30,
     "metadata": {},
     "output_type": "execute_result"
    }
   ],
   "source": [
    "#Observamos que en cada columna hay 50 valores únicos. Hemos creado este pequeño programa para obtener dicha información:\n",
    "\n",
    "lista_conteo_unicos_csv1 = []\n",
    "for columna in df_csv1.columns:\n",
    "    conteo = len(df_csv1[columna].unique())\n",
    "    lista_conteo_unicos_csv1.append(conteo)\n",
    "lista_conteo_unicos_csv1\n"
   ]
  },
  {
   "cell_type": "code",
   "execution_count": 9,
   "metadata": {},
   "outputs": [
    {
     "name": "stdout",
     "output_type": "stream",
     "text": [
      "{'ID Agente': 50, 'Nombre': 50, 'email': 50, 'Fecha de Nacimiento': 50}\n"
     ]
    }
   ],
   "source": [
    "#Forma compleja con un dictionary comprehension\n",
    "\n",
    "columnas_csv1 = df_csv1.columns\n",
    "\n",
    "conteo_unique_csv1 = {col: len(df_csv1[col].unique()) for col in columnas_csv1}\n",
    "\n",
    "print(conteo_unique_csv1)"
   ]
  },
  {
   "cell_type": "code",
   "execution_count": 34,
   "metadata": {},
   "outputs": [
    {
     "data": {
      "text/plain": [
       "[5, 2000, 376, 565, 75, 2000]"
      ]
     },
     "execution_count": 34,
     "metadata": {},
     "output_type": "execute_result"
    }
   ],
   "source": [
    "lista_conteo_unicos_csv2 = []\n",
    "for columna in df_csv2.columns:\n",
    "    conteo = len(df_csv2[columna].unique())\n",
    "    lista_conteo_unicos_csv2.append(conteo)\n",
    "lista_conteo_unicos_csv2"
   ]
  },
  {
   "cell_type": "code",
   "execution_count": 31,
   "metadata": {},
   "outputs": [
    {
     "name": "stdout",
     "output_type": "stream",
     "text": [
      "{'Turno': 5, 'ID Empleado': 2000, 'Apellido': 376, 'Nombre': 565, 'ID Puesto': 75, 'Email': 2000}\n"
     ]
    }
   ],
   "source": [
    "columnas_csv2 = df_csv2.columns\n",
    "\n",
    "conteo_unique_csv2 = {col: len(df_csv2[col].unique()) for col in columnas_csv2}\n",
    "\n",
    "print(conteo_unique_csv2)"
   ]
  },
  {
   "cell_type": "code",
   "execution_count": 35,
   "metadata": {},
   "outputs": [
    {
     "data": {
      "text/plain": [
       "[13051, 367, 2000, 51, 5, 3, 6, 5, 22, 6, 2, 2]"
      ]
     },
     "execution_count": 35,
     "metadata": {},
     "output_type": "execute_result"
    }
   ],
   "source": [
    "lista_conteo_unicos_excel = []\n",
    "for columna in df_xlsx.columns:\n",
    "    conteo = len(df_xlsx[columna].unique())\n",
    "    lista_conteo_unicos_excel.append(conteo)\n",
    "lista_conteo_unicos_excel"
   ]
  },
  {
   "cell_type": "code",
   "execution_count": null,
   "metadata": {},
   "outputs": [],
   "source": [
    "columnas_xlsx = df_xlsx.columns\n",
    "\n",
    "conteo_unique_xlsx = {col: df_xlsx[col].value_counts() for col in columnas_xlsx}\n",
    "\n",
    "print(conteo_unique_xlsx)"
   ]
  },
  {
   "attachments": {},
   "cell_type": "markdown",
   "metadata": {},
   "source": [
    "De aquellas columnas que tengan menos de 6 elementos únicos mostrad cada uno de sus valores únicos.\n"
   ]
  },
  {
   "cell_type": "code",
   "execution_count": 37,
   "metadata": {},
   "outputs": [
    {
     "data": {
      "text/plain": [
       "Index(['ID Agente', 'Nombre', 'email', 'Fecha de Nacimiento'], dtype='object')"
      ]
     },
     "execution_count": 37,
     "metadata": {},
     "output_type": "execute_result"
    }
   ],
   "source": [
    "df_csv1.columns"
   ]
  },
  {
   "cell_type": "code",
   "execution_count": 49,
   "metadata": {},
   "outputs": [
    {
     "name": "stdout",
     "output_type": "stream",
     "text": [
      "No hay ninguna columna que tenga menos de 6 valores únicos\n"
     ]
    }
   ],
   "source": [
    "for col in df_csv1.columns:\n",
    "\n",
    "    if len(df_csv1[col].unique()) > 6: \n",
    "        \n",
    "        print(\"No hay ninguna columna que tenga menos de 6 valores únicos\")\n",
    "        break\n",
    "  \n",
    "    elif len(df_csv1[col].unique()) < 6:\n",
    "               \n",
    "        print(\"La columna\", col, \"tiene menos de 6 valores únicos\")\n",
    "        print(f\"Estos son los valores únicos de la columna {col} {df_csv2[col].unique()}\")\n",
    "        # print(df[col].unique())"
   ]
  },
  {
   "cell_type": "code",
   "execution_count": 50,
   "metadata": {},
   "outputs": [
    {
     "name": "stdout",
     "output_type": "stream",
     "text": [
      "La columna Turno tiene menos de 6 valores únicos\n",
      "Estos son los valores únicos de la columna Turno ['A' nan 'B' 'C' 'D']\n",
      "No hay ninguna columna que tenga menos de 6 valores únicos\n"
     ]
    }
   ],
   "source": [
    "for col in df_csv2.columns:\n",
    "\n",
    "    if len(df_csv2[col].unique()) > 6: \n",
    "        \n",
    "        print(\"No hay ninguna columna que tenga menos de 6 valores únicos\")\n",
    "        break\n",
    "  \n",
    "    elif len(df_csv2[col].unique()) < 6:\n",
    "               \n",
    "        print(\"La columna\", col, \"tiene menos de 6 valores únicos\")\n",
    "        print(f\"Estos son los valores únicos de la columna {col} {df_csv2[col].unique()}\")"
   ]
  },
  {
   "cell_type": "code",
   "execution_count": 52,
   "metadata": {},
   "outputs": [
    {
     "data": {
      "text/plain": [
       "[13051, 367, 2000, 51, 5, 3, 6, 5, 22, 6, 2, 2]"
      ]
     },
     "execution_count": 52,
     "metadata": {},
     "output_type": "execute_result"
    }
   ],
   "source": [
    "lista_conteo_unicos_excel = []\n",
    "for columna in df_xlsx.columns:\n",
    "    conteo = len(df_xlsx[columna].unique())\n",
    "    lista_conteo_unicos_excel.append(conteo)\n",
    "lista_conteo_unicos_excel"
   ]
  },
  {
   "cell_type": "code",
   "execution_count": 60,
   "metadata": {},
   "outputs": [
    {
     "name": "stdout",
     "output_type": "stream",
     "text": [
      "Esta columna ID Ticket no tiene menos de 6 valores únicos\n",
      "Esta columna Fecha no tiene menos de 6 valores únicos\n",
      "Esta columna ID Empleado no tiene menos de 6 valores únicos\n",
      "Esta columna ID Agente no tiene menos de 6 valores únicos\n",
      "......\n",
      "La columna Categoría tiene menos de 6 valores únicos\n",
      "Estos son los valores únicos de la columna Categoría ['Acceso&%Login' 'Sistema' 'Software' 'Hardware' nan]\n",
      "......\n",
      "......\n",
      "La columna Tipo tiene menos de 6 valores únicos\n",
      "Estos son los valores únicos de la columna Tipo ['Problema' 'Solicitud' nan]\n",
      "......\n",
      "......\n",
      "La columna Prioridad tiene menos de 6 valores únicos\n",
      "Estos son los valores únicos de la columna Prioridad ['0 - Sin Asignar' nan '3 - Alta' '2 - Media' '1 - Baja']\n",
      "......\n",
      "Esta columna Días Resolución no tiene menos de 6 valores únicos\n",
      "......\n",
      "La columna Web tiene menos de 6 valores únicos\n",
      "Estos son los valores únicos de la columna Web ['www.tractchun.es' nan]\n",
      "......\n",
      "......\n",
      "La columna Índice  tiene menos de 6 valores únicos\n",
      "Estos son los valores únicos de la columna Índice  [ 1. nan]\n",
      "......\n"
     ]
    }
   ],
   "source": [
    "for col in df_xlsx.columns:\n",
    "  \n",
    "    if len(df_xlsx[col].unique()) < 6:\n",
    "\n",
    "        print(\"......\")       \n",
    "        print(\"La columna\", col, \"tiene menos de 6 valores únicos\")\n",
    "        print(f\"Estos son los valores únicos de la columna {col} {df_xlsx[col].unique()}\")\n",
    "        print(\"......\")\n",
    "\n",
    "    elif len(df_xlsx[col].unique()) > 6: \n",
    "        print(\"Esta columna\", col, \"no tiene menos de 6 valores únicos\")\n",
    "        continue"
   ]
  },
  {
   "attachments": {},
   "cell_type": "markdown",
   "metadata": {},
   "source": [
    "📌 NOTA Fijaos que vamos a hacer lo mismo para cada archivo que tenemos. Una buena práctica sería crearnos una función que apliquemos a cada conjunto de datos. Nuestra función recibirá un parámetro, que será el dataframe entero"
   ]
  },
  {
   "cell_type": "code",
   "execution_count": null,
   "metadata": {},
   "outputs": [
    {
     "ename": "",
     "evalue": "",
     "output_type": "error",
     "traceback": [
      "\u001b[1;31mThe kernel failed to start as the Python Environment '/home/adalaber/anaconda3/envs/py39' is no longer available. Consider selecting another kernel or refreshing the list of Python Environments."
     ]
    }
   ],
   "source": []
  },
  {
   "attachments": {},
   "cell_type": "markdown",
   "metadata": {},
   "source": [
    "📌 NOTA Nos estamos convirtiendo en analistas de datos y no nos debe valer solo con escribir el código, os recomendamos que reviseis bien los resultados y empezais a extraer algunas conclusiones. ¿Hay datos raros en nuestros conjuntos de datos? ¿Tenemos nulos?, etc."
   ]
  },
  {
   "cell_type": "code",
   "execution_count": 64,
   "metadata": {},
   "outputs": [
    {
     "name": "stdout",
     "output_type": "stream",
     "text": [
      "Esta columna ID Ticket tiene  1 nulos\n",
      "Esta columna Fecha tiene  26 nulos\n",
      "Esta columna ID Empleado tiene  2 nulos\n",
      "Esta columna ID Agente tiene  1 nulos\n",
      "Esta columna Categoría tiene  13 nulos\n",
      "Esta columna Tipo tiene  1 nulos\n",
      "Esta columna Severidad tiene  26 nulos\n",
      "Esta columna Prioridad tiene  26 nulos\n",
      "Esta columna Días Resolución tiene  2 nulos\n",
      "Esta columna Satisfacción tiene  14 nulos\n",
      "Esta columna Web tiene  27 nulos\n",
      "Esta columna Índice  tiene  13 nulos\n"
     ]
    }
   ],
   "source": [
    "for col in df_xlsx.columns: #a repetir con cada uno de los DF\n",
    "  \n",
    "    print(f\"Esta columna {col} tiene  {df_xlsx[col].isnull().sum()} nulos\") # preguntar"
   ]
  },
  {
   "attachments": {},
   "cell_type": "markdown",
   "metadata": {},
   "source": [
    "3. Modificaciones básicas de los conjuntos de datos:"
   ]
  },
  {
   "attachments": {},
   "cell_type": "markdown",
   "metadata": {},
   "source": [
    "Cambiad el nombre de las columnas para que todas estén en minúsculas y reemplazad los espacios por _."
   ]
  },
  {
   "cell_type": "code",
   "execution_count": 67,
   "metadata": {},
   "outputs": [
    {
     "ename": "SyntaxError",
     "evalue": "invalid syntax (2327284107.py, line 1)",
     "output_type": "error",
     "traceback": [
      "\u001b[0;36m  Cell \u001b[0;32mIn [67], line 1\u001b[0;36m\u001b[0m\n\u001b[0;31m    df_csv1 = df_csv1.rename(columns = {col:col.lower(), col: col.replace(\" \", \"_\") for col in df_csv1.columns})\u001b[0m\n\u001b[0m                                                                                    ^\u001b[0m\n\u001b[0;31mSyntaxError\u001b[0m\u001b[0;31m:\u001b[0m invalid syntax\n"
     ]
    }
   ],
   "source": [
    "#para poner en minúsculas los títulos de las columnas:\n",
    "\n",
    "df_csv1 = df_csv1.rename(columns = {col:col.lower() for col in df_csv1.columns})\n",
    "df_csv1 = df_csv1.rename(columns = {col:col.lower() for col in df_csv1.columns})\n",
    "df_csv1 = df_csv1.rename(columns = {col:col.lower() for col in df_csv1.columns})"
   ]
  },
  {
   "cell_type": "code",
   "execution_count": null,
   "metadata": {},
   "outputs": [],
   "source": [
    "#para reemplazar \" \", por _:\n",
    "\n",
    "df_2017b = df_2017a.rename(columns = {col:col.replace(' ', '_') for col in df_2017a.columns})"
   ]
  },
  {
   "attachments": {},
   "cell_type": "markdown",
   "metadata": {},
   "source": [
    "Para las columnas de web e índice en el archovo de 2016.xlsx ya hemos visto que tiene un único valor único, lo cual no tiene mucho sentido ya que no nos aporta información útil. En este ejercicios tendréis que eliminar dichas columnas del dataframe."
   ]
  },
  {
   "cell_type": "code",
   "execution_count": 68,
   "metadata": {},
   "outputs": [
    {
     "data": {
      "text/plain": [
       "Index(['ID Ticket', 'Fecha', 'ID Empleado', 'ID Agente', 'Categoría', 'Tipo',\n",
       "       'Severidad', 'Prioridad', 'Días Resolución', 'Satisfacción', 'Web',\n",
       "       'Índice '],\n",
       "      dtype='object')"
      ]
     },
     "execution_count": 68,
     "metadata": {},
     "output_type": "execute_result"
    }
   ],
   "source": [
    "df_xlsx.columns"
   ]
  },
  {
   "cell_type": "code",
   "execution_count": 76,
   "metadata": {},
   "outputs": [],
   "source": [
    "df_xlsx.drop(['Web'], axis = 1, inplace = True)"
   ]
  },
  {
   "cell_type": "code",
   "execution_count": 78,
   "metadata": {},
   "outputs": [],
   "source": [
    "df_xlsx.drop(['Índice '], axis = 1, inplace = True)"
   ]
  },
  {
   "cell_type": "code",
   "execution_count": 79,
   "metadata": {},
   "outputs": [
    {
     "data": {
      "text/html": [
       "<div>\n",
       "<style scoped>\n",
       "    .dataframe tbody tr th:only-of-type {\n",
       "        vertical-align: middle;\n",
       "    }\n",
       "\n",
       "    .dataframe tbody tr th {\n",
       "        vertical-align: top;\n",
       "    }\n",
       "\n",
       "    .dataframe thead th {\n",
       "        text-align: right;\n",
       "    }\n",
       "</style>\n",
       "<table border=\"1\" class=\"dataframe\">\n",
       "  <thead>\n",
       "    <tr style=\"text-align: right;\">\n",
       "      <th></th>\n",
       "      <th>ID Ticket</th>\n",
       "      <th>Fecha</th>\n",
       "      <th>ID Empleado</th>\n",
       "      <th>ID Agente</th>\n",
       "      <th>Categoría</th>\n",
       "      <th>Tipo</th>\n",
       "      <th>Severidad</th>\n",
       "      <th>Prioridad</th>\n",
       "      <th>Días Resolución</th>\n",
       "      <th>Satisfacción</th>\n",
       "    </tr>\n",
       "  </thead>\n",
       "  <tbody>\n",
       "    <tr>\n",
       "      <th>0</th>\n",
       "      <td>GDDENR-5042564453</td>\n",
       "      <td>2016-07-13</td>\n",
       "      <td>1735.0</td>\n",
       "      <td>4.0</td>\n",
       "      <td>Acceso&amp;%Login</td>\n",
       "      <td>Problema</td>\n",
       "      <td>0 - Sin Clasificar</td>\n",
       "      <td>0 - Sin Asignar</td>\n",
       "      <td>0.0</td>\n",
       "      <td>5.0</td>\n",
       "    </tr>\n",
       "    <tr>\n",
       "      <th>1</th>\n",
       "      <td>GDDENR-8042508060</td>\n",
       "      <td>2016-05-18</td>\n",
       "      <td>1566.0</td>\n",
       "      <td>10.0</td>\n",
       "      <td>Acceso&amp;%Login</td>\n",
       "      <td>Problema</td>\n",
       "      <td>0 - Sin Clasificar</td>\n",
       "      <td>0 - Sin Asignar</td>\n",
       "      <td>0.0</td>\n",
       "      <td>5.0</td>\n",
       "    </tr>\n",
       "  </tbody>\n",
       "</table>\n",
       "</div>"
      ],
      "text/plain": [
       "           ID Ticket      Fecha  ID Empleado  ID Agente      Categoría  \\\n",
       "0  GDDENR-5042564453 2016-07-13       1735.0        4.0  Acceso&%Login   \n",
       "1  GDDENR-8042508060 2016-05-18       1566.0       10.0  Acceso&%Login   \n",
       "\n",
       "       Tipo           Severidad        Prioridad  Días Resolución  \\\n",
       "0  Problema  0 - Sin Clasificar  0 - Sin Asignar              0.0   \n",
       "1  Problema  0 - Sin Clasificar  0 - Sin Asignar              0.0   \n",
       "\n",
       "   Satisfacción  \n",
       "0           5.0  \n",
       "1           5.0  "
      ]
     },
     "execution_count": 79,
     "metadata": {},
     "output_type": "execute_result"
    }
   ],
   "source": [
    "# Observamos que la eliminación de ambas columnas \"web\" e \"indice\" se ha realizado satisfactoriamente\n",
    "df_xlsx.head(2)"
   ]
  },
  {
   "attachments": {},
   "cell_type": "markdown",
   "metadata": {},
   "source": [
    "Establece la columna id_ticket de la tabla de 2016.xlsx como índice del DataFrame."
   ]
  },
  {
   "cell_type": "code",
   "execution_count": 80,
   "metadata": {},
   "outputs": [],
   "source": [
    "df_xlsx.set_index(['ID Ticket'],inplace = True)"
   ]
  },
  {
   "cell_type": "code",
   "execution_count": 81,
   "metadata": {},
   "outputs": [
    {
     "data": {
      "text/html": [
       "<div>\n",
       "<style scoped>\n",
       "    .dataframe tbody tr th:only-of-type {\n",
       "        vertical-align: middle;\n",
       "    }\n",
       "\n",
       "    .dataframe tbody tr th {\n",
       "        vertical-align: top;\n",
       "    }\n",
       "\n",
       "    .dataframe thead th {\n",
       "        text-align: right;\n",
       "    }\n",
       "</style>\n",
       "<table border=\"1\" class=\"dataframe\">\n",
       "  <thead>\n",
       "    <tr style=\"text-align: right;\">\n",
       "      <th></th>\n",
       "      <th>Fecha</th>\n",
       "      <th>ID Empleado</th>\n",
       "      <th>ID Agente</th>\n",
       "      <th>Categoría</th>\n",
       "      <th>Tipo</th>\n",
       "      <th>Severidad</th>\n",
       "      <th>Prioridad</th>\n",
       "      <th>Días Resolución</th>\n",
       "      <th>Satisfacción</th>\n",
       "    </tr>\n",
       "    <tr>\n",
       "      <th>ID Ticket</th>\n",
       "      <th></th>\n",
       "      <th></th>\n",
       "      <th></th>\n",
       "      <th></th>\n",
       "      <th></th>\n",
       "      <th></th>\n",
       "      <th></th>\n",
       "      <th></th>\n",
       "      <th></th>\n",
       "    </tr>\n",
       "  </thead>\n",
       "  <tbody>\n",
       "    <tr>\n",
       "      <th>GDDENR-5042564453</th>\n",
       "      <td>2016-07-13</td>\n",
       "      <td>1735.0</td>\n",
       "      <td>4.0</td>\n",
       "      <td>Acceso&amp;%Login</td>\n",
       "      <td>Problema</td>\n",
       "      <td>0 - Sin Clasificar</td>\n",
       "      <td>0 - Sin Asignar</td>\n",
       "      <td>0.0</td>\n",
       "      <td>5.0</td>\n",
       "    </tr>\n",
       "    <tr>\n",
       "      <th>GDDENR-8042508060</th>\n",
       "      <td>2016-05-18</td>\n",
       "      <td>1566.0</td>\n",
       "      <td>10.0</td>\n",
       "      <td>Acceso&amp;%Login</td>\n",
       "      <td>Problema</td>\n",
       "      <td>0 - Sin Clasificar</td>\n",
       "      <td>0 - Sin Asignar</td>\n",
       "      <td>0.0</td>\n",
       "      <td>5.0</td>\n",
       "    </tr>\n",
       "  </tbody>\n",
       "</table>\n",
       "</div>"
      ],
      "text/plain": [
       "                       Fecha  ID Empleado  ID Agente      Categoría      Tipo  \\\n",
       "ID Ticket                                                                       \n",
       "GDDENR-5042564453 2016-07-13       1735.0        4.0  Acceso&%Login  Problema   \n",
       "GDDENR-8042508060 2016-05-18       1566.0       10.0  Acceso&%Login  Problema   \n",
       "\n",
       "                            Severidad        Prioridad  Días Resolución  \\\n",
       "ID Ticket                                                                 \n",
       "GDDENR-5042564453  0 - Sin Clasificar  0 - Sin Asignar              0.0   \n",
       "GDDENR-8042508060  0 - Sin Clasificar  0 - Sin Asignar              0.0   \n",
       "\n",
       "                   Satisfacción  \n",
       "ID Ticket                        \n",
       "GDDENR-5042564453           5.0  \n",
       "GDDENR-8042508060           5.0  "
      ]
     },
     "execution_count": 81,
     "metadata": {},
     "output_type": "execute_result"
    }
   ],
   "source": [
    "df_xlsx.head(2)"
   ]
  },
  {
   "attachments": {},
   "cell_type": "markdown",
   "metadata": {},
   "source": [
    "4. Guarda los csv's sobre los que hayáis hecho cambios para usarlos en próximos pairs ."
   ]
  },
  {
   "cell_type": "code",
   "execution_count": null,
   "metadata": {},
   "outputs": [
    {
     "ename": "",
     "evalue": "",
     "output_type": "error",
     "traceback": [
      "\u001b[1;31mThe kernel failed to start as the Python Environment '/home/adalaber/anaconda3/envs/py39' is no longer available. Consider selecting another kernel or refreshing the list of Python Environments."
     ]
    }
   ],
   "source": []
  }
 ],
 "metadata": {
  "kernelspec": {
   "display_name": "adalabenv",
   "language": "python",
   "name": "python3"
  },
  "language_info": {
   "codemirror_mode": {
    "name": "ipython",
    "version": 3
   },
   "file_extension": ".py",
   "mimetype": "text/x-python",
   "name": "python",
   "nbconvert_exporter": "python",
   "pygments_lexer": "ipython3",
   "version": "3.10.9"
  },
  "orig_nbformat": 4,
  "vscode": {
   "interpreter": {
    "hash": "0b8bbabd87d3ce636409443d1398e5656bf795e33c753b5e821c4b969f4e6c41"
   }
  }
 },
 "nbformat": 4,
 "nbformat_minor": 2
}
