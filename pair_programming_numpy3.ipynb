{
 "cells": [
  {
   "attachments": {},
   "cell_type": "markdown",
   "metadata": {},
   "source": [
    "## EJERCICIO 3 \n",
    "## Pair Programming NumPy III"
   ]
  },
  {
   "attachments": {},
   "cell_type": "markdown",
   "metadata": {},
   "source": [
    "En esta lección hemps aprendido algunas de las operaciones matemáticas más importantes que podemos aplicar a un array. Hoy pondremos en práctica algunas de estas operaciones, además de recordar algunas de los métodos aprendidos en otras lecciones y recordar como podemos iterar por un array."
   ]
  },
  {
   "attachments": {},
   "cell_type": "markdown",
   "metadata": {},
   "source": [
    "1. Cread un array de tres dimensiones de 2 matrices, 3 filas y 5 columnas cuyos valores solo tengan 1 decimales. Sobre el array creado anteriormente, extraed:"
   ]
  },
  {
   "cell_type": "code",
   "execution_count": 3,
   "metadata": {},
   "outputs": [],
   "source": [
    "import numpy as np"
   ]
  },
  {
   "cell_type": "code",
   "execution_count": 9,
   "metadata": {},
   "outputs": [],
   "source": [
    "array1 = np.round(np.random.rand (2,3,5),1)"
   ]
  },
  {
   "cell_type": "code",
   "execution_count": 10,
   "metadata": {},
   "outputs": [
    {
     "data": {
      "text/plain": [
       "array([[[0.7, 0.9, 0.7, 0.1, 0.8],\n",
       "        [0.9, 0.2, 0.5, 0.7, 0.7],\n",
       "        [0.6, 0.6, 0.2, 0.9, 0.7]],\n",
       "\n",
       "       [[0.2, 0.9, 0.2, 0.8, 0.5],\n",
       "        [0.2, 0.9, 0.7, 0.8, 0.6],\n",
       "        [0.6, 0.9, 0.4, 0.6, 0.8]]])"
      ]
     },
     "execution_count": 10,
     "metadata": {},
     "output_type": "execute_result"
    }
   ],
   "source": [
    "array1"
   ]
  },
  {
   "attachments": {},
   "cell_type": "markdown",
   "metadata": {},
   "source": [
    "2. Calculad la media del array y almacenarlos en una variable. Redondead a un decimal."
   ]
  },
  {
   "cell_type": "code",
   "execution_count": 14,
   "metadata": {},
   "outputs": [
    {
     "data": {
      "text/plain": [
       "0.6"
      ]
     },
     "execution_count": 14,
     "metadata": {},
     "output_type": "execute_result"
    }
   ],
   "source": [
    "media_array1 = np.round(np.mean(array1),1)\n",
    "media_array1"
   ]
  },
  {
   "attachments": {},
   "cell_type": "markdown",
   "metadata": {},
   "source": [
    "3. Calculad el valor máximo del array y almacenarlos en una variable. Redondead a un decimal."
   ]
  },
  {
   "cell_type": "code",
   "execution_count": 15,
   "metadata": {},
   "outputs": [
    {
     "data": {
      "text/plain": [
       "0.9"
      ]
     },
     "execution_count": 15,
     "metadata": {},
     "output_type": "execute_result"
    }
   ],
   "source": [
    "maximo_array1 = np.round(np.max(array1),1)\n",
    "maximo_array1"
   ]
  },
  {
   "attachments": {},
   "cell_type": "markdown",
   "metadata": {},
   "source": [
    "4. Calculad el valor mínimo del array y almacenarlos en una variable. Redondead a un decimal."
   ]
  },
  {
   "cell_type": "code",
   "execution_count": 16,
   "metadata": {},
   "outputs": [
    {
     "data": {
      "text/plain": [
       "0.1"
      ]
     },
     "execution_count": 16,
     "metadata": {},
     "output_type": "execute_result"
    }
   ],
   "source": [
    "minimo_array1 = np.round(np.min(array1),1)\n",
    "minimo_array1"
   ]
  },
  {
   "attachments": {},
   "cell_type": "markdown",
   "metadata": {},
   "source": [
    "5. Cread un array vacío con la misma forma y dimensiones que el array creado anteriormente.\n",
    "Vamos a reemplazar los valores de la matriz vacía que nos acabamos de crear pero basándonos en los valores del primer array bajo las siguientes condiciones:\n",
    "- Si el valor del array es igual que la media, se reemplaza por \"A\".\n",
    "- Si el valor del array es mayor que la media, se reemplaza por \"B\".\n",
    "- Si el valor del array es menor que la media, se reemplaza por \"C\".\n",
    "- Si el valor es igual que el máximo, se reemplaza por \"D\".\n",
    "- Si el valor es igual que el mínimo, se reemplaza por \"E\"\n",
    "  \n",
    "  - a modo de ejemplo. Si tenemos el siguiente array\n",
    "[[[0.4, 0.7, 0.2, 0.9, 0.2],\n",
    "    [0.1, 0.9, 0.6, 0.1, 0.2],\n",
    "    [1. , 0.2, 0.1, 0.8, 0.3]],\n",
    "\n",
    "   [[0. , 0.3, 0.4, 0.5, 0.1],\n",
    "    [0.5, 0.7, 0.9, 0. , 0.8],\n",
    "    [0.5, 0.3, 0.5, 0.8, 0.1]]])\n",
    "\n",
    "   - sabiendo que la media es 0.4 y el máximo es 1.0 y el mínimo es 0.0\n",
    "\n",
    "  - nuestro array vacío debería quedar como este: \n",
    "[[[\"A\", \"B\", \"C\", \"B\", \"C\"],\n",
    "    [\"C\", \"B\", \"B\", \"C\", \"C\"],\n",
    "    [\"D\" , \"C\", \"C\", \"B\", \"C\"]],\n",
    "\n",
    "   [[\"E\" , \"C\", \"A\", \"B\", \"C\"],\n",
    "    [\"B\", \"B\",\"B\", \"E\" , \"B\"],\n",
    "    [\"B\", \"C\", \"B\", \"B\", \"C\"]]])\n",
    "\n",
    "💡 Pista 💡 Tendréis que iterar por el array y cambiar los valores de la matriz vacía. Para eso tendremos que usar distintos condicionales."
   ]
  },
  {
   "cell_type": "code",
   "execution_count": 17,
   "metadata": {},
   "outputs": [
    {
     "data": {
      "text/plain": [
       "array([[[0.7, 0.9, 0.7, 0.1, 0.8],\n",
       "        [0.9, 0.2, 0.5, 0.7, 0.7],\n",
       "        [0.6, 0.6, 0.2, 0.9, 0.7]],\n",
       "\n",
       "       [[0.2, 0.9, 0.2, 0.8, 0.5],\n",
       "        [0.2, 0.9, 0.7, 0.8, 0.6],\n",
       "        [0.6, 0.9, 0.4, 0.6, 0.8]]])"
      ]
     },
     "execution_count": 17,
     "metadata": {},
     "output_type": "execute_result"
    }
   ],
   "source": [
    "array_vacio = np.empty_like(array1)\n",
    "array_vacio #de almacenamiento"
   ]
  },
  {
   "cell_type": "code",
   "execution_count": 28,
   "metadata": {},
   "outputs": [
    {
     "name": "stdout",
     "output_type": "stream",
     "text": [
      "0.7\n",
      "....\n",
      "0.9\n",
      "....\n",
      "0.7\n",
      "....\n",
      "0.1\n",
      "....\n",
      "0.8\n",
      "....\n",
      "0.9\n",
      "....\n",
      "0.2\n",
      "....\n",
      "0.5\n",
      "....\n",
      "0.7\n",
      "....\n",
      "0.7\n",
      "....\n",
      "0.6\n",
      "....\n",
      "0.6\n",
      "....\n",
      "0.2\n",
      "....\n",
      "0.9\n",
      "....\n",
      "0.7\n",
      "....\n",
      "0.2\n",
      "....\n",
      "0.9\n",
      "....\n",
      "0.2\n",
      "....\n",
      "0.8\n",
      "....\n",
      "0.5\n",
      "....\n",
      "0.2\n",
      "....\n",
      "0.9\n",
      "....\n",
      "0.7\n",
      "....\n",
      "0.8\n",
      "....\n",
      "0.6\n",
      "....\n",
      "0.6\n",
      "....\n",
      "0.9\n",
      "....\n",
      "0.4\n",
      "....\n",
      "0.6\n",
      "....\n",
      "0.8\n",
      "....\n"
     ]
    }
   ],
   "source": [
    "for matriz in array1:\n",
    "    matriz\n",
    "    \"......\"\n",
    "    for fila in matriz:\n",
    "        fila\n",
    "        \"....\"\n",
    "\n",
    "        for elemento in fila:\n",
    "            print(elemento)\n",
    "            print(\"....\")\n",
    "\n",
    "            #generar posibles coordenadas "
   ]
  },
  {
   "cell_type": "code",
   "execution_count": 29,
   "metadata": {},
   "outputs": [
    {
     "name": "stdout",
     "output_type": "stream",
     "text": [
      "0 0 0\n",
      "0 0 1\n",
      "0 0 2\n",
      "0 0 3\n",
      "0 0 4\n",
      "0 1 0\n",
      "0 1 1\n",
      "0 1 2\n",
      "0 1 3\n",
      "0 1 4\n",
      "0 2 0\n",
      "0 2 1\n",
      "0 2 2\n",
      "0 2 3\n",
      "0 2 4\n",
      "1 0 0\n",
      "1 0 1\n",
      "1 0 2\n",
      "1 0 3\n",
      "1 0 4\n",
      "1 1 0\n",
      "1 1 1\n",
      "1 1 2\n",
      "1 1 3\n",
      "1 1 4\n",
      "1 2 0\n",
      "1 2 1\n",
      "1 2 2\n",
      "1 2 3\n",
      "1 2 4\n"
     ]
    }
   ],
   "source": [
    "for matriz in range (0,2):\n",
    "    for fila in range (0,3):\n",
    "        for columna in range (0,5):\n",
    "            print(matriz, fila, columna)"
   ]
  },
  {
   "cell_type": "code",
   "execution_count": 23,
   "metadata": {},
   "outputs": [
    {
     "ename": "NameError",
     "evalue": "name 'n' is not defined",
     "output_type": "error",
     "traceback": [
      "\u001b[0;31m---------------------------------------------------------------------------\u001b[0m",
      "\u001b[0;31mNameError\u001b[0m                                 Traceback (most recent call last)",
      "Cell \u001b[0;32mIn [23], line 7\u001b[0m\n\u001b[1;32m      1\u001b[0m \u001b[39m#iteraremos sobre array1\u001b[39;00m\n\u001b[1;32m      2\u001b[0m \u001b[39m# media_array1\u001b[39;00m\n\u001b[1;32m      3\u001b[0m \u001b[39m# maximo_array1\u001b[39;00m\n\u001b[1;32m      4\u001b[0m \u001b[39m# minimo_array1\u001b[39;00m\n\u001b[1;32m      5\u001b[0m \u001b[39m# array_vacio #donde almacenar\u001b[39;00m\n\u001b[0;32m----> 7\u001b[0m \u001b[39mfor\u001b[39;00m i \u001b[39min\u001b[39;00m \u001b[39mrange\u001b[39m(\u001b[39m0\u001b[39m,n):\n\u001b[1;32m      8\u001b[0m     \u001b[39mfor\u001b[39;00m j \u001b[39min\u001b[39;00m \u001b[39mrange\u001b[39m(\u001b[39m0\u001b[39m,m):\n\u001b[1;32m     10\u001b[0m         \u001b[39mprint\u001b[39m(arr[i][j], end \u001b[39m=\u001b[39m \u001b[39m\"\u001b[39m\u001b[39m \u001b[39m\u001b[39m\"\u001b[39m)\n",
      "\u001b[0;31mNameError\u001b[0m: name 'n' is not defined"
     ]
    }
   ],
   "source": [
    "#iteraremos sobre array1\n",
    "# media_array1\n",
    "# maximo_array1\n",
    "# minimo_array1\n",
    "# array_vacio #donde almacenar\n",
    "\n",
    "# for i in range(0,n): ##código de internet\n",
    "#     for j in range(0,m):\n",
    "\n",
    "#         print(arr[i][j], end = \" \")\n",
    "#     print\n",
    "\n",
    "\n",
    "for lista in array1:\n",
    "\n",
    "\n",
    "   for elemento in lista:\n",
    "        if elemento == media_array1:\n",
    "            array_vacio.replace(elemento, A)\n",
    "\n",
    "#     array_vacio\n"
   ]
  },
  {
   "attachments": {},
   "cell_type": "markdown",
   "metadata": {},
   "source": [
    "5.Estupendo, tenemos un array con strings. Ahora realizaremos un ejercicio similar al anterior, pero en este caso nos crearemos un array vacío unidimensional de 30 elementos. Al final de este ejercicio acabaremos teniendo un array de tres dimensiones con la misma forma que el primero que nos creamos."
   ]
  },
  {
   "attachments": {},
   "cell_type": "markdown",
   "metadata": {},
   "source": [
    "- Si el valor del array creado en el ejercicio anterior es \"A\" o \"B\" lo reemplazaremos por 1.\n",
    "- Si el valor del array creado en el ejercicio anterior es \"C\" o \"D\" lo reemplazaremos por 2.\n",
    "- Si el valor del array creado en el ejercicio anterior es \"E\" lo reemplazaremos por 3."
   ]
  },
  {
   "cell_type": "code",
   "execution_count": null,
   "metadata": {},
   "outputs": [],
   "source": []
  },
  {
   "attachments": {},
   "cell_type": "markdown",
   "metadata": {},
   "source": [
    "Una vez que hayas reemplazado todos los valores cambiad la forma del array para que sea de tres dimensiones, con 2 matrices, 3 filas y 5 columnas."
   ]
  },
  {
   "cell_type": "code",
   "execution_count": null,
   "metadata": {},
   "outputs": [],
   "source": [
    "#reshape"
   ]
  }
 ],
 "metadata": {
  "kernelspec": {
   "display_name": "adalabenv",
   "language": "python",
   "name": "python3"
  },
  "language_info": {
   "codemirror_mode": {
    "name": "ipython",
    "version": 3
   },
   "file_extension": ".py",
   "mimetype": "text/x-python",
   "name": "python",
   "nbconvert_exporter": "python",
   "pygments_lexer": "ipython3",
   "version": "3.10.9"
  },
  "orig_nbformat": 4,
  "vscode": {
   "interpreter": {
    "hash": "0b8bbabd87d3ce636409443d1398e5656bf795e33c753b5e821c4b969f4e6c41"
   }
  }
 },
 "nbformat": 4,
 "nbformat_minor": 2
}
