{
 "cells": [
  {
   "attachments": {},
   "cell_type": "markdown",
   "metadata": {},
   "source": [
    "### PAIR PROGRAMMING NUMPY 2"
   ]
  },
  {
   "cell_type": "code",
   "execution_count": 2,
   "metadata": {},
   "outputs": [],
   "source": [
    " import numpy as np"
   ]
  },
  {
   "attachments": {},
   "cell_type": "markdown",
   "metadata": {},
   "source": [
    "1.\n",
    "Cread un array de dos dimensiones de 5 filas y 3 columnas. Sobre el array creado anteriormente, extraed:\n",
    "El valor de la primera fila y la segunda columna.\n",
    "©Extraed las filas pares (incluyendo la 0) y todas las columnas.\n",
    "Extraed los valores que sean mayores que 0.5.\n",
    "Extraed los valores menores que 0.2 o mayores que 0.5"
   ]
  },
  {
   "cell_type": "code",
   "execution_count": 5,
   "metadata": {},
   "outputs": [
    {
     "name": "stdout",
     "output_type": "stream",
     "text": [
      "[[31  5  6]\n",
      " [39 47 71]\n",
      " [13 43 55]\n",
      " [ 4 16 23]\n",
      " [66 21 45]]\n"
     ]
    }
   ],
   "source": [
    "\n",
    "array_miercoles = np.random.randint(4, 78, (5,3))\n",
    "print(array_miercoles)"
   ]
  },
  {
   "cell_type": "code",
   "execution_count": 6,
   "metadata": {},
   "outputs": [
    {
     "data": {
      "text/plain": [
       "5"
      ]
     },
     "execution_count": 6,
     "metadata": {},
     "output_type": "execute_result"
    }
   ],
   "source": [
    "\n",
    "#El valor de la primera fila y la segunda columna.\n",
    "\n",
    "array_miercoles[0][1]\n"
   ]
  },
  {
   "cell_type": "code",
   "execution_count": 7,
   "metadata": {},
   "outputs": [
    {
     "data": {
      "text/plain": [
       "array([[31,  5,  6],\n",
       "       [13, 43, 55],\n",
       "       [66, 21, 45]])"
      ]
     },
     "execution_count": 7,
     "metadata": {},
     "output_type": "execute_result"
    }
   ],
   "source": [
    "\n",
    "#Extraed las filas pares (incluyendo la 0) y todas las columnas.\n",
    "\n",
    "array_miercoles[::2][:]\n"
   ]
  },
  {
   "cell_type": "code",
   "execution_count": 8,
   "metadata": {},
   "outputs": [
    {
     "data": {
      "text/plain": [
       "array([31,  5,  6, 39, 47, 71, 13, 43, 55,  4, 16, 23, 66, 21, 45])"
      ]
     },
     "execution_count": 8,
     "metadata": {},
     "output_type": "execute_result"
    }
   ],
   "source": [
    "\n",
    "#Extraed los valores que sean mayores que 0.5.\n",
    "\n",
    "array_miercoles[array_miercoles> 0.5]\n"
   ]
  },
  {
   "cell_type": "code",
   "execution_count": 10,
   "metadata": {},
   "outputs": [
    {
     "data": {
      "text/plain": [
       "array([31,  5,  6, 39, 47, 71, 13, 43, 55,  4, 16, 23, 66, 21, 45])"
      ]
     },
     "execution_count": 10,
     "metadata": {},
     "output_type": "execute_result"
    }
   ],
   "source": [
    "\n",
    "#Extraed los valores menores que 0.2 o mayores que 0.5\n",
    "\n",
    "array_miercoles[(array_miercoles < 0.2) | (array_miercoles> 0.5)]"
   ]
  },
  {
   "attachments": {},
   "cell_type": "markdown",
   "metadata": {},
   "source": [
    "\n",
    "2. Cread dos array de tres dimensiones:\n",
    "El primero de 2 matrices, 5 filas y 3 columnas.\n",
    "El segundo de 3 matrices, 2 filas y 5 columnas\n",
    "Haced un análisis exploratorio de los array creados. Recordad que en el ejercicio de ayer nos creamos una función para esto.\n",
    "Sumad los dos arrays. ¿Podéis? ¿Por qué?\n",
    "Para cambiar la forma de un array y poder hacer operaciones entre arrays que tienen distintas formas hemos aprendido dos métodos:\n",
    ".reshape()\n",
    ".transpose()\n",
    "Utiliza estas dos funciones para cambiar la forma de los array y hacer operaciones entre ellos."
   ]
  },
  {
   "cell_type": "code",
   "execution_count": null,
   "metadata": {},
   "outputs": [],
   "source": [
    "\n",
    "#El primero de 2 matrices, 5 filas y 3 columnas.\n",
    "\n",
    "array1 = np.random.randint(1, 45, (2,5,3))"
   ]
  },
  {
   "cell_type": "code",
   "execution_count": null,
   "metadata": {},
   "outputs": [],
   "source": [
    "\n",
    "#El segundo de 3 matrices, 2 filas y 5 columnas\n",
    "\n",
    "array2 = np.random.randint(1, 45, (3,2,5))\n"
   ]
  },
  {
   "cell_type": "code",
   "execution_count": 15,
   "metadata": {},
   "outputs": [],
   "source": [
    "\n",
    "#Haced un análisis exploratorio de los array creados.\n",
    "#Recordad que en el ejercicio de ayer nos creamos una función para esto.\n",
    "\n",
    "def propiedades (array):\n",
    "    print(f\"Este array tiene una forma {array.shape}\")\n",
    "    print(f\"Este array tiene un tamaño {array.size}\")\n",
    "    print(f\"Este array tiene una dimensión {array.ndim}\")\n",
    "    print(f\"Este array contiene datos de tipo {array.dtype}\")"
   ]
  },
  {
   "cell_type": "code",
   "execution_count": 16,
   "metadata": {},
   "outputs": [
    {
     "name": "stdout",
     "output_type": "stream",
     "text": [
      "Este array tiene una forma (2, 5, 3)\n",
      "Este array tiene un tamaño 30\n",
      "Este array tiene una dimensión 3\n",
      "Este array contiene datos de tipo int64\n",
      "Este array tiene una forma (3, 2, 5)\n",
      "Este array tiene un tamaño 30\n",
      "Este array tiene una dimensión 3\n",
      "Este array contiene datos de tipo int64\n"
     ]
    }
   ],
   "source": [
    "propiedades(array1)\n",
    "propiedades(array2)"
   ]
  },
  {
   "cell_type": "code",
   "execution_count": 17,
   "metadata": {},
   "outputs": [
    {
     "ename": "ValueError",
     "evalue": "operands could not be broadcast together with shapes (2,5,3) (3,2,5) ",
     "output_type": "error",
     "traceback": [
      "\u001b[0;31m---------------------------------------------------------------------------\u001b[0m",
      "\u001b[0;31mValueError\u001b[0m                                Traceback (most recent call last)",
      "\u001b[0;32m/var/folders/t_/wl_dxng13j93db49220bzdd40000gn/T/ipykernel_1600/3766800814.py\u001b[0m in \u001b[0;36m<module>\u001b[0;34m\u001b[0m\n\u001b[1;32m      1\u001b[0m \u001b[0;31m#Sumad los dos arrays. ¿Podéis? ¿Por qué?\u001b[0m\u001b[0;34m\u001b[0m\u001b[0;34m\u001b[0m\u001b[0m\n\u001b[1;32m      2\u001b[0m \u001b[0;34m\u001b[0m\u001b[0m\n\u001b[0;32m----> 3\u001b[0;31m \u001b[0mnp\u001b[0m\u001b[0;34m.\u001b[0m\u001b[0madd\u001b[0m\u001b[0;34m(\u001b[0m\u001b[0marray1\u001b[0m\u001b[0;34m,\u001b[0m \u001b[0marray2\u001b[0m\u001b[0;34m)\u001b[0m\u001b[0;34m\u001b[0m\u001b[0;34m\u001b[0m\u001b[0m\n\u001b[0m",
      "\u001b[0;31mValueError\u001b[0m: operands could not be broadcast together with shapes (2,5,3) (3,2,5) "
     ]
    }
   ],
   "source": [
    "\n",
    "#Sumad los dos arrays. ¿Podéis? ¿Por qué?\n",
    "\n",
    "np.add(array1, array2)\n",
    "\n",
    "# Aunque la dimensión es la misma la forma no, por eso no podemos sumarlos. \n"
   ]
  },
  {
   "cell_type": "code",
   "execution_count": null,
   "metadata": {},
   "outputs": [],
   "source": [
    "\n",
    "#Para cambiar la forma de un array y poder hacer operaciones entre arrays que tienen distintas formas hemos \n",
    "# aprendido dos métodos:\n",
    "#.reshape()\n",
    "#.transpose()\n",
    "#Utiliza estas dos funciones para cambiar la forma de los array y hacer operaciones entre ellos."
   ]
  },
  {
   "cell_type": "code",
   "execution_count": 20,
   "metadata": {},
   "outputs": [],
   "source": [
    "\n",
    "array11 = np.reshape(array1, (3, 2, 5))\n"
   ]
  },
  {
   "cell_type": "code",
   "execution_count": 22,
   "metadata": {},
   "outputs": [
    {
     "data": {
      "text/plain": [
       "array([[[56, 36, 44, 15, 76],\n",
       "        [39, 53, 65, 50, 43]],\n",
       "\n",
       "       [[85, 45, 86, 44, 70],\n",
       "        [26, 37, 22, 57, 31]],\n",
       "\n",
       "       [[30, 14, 36, 30, 38],\n",
       "        [75, 46, 81, 48, 31]]])"
      ]
     },
     "execution_count": 22,
     "metadata": {},
     "output_type": "execute_result"
    }
   ],
   "source": [
    "np.add(array11, array2)"
   ]
  },
  {
   "cell_type": "code",
   "execution_count": 25,
   "metadata": {},
   "outputs": [
    {
     "name": "stdout",
     "output_type": "stream",
     "text": [
      "[[[22  2 19 34 43]\n",
      "  [ 8 44  4 35 37]]\n",
      "\n",
      " [[10 39 32 41  2]\n",
      "  [ 7  8 17 31 11]]\n",
      "\n",
      " [[ 3 17 39  8 41]\n",
      "  [ 3  7 24 16  3]]]\n",
      "Este array tiene una forma (3, 2, 5)\n",
      "Este array tiene un tamaño 30\n",
      "Este array tiene una dimensión 3\n",
      "Este array contiene datos de tipo int64\n"
     ]
    }
   ],
   "source": [
    "\n",
    "array111 = np.transpose(array1, (2, 0, 1))\n",
    "\n",
    "print(array111)\n",
    "\n",
    "propiedades(array111)"
   ]
  },
  {
   "cell_type": "code",
   "execution_count": 26,
   "metadata": {},
   "outputs": [
    {
     "name": "stdout",
     "output_type": "stream",
     "text": [
      "Este array tiene una forma (3, 2, 5)\n",
      "Este array tiene un tamaño 30\n",
      "Este array tiene una dimensión 3\n",
      "Este array contiene datos de tipo int64\n"
     ]
    }
   ],
   "source": [
    " propiedades(array2)"
   ]
  },
  {
   "cell_type": "code",
   "execution_count": 27,
   "metadata": {},
   "outputs": [
    {
     "data": {
      "text/plain": [
       "array([[[56, 28, 60, 47, 80],\n",
       "        [30, 78, 37, 46, 46]],\n",
       "\n",
       "       [[54, 76, 75, 83, 31],\n",
       "        [25, 38, 36, 44, 34]],\n",
       "\n",
       "       [[26, 27, 58, 14, 44],\n",
       "        [47, 37, 68, 53, 31]]])"
      ]
     },
     "execution_count": 27,
     "metadata": {},
     "output_type": "execute_result"
    }
   ],
   "source": [
    "#Tras haberle cambiado la forma a los arrays ya podemos sumarlos\n",
    "np.add(array111, array2)"
   ]
  }
 ],
 "metadata": {
  "kernelspec": {
   "display_name": "Python 3",
   "language": "python",
   "name": "python3"
  },
  "language_info": {
   "codemirror_mode": {
    "name": "ipython",
    "version": 3
   },
   "file_extension": ".py",
   "mimetype": "text/x-python",
   "name": "python",
   "nbconvert_exporter": "python",
   "pygments_lexer": "ipython3",
   "version": "3.9.6"
  },
  "orig_nbformat": 4,
  "vscode": {
   "interpreter": {
    "hash": "31f2aee4e71d21fbe5cf8b01ff0e069b9275f58929596ceb00d14d90e3e16cd6"
   }
  }
 },
 "nbformat": 4,
 "nbformat_minor": 2
}
