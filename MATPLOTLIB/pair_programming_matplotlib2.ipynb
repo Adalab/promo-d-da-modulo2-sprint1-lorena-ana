{
 "cells": [
  {
   "attachments": {},
   "cell_type": "markdown",
   "metadata": {},
   "source": [
    "# PAIR PROGRAMMING -  VISUALIZACIONES II\n"
   ]
  },
  {
   "attachments": {},
   "cell_type": "markdown",
   "metadata": {},
   "source": [
    "1. Ayer creamos un par de gráficas para los tickets de la categoría \"Software\" y \"Hardware\", donde visualizamos el número de clientes que teníamos en cada grupo de satisfacción. Hoy tendréis que hacer dos gráficas con subplots:\n",
    " - En la primera debéis mostrar la cantidad de tickets en función del tipo (si es Problema o Solicitud), cada subplot corresponderá a cada una de las categorías. Debéis:\n",
    "   - Poner nombre a los ejes de cada uno de los subplots\n",
    "   - Poner un títulos a cada uno de los subplots\n",
    "   - Poner el color de las líneas en negro.\n",
    "   - Establecer el tamaño de la gráfica a 15 x 5\n",
    "   - Ponerle marcadores a las gráficas\n",
    "   - No incluir leyenda\n",
    "\n",
    " - En la segunda debéis mostrar los ataques por año para cada uno de los países.\n",
    "   - De nuevo tendréis que ponerle nombre a los ejes y título a cada gráfica.\n",
    "   - En este caso el subplot deberá tener dos filas y una columna\n",
    "   - No incluir leyenda\n",
    "   - Cambiar el color de las barras"
   ]
  },
  {
   "cell_type": "code",
   "execution_count": 1,
   "metadata": {},
   "outputs": [],
   "source": [
    "import matplotlib.pyplot as plt\n",
    "import numpy as np  \n",
    "import pandas as pd"
   ]
  },
  {
   "cell_type": "code",
   "execution_count": 2,
   "metadata": {},
   "outputs": [],
   "source": [
    "df_años = pd.read_csv('datos/historico_tickets.csv')\n",
    "df_agentes = pd.read_csv('datos/Agentes.csv')\n",
    "df_empleados_puestos = pd.read_csv('datos/empleados_puestos.csv')"
   ]
  },
  {
   "cell_type": "code",
   "execution_count": 3,
   "metadata": {},
   "outputs": [
    {
     "data": {
      "text/html": [
       "<div>\n",
       "<style scoped>\n",
       "    .dataframe tbody tr th:only-of-type {\n",
       "        vertical-align: middle;\n",
       "    }\n",
       "\n",
       "    .dataframe tbody tr th {\n",
       "        vertical-align: top;\n",
       "    }\n",
       "\n",
       "    .dataframe thead th {\n",
       "        text-align: right;\n",
       "    }\n",
       "</style>\n",
       "<table border=\"1\" class=\"dataframe\">\n",
       "  <thead>\n",
       "    <tr style=\"text-align: right;\">\n",
       "      <th></th>\n",
       "      <th>Unnamed: 0</th>\n",
       "      <th>id_ticket</th>\n",
       "      <th>fecha</th>\n",
       "      <th>id_empleado</th>\n",
       "      <th>id_agente</th>\n",
       "      <th>categoría</th>\n",
       "      <th>tipo</th>\n",
       "      <th>severidad</th>\n",
       "      <th>prioridad</th>\n",
       "      <th>días_resolución</th>\n",
       "      <th>satisfacción</th>\n",
       "      <th>semestre</th>\n",
       "      <th>año</th>\n",
       "    </tr>\n",
       "  </thead>\n",
       "  <tbody>\n",
       "    <tr>\n",
       "      <th>0</th>\n",
       "      <td>0</td>\n",
       "      <td>GDDENR-5042564453</td>\n",
       "      <td>2016-07-13</td>\n",
       "      <td>1735</td>\n",
       "      <td>4</td>\n",
       "      <td>Acceso&amp;%Login</td>\n",
       "      <td>Problema</td>\n",
       "      <td>0 - Sin Clasificar</td>\n",
       "      <td>0 - Sin Asignar</td>\n",
       "      <td>0</td>\n",
       "      <td>5</td>\n",
       "      <td>2º semestre</td>\n",
       "      <td>2016</td>\n",
       "    </tr>\n",
       "    <tr>\n",
       "      <th>1</th>\n",
       "      <td>1</td>\n",
       "      <td>GDDENR-8042508060</td>\n",
       "      <td>2016-05-18</td>\n",
       "      <td>1566</td>\n",
       "      <td>10</td>\n",
       "      <td>Acceso&amp;%Login</td>\n",
       "      <td>Problema</td>\n",
       "      <td>0 - Sin Clasificar</td>\n",
       "      <td>0 - Sin Asignar</td>\n",
       "      <td>0</td>\n",
       "      <td>5</td>\n",
       "      <td>1 semestre</td>\n",
       "      <td>2016</td>\n",
       "    </tr>\n",
       "  </tbody>\n",
       "</table>\n",
       "</div>"
      ],
      "text/plain": [
       "   Unnamed: 0          id_ticket       fecha  id_empleado  id_agente  \\\n",
       "0           0  GDDENR-5042564453  2016-07-13         1735          4   \n",
       "1           1  GDDENR-8042508060  2016-05-18         1566         10   \n",
       "\n",
       "       categoría      tipo           severidad        prioridad  \\\n",
       "0  Acceso&%Login  Problema  0 - Sin Clasificar  0 - Sin Asignar   \n",
       "1  Acceso&%Login  Problema  0 - Sin Clasificar  0 - Sin Asignar   \n",
       "\n",
       "   días_resolución  satisfacción     semestre   año  \n",
       "0                0             5  2º semestre  2016  \n",
       "1                0             5   1 semestre  2016  "
      ]
     },
     "execution_count": 3,
     "metadata": {},
     "output_type": "execute_result"
    }
   ],
   "source": [
    "df_años.head(2)"
   ]
  },
  {
   "cell_type": "code",
   "execution_count": 4,
   "metadata": {},
   "outputs": [
    {
     "data": {
      "text/plain": [
       "array(['Problema', 'Solicitud'], dtype=object)"
      ]
     },
     "execution_count": 4,
     "metadata": {},
     "output_type": "execute_result"
    }
   ],
   "source": [
    "df_años[\"tipo\"].unique()"
   ]
  },
  {
   "cell_type": "code",
   "execution_count": 5,
   "metadata": {},
   "outputs": [],
   "source": [
    "df_conteo = df_años[\"tipo\"].value_counts()"
   ]
  },
  {
   "cell_type": "code",
   "execution_count": 6,
   "metadata": {},
   "outputs": [],
   "source": [
    "df_conteo2 = df_conteo.reset_index() #convertir serie en un dataframe"
   ]
  },
  {
   "cell_type": "code",
   "execution_count": 8,
   "metadata": {},
   "outputs": [
    {
     "data": {
      "text/html": [
       "<div>\n",
       "<style scoped>\n",
       "    .dataframe tbody tr th:only-of-type {\n",
       "        vertical-align: middle;\n",
       "    }\n",
       "\n",
       "    .dataframe tbody tr th {\n",
       "        vertical-align: top;\n",
       "    }\n",
       "\n",
       "    .dataframe thead th {\n",
       "        text-align: right;\n",
       "    }\n",
       "</style>\n",
       "<table border=\"1\" class=\"dataframe\">\n",
       "  <thead>\n",
       "    <tr style=\"text-align: right;\">\n",
       "      <th></th>\n",
       "      <th>index</th>\n",
       "      <th>tipo</th>\n",
       "    </tr>\n",
       "  </thead>\n",
       "  <tbody>\n",
       "    <tr>\n",
       "      <th>0</th>\n",
       "      <td>Solicitud</td>\n",
       "      <td>73138</td>\n",
       "    </tr>\n",
       "    <tr>\n",
       "      <th>1</th>\n",
       "      <td>Problema</td>\n",
       "      <td>24248</td>\n",
       "    </tr>\n",
       "  </tbody>\n",
       "</table>\n",
       "</div>"
      ],
      "text/plain": [
       "       index   tipo\n",
       "0  Solicitud  73138\n",
       "1   Problema  24248"
      ]
     },
     "execution_count": 8,
     "metadata": {},
     "output_type": "execute_result"
    }
   ],
   "source": [
    "df_conteo2"
   ]
  },
  {
   "attachments": {},
   "cell_type": "markdown",
   "metadata": {},
   "source": [
    "En la primera debéis mostrar la cantidad de tickets en función del tipo (si es Problema o Solicitud), cada subplot corresponderá a cada una de las categorías. Debéis:\n",
    "   - Poner nombre a los ejes de cada uno de los subplots\n",
    "   - Poner un títulos a cada uno de los subplots\n",
    "   - Poner el color de las líneas en negro.\n",
    "   - Establecer el tamaño de la gráfica a 15 x 5\n",
    "   - Ponerle marcadores a las gráficas\n",
    "   - No incluir leyenda\n",
    "\n",
    "En la segunda debéis mostrar el número de tickets en función de la satisfacción\n",
    "   - De nuevo tendréis que ponerle nombre a los ejes y título a cada gráfica.\n",
    "   - En este caso el subplot deberá tener dos filas y una columna\n",
    "   - No incluir leyenda\n",
    "   - Cambiar el color de las barras"
   ]
  },
  {
   "cell_type": "code",
   "execution_count": 11,
   "metadata": {},
   "outputs": [
    {
     "data": {
      "text/plain": [
       "pandas.core.frame.DataFrame"
      ]
     },
     "execution_count": 11,
     "metadata": {},
     "output_type": "execute_result"
    }
   ],
   "source": [
    "df_satisfaccion = df_años[\"satisfacción\"].value_counts()\n",
    "df_satisfaccion1 = df_satisfaccion.reset_index()\n",
    "type(df_satisfaccion1)"
   ]
  },
  {
   "cell_type": "code",
   "execution_count": 17,
   "metadata": {},
   "outputs": [
    {
     "data": {
      "image/png": "[encoded data removed]",
      "text/plain": [
       "<Figure size 640x480 with 2 Axes>"
      ]
     },
     "metadata": {},
     "output_type": "display_data"
    }
   ],
   "source": [
    "#creamos las gráficas de tipo subplots\n",
    "\n",
    "fig, ax = plt.subplots(2,1)\n",
    "\n",
    "ax[0].bar(df_conteo2[\"index\"], df_conteo2[\"tipo\"], color = \"violet\")\n",
    "\n",
    "ax[0].set_title(\"Solicitud-problema\")\n",
    "\n",
    "ax[0].set_xlabel(\"Tipo\")\n",
    "\n",
    "ax[0].set_ylabel(\"Total\")\n",
    "\n",
    "ax[1].bar(df_satisfaccion1[\"index\"], df_satisfaccion1[\"satisfacción\"],  color = \"green\")\n",
    "\n",
    "ax[1].set_title(\"Nivel satisfacción\")\n",
    "\n",
    "ax[1].set_xlabel(\"Indice satisfacción\")\n",
    "\n",
    "ax[1].set_ylabel(\"Total\")\n",
    "\n",
    "plt.show()"
   ]
  },
  {
   "attachments": {},
   "cell_type": "markdown",
   "metadata": {},
   "source": [
    "2. Cread un subplot con dos gráficas, dónde en la primera tengamos el número de empleados por departamento y en la otra por tipo de puesto. Debéis:\n",
    "    - Poner leyenda a la gráfica\n",
    "    - Cada línea debe ir en un color\n",
    "    - Ponerle nombre a los ejes y a la gráfica.\n",
    "    - Poner marcadores a las lineas."
   ]
  },
  {
   "cell_type": "code",
   "execution_count": 18,
   "metadata": {},
   "outputs": [
    {
     "data": {
      "text/html": [
       "<div>\n",
       "<style scoped>\n",
       "    .dataframe tbody tr th:only-of-type {\n",
       "        vertical-align: middle;\n",
       "    }\n",
       "\n",
       "    .dataframe tbody tr th {\n",
       "        vertical-align: top;\n",
       "    }\n",
       "\n",
       "    .dataframe thead th {\n",
       "        text-align: right;\n",
       "    }\n",
       "</style>\n",
       "<table border=\"1\" class=\"dataframe\">\n",
       "  <thead>\n",
       "    <tr style=\"text-align: right;\">\n",
       "      <th></th>\n",
       "      <th>Unnamed: 0</th>\n",
       "      <th>Turno</th>\n",
       "      <th>ID Empleado</th>\n",
       "      <th>Apellido</th>\n",
       "      <th>Nombre</th>\n",
       "      <th>ID Puesto</th>\n",
       "      <th>Email</th>\n",
       "      <th>Puesto</th>\n",
       "      <th>Departamento</th>\n",
       "      <th>Tipo Puesto</th>\n",
       "    </tr>\n",
       "  </thead>\n",
       "  <tbody>\n",
       "    <tr>\n",
       "      <th>0</th>\n",
       "      <td>0</td>\n",
       "      <td>A</td>\n",
       "      <td>6.0</td>\n",
       "      <td>VILLA</td>\n",
       "      <td>JESUS</td>\n",
       "      <td>50-32200</td>\n",
       "      <td>jesus.villa@tractchun.com</td>\n",
       "      <td>Comprador de Materiales</td>\n",
       "      <td>CONTROL DE PRODUCCION</td>\n",
       "      <td>Administrativo</td>\n",
       "    </tr>\n",
       "    <tr>\n",
       "      <th>1</th>\n",
       "      <td>1</td>\n",
       "      <td>NaN</td>\n",
       "      <td>60.0</td>\n",
       "      <td>DIAZ</td>\n",
       "      <td>PATRICIA</td>\n",
       "      <td>50-32200</td>\n",
       "      <td>patricia.diaz@tractchun.com</td>\n",
       "      <td>Comprador de Materiales</td>\n",
       "      <td>CONTROL DE PRODUCCION</td>\n",
       "      <td>Administrativo</td>\n",
       "    </tr>\n",
       "    <tr>\n",
       "      <th>2</th>\n",
       "      <td>2</td>\n",
       "      <td>B</td>\n",
       "      <td>2.0</td>\n",
       "      <td>DUARTE</td>\n",
       "      <td>ANTONIO</td>\n",
       "      <td>50-32200</td>\n",
       "      <td>antonio.duarte@tractchun.com</td>\n",
       "      <td>Comprador de Materiales</td>\n",
       "      <td>CONTROL DE PRODUCCION</td>\n",
       "      <td>Administrativo</td>\n",
       "    </tr>\n",
       "    <tr>\n",
       "      <th>3</th>\n",
       "      <td>3</td>\n",
       "      <td>NaN</td>\n",
       "      <td>24.0</td>\n",
       "      <td>VILLANUEVA</td>\n",
       "      <td>JESUS</td>\n",
       "      <td>50-32200</td>\n",
       "      <td>jesus.villanueva@tractchun.com</td>\n",
       "      <td>Comprador de Materiales</td>\n",
       "      <td>CONTROL DE PRODUCCION</td>\n",
       "      <td>Administrativo</td>\n",
       "    </tr>\n",
       "    <tr>\n",
       "      <th>4</th>\n",
       "      <td>4</td>\n",
       "      <td>NaN</td>\n",
       "      <td>98.0</td>\n",
       "      <td>GALLEGOS</td>\n",
       "      <td>PATRICIA</td>\n",
       "      <td>50-32200</td>\n",
       "      <td>patricia.gallegos@tractchun.com</td>\n",
       "      <td>Comprador de Materiales</td>\n",
       "      <td>CONTROL DE PRODUCCION</td>\n",
       "      <td>Administrativo</td>\n",
       "    </tr>\n",
       "  </tbody>\n",
       "</table>\n",
       "</div>"
      ],
      "text/plain": [
       "   Unnamed: 0 Turno  ID Empleado    Apellido    Nombre ID Puesto  \\\n",
       "0           0     A          6.0       VILLA     JESUS  50-32200   \n",
       "1           1   NaN         60.0        DIAZ  PATRICIA  50-32200   \n",
       "2           2     B          2.0      DUARTE   ANTONIO  50-32200   \n",
       "3           3   NaN         24.0  VILLANUEVA     JESUS  50-32200   \n",
       "4           4   NaN         98.0    GALLEGOS  PATRICIA  50-32200   \n",
       "\n",
       "                             Email                   Puesto  \\\n",
       "0        jesus.villa@tractchun.com  Comprador de Materiales   \n",
       "1      patricia.diaz@tractchun.com  Comprador de Materiales   \n",
       "2     antonio.duarte@tractchun.com  Comprador de Materiales   \n",
       "3   jesus.villanueva@tractchun.com  Comprador de Materiales   \n",
       "4  patricia.gallegos@tractchun.com  Comprador de Materiales   \n",
       "\n",
       "            Departamento     Tipo Puesto  \n",
       "0  CONTROL DE PRODUCCION  Administrativo  \n",
       "1  CONTROL DE PRODUCCION  Administrativo  \n",
       "2  CONTROL DE PRODUCCION  Administrativo  \n",
       "3  CONTROL DE PRODUCCION  Administrativo  \n",
       "4  CONTROL DE PRODUCCION  Administrativo  "
      ]
     },
     "execution_count": 18,
     "metadata": {},
     "output_type": "execute_result"
    }
   ],
   "source": [
    "df_empleados_puestos.head()"
   ]
  },
  {
   "cell_type": "code",
   "execution_count": 19,
   "metadata": {},
   "outputs": [
    {
     "data": {
      "text/plain": [
       "array(['CONTROL DE PRODUCCION', 'PRODUCCION', 'INGENIERIA DE CALIDAD',\n",
       "       'MANTENIMIENTO', 'INGENIERIA DE MANUFACTURA', 'MATERIALES',\n",
       "       'Recursos Humanos', 'SISTEMAS, TRAFICO Y ADUANAS',\n",
       "       'AUDITORIA INTERNA, CALIBRACION Y METROLOGIA', 'CONTABILIDAD',\n",
       "       'PERSONAL'], dtype=object)"
      ]
     },
     "execution_count": 19,
     "metadata": {},
     "output_type": "execute_result"
    }
   ],
   "source": [
    "df_empleados_puestos[\"Departamento\"].unique()"
   ]
  },
  {
   "cell_type": "code",
   "execution_count": 20,
   "metadata": {},
   "outputs": [
    {
     "data": {
      "text/plain": [
       "array(['Comprador de Materiales', 'Supervisor de Producción',\n",
       "       'Supervisor de Ingeniería de Calidad', 'Ingeniero de Procesos',\n",
       "       'Ingeniero de Manufactura', 'Almacenista', 'Entrenamiento',\n",
       "       'Auxiliar de Recursos Humanos', 'Clerk de Aduanas',\n",
       "       'Gerente de Control de Producción', 'Controlador de producción',\n",
       "       'Supervisor de Aseguramiento de Calidad',\n",
       "       'Gerente de mantenimiento', 'Auxiliar de Departamento',\n",
       "       'Supervisor de Mantenimiento',\n",
       "       'Técnico de calibración y metrología', 'Gerente de Producción',\n",
       "       'Controlador de Documentos', 'Clerk de Tráfico', 'Mecánico',\n",
       "       'Capturista de Tool Crib', 'Supervisor de Control de Producción',\n",
       "       'Operador de Producción', 'Supervisor de Tráfico',\n",
       "       'Coordinador de Activos', 'Técnico de soporte',\n",
       "       'Supervisor General de Producción', 'Ingeniero de Calidad',\n",
       "       'Supervisor de Nóminas',\n",
       "       'Supervisor General de Control de Producción',\n",
       "       'Auxiliar de compras', 'Supervisor General de Areas',\n",
       "       'Analista de Sistemas', 'Supervisor de Almacén',\n",
       "       'Supervisor de Recursos Humanos',\n",
       "       'Secretaria de Ingeniería de Manufactura', 'Capturista',\n",
       "       'Asistente de Calibración',\n",
       "       'Inspectora de Aseguramiento de Calidad', 'Auxiliar Contable',\n",
       "       'Comprador', 'Supervisor de Personal',\n",
       "       'Ingeniero de Calibracion y Metrologia', 'Reclutador',\n",
       "       'Supervisor General de Recursos Humanos', 'Encargado de Tool Crib',\n",
       "       'Auditor interno de calidad', 'Supervisor de captura',\n",
       "       'Coordinador de medio Ambiente, Seguridad e Higiene',\n",
       "       'Supervisor de Maquinado', 'Gerente de Planeación',\n",
       "       'Ingeniero de Materiales', 'Operador de Seguridad',\n",
       "       'Clerk de Copiado', 'Supervisor General de Mantenimiento',\n",
       "       'Supervisor  de desarrollo de sistemas',\n",
       "       'Ingeniero de Prueba Electrica', 'Supervisor de tool crib',\n",
       "       'Gerente de personal', 'Contralor',\n",
       "       'Director de Aseguramiento de Calidad', 'Maquinista',\n",
       "       'Planeador de Compras', 'Supervisor General de Aseg. de Calidad',\n",
       "       'Supervisor General de Materiales',\n",
       "       'Controlador de componentes especiales', 'Jefa de Línea',\n",
       "       'Supervisor de Aduanas', 'Asistente de Aduanas',\n",
       "       'Gerente de Auditoria Metrologia y Control de Doc.',\n",
       "       'Auxiliar de tiempos y asistencia', 'Contador General',\n",
       "       'Auditor Interno', 'Gerente de Satisfacción al Cliente',\n",
       "       'Supervisor General de Compras',\n",
       "       'Supervisor de Ingenieria de Manufactura', 'Tecnico de Calidad',\n",
       "       'Gerente de Ingenieria de Calidad'], dtype=object)"
      ]
     },
     "execution_count": 20,
     "metadata": {},
     "output_type": "execute_result"
    }
   ],
   "source": [
    "df_empleados_puestos[\"Puesto\"].unique()"
   ]
  },
  {
   "cell_type": "code",
   "execution_count": 24,
   "metadata": {},
   "outputs": [
    {
     "data": {
      "text/plain": [
       "Index(['Departamento', 'ID Empleado'], dtype='object')"
      ]
     },
     "execution_count": 24,
     "metadata": {},
     "output_type": "execute_result"
    }
   ],
   "source": [
    "df_conteo_empleados = df_empleados_puestos.groupby('Departamento')['ID Empleado'].count()\n",
    "df_empleados_departamento = df_conteo_empleados.reset_index()\n",
    "\n",
    "#convertimos la serie a dataframe utilizando el reset_index, ya que tras su ejecución se tienen dos columnas, \n",
    "# las cuales nos permitirán realizar la gráfica \n",
    "#Por el contrario, si convertimos directamente a DF con pd.DataFrame, solo nos va a aparecer una columna.\n",
    "\n",
    "df_empleados_departamento.columns"
   ]
  },
  {
   "cell_type": "code",
   "execution_count": 28,
   "metadata": {},
   "outputs": [
    {
     "data": {
      "text/plain": [
       "Index(['Puesto', 'ID Empleado'], dtype='object')"
      ]
     },
     "execution_count": 28,
     "metadata": {},
     "output_type": "execute_result"
    }
   ],
   "source": [
    "df_conteo_empleados = df_empleados_puestos.groupby('Puesto')['ID Empleado'].count()\n",
    "df_empleado_puesto = df_conteo_empleados.reset_index() \n",
    "\n",
    "#convertimos la serie a dataframe utilizando el reset_index, ya que tras su ejecución se tienen dos columnas, \n",
    "# las cuales nos permitirán poder realizar la gráfica \n",
    "#Por el contrario, si convertimos directamente a DF con pd.DataFrame, solo nos va a aparecer una columna.\n",
    "\n",
    "df_empleado_puesto.columns"
   ]
  },
  {
   "cell_type": "code",
   "execution_count": 29,
   "metadata": {},
   "outputs": [
    {
     "data": {
      "text/html": [
       "<div>\n",
       "<style scoped>\n",
       "    .dataframe tbody tr th:only-of-type {\n",
       "        vertical-align: middle;\n",
       "    }\n",
       "\n",
       "    .dataframe tbody tr th {\n",
       "        vertical-align: top;\n",
       "    }\n",
       "\n",
       "    .dataframe thead th {\n",
       "        text-align: right;\n",
       "    }\n",
       "</style>\n",
       "<table border=\"1\" class=\"dataframe\">\n",
       "  <thead>\n",
       "    <tr style=\"text-align: right;\">\n",
       "      <th></th>\n",
       "      <th>Puesto</th>\n",
       "      <th>ID Empleado</th>\n",
       "    </tr>\n",
       "  </thead>\n",
       "  <tbody>\n",
       "    <tr>\n",
       "      <th>0</th>\n",
       "      <td>Almacenista</td>\n",
       "      <td>30</td>\n",
       "    </tr>\n",
       "    <tr>\n",
       "      <th>1</th>\n",
       "      <td>Analista de Sistemas</td>\n",
       "      <td>21</td>\n",
       "    </tr>\n",
       "  </tbody>\n",
       "</table>\n",
       "</div>"
      ],
      "text/plain": [
       "                 Puesto  ID Empleado\n",
       "0           Almacenista           30\n",
       "1  Analista de Sistemas           21"
      ]
     },
     "execution_count": 29,
     "metadata": {},
     "output_type": "execute_result"
    }
   ],
   "source": [
    "df_empleado_puesto.head(2)"
   ]
  },
  {
   "cell_type": "code",
   "execution_count": 38,
   "metadata": {},
   "outputs": [
    {
     "name": "stderr",
     "output_type": "stream",
     "text": [
      "No artists with labels found to put in legend.  Note that artists whose label start with an underscore are ignored when legend() is called with no argument.\n"
     ]
    },
    {
     "data": {
      "image/png": "[encoded data removed]",
      "text/plain": [
       "<Figure size 640x480 with 2 Axes>"
      ]
     },
     "metadata": {},
     "output_type": "display_data"
    }
   ],
   "source": [
    "#creamos las gráficas de tipo subplots\n",
    "\n",
    "fig, ax = plt.subplots(2,1)\n",
    "\n",
    "ax[0].barh(df_empleados_departamento[\"Departamento\"], df_empleados_departamento[\"ID Empleado\"], color = \"yellow\")\n",
    "\n",
    "ax[0].set_title(\"Empleados por departamento\")\n",
    "\n",
    "ax[0].set_xlabel(\"Departamento\")\n",
    "\n",
    "ax[0].set_ylabel(\"Número empleados\")\n",
    "\n",
    "ax[1].bar(df_empleado_puesto[\"Puesto\"], df_empleado_puesto[\"ID Empleado\"], color = \"red\")\n",
    "\n",
    "ax[1].set_title(\"Empleados por puesto\")\n",
    "\n",
    "ax[1].set_title(\"Nivel satisfacción\")\n",
    "\n",
    "ax[1].set_xlabel(\"Puestos\")\n",
    "\n",
    "ax[1].set_ylabel(\"Número empleados\")\n",
    "\n",
    "plt.legend()#a revisar\n",
    "\n",
    "plt.show()"
   ]
  },
  {
   "attachments": {},
   "cell_type": "markdown",
   "metadata": {},
   "source": [
    "2. Cread un subplot con dos gráficas, dónde en la primera tengamos el número de empleados por departamento y en la otra por tipo de puesto. Debéis:\n",
    "    - Poner leyenda a la gráfica\n",
    "    - Cada línea debe ir en un color\n",
    "    - Ponerle nombre a los ejes y a la gráfica.\n",
    "    - Poner marcadores a las lineas."
   ]
  },
  {
   "attachments": {},
   "cell_type": "markdown",
   "metadata": {},
   "source": [
    "3. Guardad las figuras creadas en cada caso. Podéis usar el formato que queráis. Guarda todas las fotos en una carpeta llamada Visualizacion-II."
   ]
  },
  {
   "cell_type": "code",
   "execution_count": null,
   "metadata": {},
   "outputs": [],
   "source": [
    "plt.savefig(\"nombre_archivo.extension\")"
   ]
  }
 ],
 "metadata": {
  "kernelspec": {
   "display_name": "Python 3",
   "language": "python",
   "name": "python3"
  },
  "language_info": {
   "codemirror_mode": {
    "name": "ipython",
    "version": 3
   },
   "file_extension": ".py",
   "mimetype": "text/x-python",
   "name": "python",
   "nbconvert_exporter": "python",
   "pygments_lexer": "ipython3",
   "version": "3.9.6"
  },
  "orig_nbformat": 4,
  "vscode": {
   "interpreter": {
    "hash": "31f2aee4e71d21fbe5cf8b01ff0e069b9275f58929596ceb00d14d90e3e16cd6"
   }
  }
 },
 "nbformat": 4,
 "nbformat_minor": 2
}
