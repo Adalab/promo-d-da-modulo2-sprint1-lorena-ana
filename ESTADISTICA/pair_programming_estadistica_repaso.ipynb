{
 "cells": [
  {
   "attachments": {},
   "cell_type": "markdown",
   "metadata": {},
   "source": [
    "## PAIR PROGRAMMING - ESTADÍSTICA Y VISUALIZACIÓN - REPASO"
   ]
  },
  {
   "attachments": {},
   "cell_type": "markdown",
   "metadata": {},
   "source": [
    "Al igual que en los ejercicios de pair programming de estadística, deberéis elegir un set de datos, puede ser de cualquier tipo. El objetivo de este pair programming es:"
   ]
  },
  {
   "attachments": {},
   "cell_type": "markdown",
   "metadata": {},
   "source": [
    "1. Hacer una exploración inicial del dataframe.\n",
    "\n",
    "   - Cuántas filas tiene?\n",
    "   -  ¿Cuántas nulos tiene?\n",
    "   -  ¿Y duplicados?\n",
    "   -  ¿Qué tipo de datos tenemos en el dataframe?\n",
    "   -   etc.\n",
    "  \n",
    "  \n",
    "2. Plantead una serie de preguntas como las que fuimos contestando en la clase invertida.\n",
    "   \n",
    "3. Contestad a las preguntas planteadas usando los principales estadísticos que hemos aprendido y gráficas que mejor se ajusten."
   ]
  },
  {
   "cell_type": "code",
   "execution_count": null,
   "metadata": {},
   "outputs": [],
   "source": []
  }
 ],
 "metadata": {
  "kernelspec": {
   "display_name": "Python 3",
   "language": "python",
   "name": "python3"
  },
  "language_info": {
   "name": "python",
   "version": "3.9.13"
  },
  "orig_nbformat": 4,
  "vscode": {
   "interpreter": {
    "hash": "3a19f00f41f77a1ebaccda73eb3290ec65e6f87c37187114d21c22f44ded00c5"
   }
  }
 },
 "nbformat": 4,
 "nbformat_minor": 2
}
