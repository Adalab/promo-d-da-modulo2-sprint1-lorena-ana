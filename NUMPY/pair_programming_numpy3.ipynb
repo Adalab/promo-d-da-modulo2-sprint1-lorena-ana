{
 "cells": [
  {
   "attachments": {},
   "cell_type": "markdown",
   "metadata": {},
   "source": [
    "5. Cread un array vacío con la misma forma y dimensiones que el array creado anteriormente.\n",
    "Vamos a reemplazar los valores de la matriz vacía que nos acabamos de crear pero basándonos en los valores del primer array bajo las siguientes condiciones:\n",
    "- Si el valor del array es igual que la media, se reemplaza por \"A\".\n",
    "- Si el valor del array es mayor que la media, se reemplaza por \"B\".\n",
    "- Si el valor del array es menor que la media, se reemplaza por \"C\".\n",
    "- Si el valor es igual que el máximo, se reemplaza por \"D\".\n",
    "- Si el valor es igual que el mínimo, se reemplaza por \"E\"\n",
    "  \n",
    "  - a modo de ejemplo. Si tenemos el siguiente array\n",
    "[[[0.4, 0.7, 0.2, 0.9, 0.2],\n",
    "    [0.1, 0.9, 0.6, 0.1, 0.2],\n",
    "    [1. , 0.2, 0.1, 0.8, 0.3]],\n",
    "\n",
    "   [[0. , 0.3, 0.4, 0.5, 0.1],\n",
    "    [0.5, 0.7, 0.9, 0. , 0.8],\n",
    "    [0.5, 0.3, 0.5, 0.8, 0.1]]])\n",
    "\n",
    "   - sabiendo que la media es 0.4 y el máximo es 1.0 y el mínimo es 0.0\n",
    "\n",
    "  - nuestro array vacío debería quedar como este: \n",
    "[[[\"A\", \"B\", \"C\", \"B\", \"C\"],\n",
    "    [\"C\", \"B\", \"B\", \"C\", \"C\"],\n",
    "    [\"D\" , \"C\", \"C\", \"B\", \"C\"]],\n",
    "\n",
    "   [[\"E\" , \"C\", \"A\", \"B\", \"C\"],\n",
    "    [\"B\", \"B\",\"B\", \"E\" , \"B\"],\n",
    "    [\"B\", \"C\", \"B\", \"B\", \"C\"]]])\n",
    "\n",
    "💡 Pista 💡 Tendréis que iterar por el array y cambiar los valores de la matriz vacía. Para eso tendremos que usar distintos condicionales."
   ]
  },
  {
   "attachments": {},
   "cell_type": "markdown",
   "metadata": {},
   "source": [
    "## EJERCICIO 3 \n",
    "## Pair Programming NumPy III"
   ]
  },
  {
   "attachments": {},
   "cell_type": "markdown",
   "metadata": {},
   "source": [
    "En esta lección hemps aprendido algunas de las operaciones matemáticas más importantes que podemos aplicar a un array. Hoy pondremos en práctica algunas de estas operaciones, además de recordar algunas de los métodos aprendidos en otras lecciones y recordar como podemos iterar por un array."
   ]
  },
  {
   "attachments": {},
   "cell_type": "markdown",
   "metadata": {},
   "source": [
    "1. Cread un array de tres dimensiones de 2 matrices, 3 filas y 5 columnas cuyos valores solo tengan 1 decimales. Sobre el array creado anteriormente, extraed:"
   ]
  },
  {
   "cell_type": "code",
   "execution_count": 1,
   "metadata": {},
   "outputs": [],
   "source": [
    "import numpy as np"
   ]
  },
  {
   "cell_type": "code",
   "execution_count": 2,
   "metadata": {},
   "outputs": [],
   "source": [
    "array1 = np.round(np.random.rand (2,3,5),1)"
   ]
  },
  {
   "cell_type": "code",
   "execution_count": 3,
   "metadata": {},
   "outputs": [
    {
     "data": {
      "text/plain": [
       "array([[[1. , 0.8, 0.7, 0.6, 0.5],\n",
       "        [0.6, 0.2, 0.7, 0.8, 0.1],\n",
       "        [0.8, 0.5, 0.2, 0.1, 0.4]],\n",
       "\n",
       "       [[0.4, 0.3, 0.1, 0.9, 0.8],\n",
       "        [0.6, 0.1, 0.5, 0.6, 0.2],\n",
       "        [1. , 0.5, 0.5, 0.1, 0.6]]])"
      ]
     },
     "execution_count": 3,
     "metadata": {},
     "output_type": "execute_result"
    }
   ],
   "source": [
    "array1"
   ]
  },
  {
   "attachments": {},
   "cell_type": "markdown",
   "metadata": {},
   "source": [
    "2. Calculad la media del array y almacenarlos en una variable. Redondead a un decimal."
   ]
  },
  {
   "cell_type": "code",
   "execution_count": 4,
   "metadata": {},
   "outputs": [
    {
     "data": {
      "text/plain": [
       "0.5"
      ]
     },
     "execution_count": 4,
     "metadata": {},
     "output_type": "execute_result"
    }
   ],
   "source": [
    "media_array1 = np.round(np.mean(array1),1)\n",
    "media_array1"
   ]
  },
  {
   "attachments": {},
   "cell_type": "markdown",
   "metadata": {},
   "source": [
    "3. Calculad el valor máximo del array y almacenarlos en una variable. Redondead a un decimal."
   ]
  },
  {
   "cell_type": "code",
   "execution_count": 5,
   "metadata": {},
   "outputs": [
    {
     "data": {
      "text/plain": [
       "1.0"
      ]
     },
     "execution_count": 5,
     "metadata": {},
     "output_type": "execute_result"
    }
   ],
   "source": [
    "maximo_array1 = np.round(np.max(array1),1)\n",
    "maximo_array1"
   ]
  },
  {
   "attachments": {},
   "cell_type": "markdown",
   "metadata": {},
   "source": [
    "4. Calculad el valor mínimo del array y almacenarlos en una variable. Redondead a un decimal."
   ]
  },
  {
   "cell_type": "code",
   "execution_count": 6,
   "metadata": {},
   "outputs": [
    {
     "data": {
      "text/plain": [
       "0.1"
      ]
     },
     "execution_count": 6,
     "metadata": {},
     "output_type": "execute_result"
    }
   ],
   "source": [
    "minimo_array1 = np.round(np.min(array1),1)\n",
    "minimo_array1"
   ]
  },
  {
   "cell_type": "code",
   "execution_count": 7,
   "metadata": {},
   "outputs": [
    {
     "data": {
      "text/plain": [
       "array([[['', '', '', '', ''],\n",
       "        ['', '', '', '', ''],\n",
       "        ['', '', '', '', '']],\n",
       "\n",
       "       [['', '', '', '', ''],\n",
       "        ['', '', '', '', ''],\n",
       "        ['', '', '', '', '']]], dtype='<U1')"
      ]
     },
     "execution_count": 7,
     "metadata": {},
     "output_type": "execute_result"
    }
   ],
   "source": [
    "array_vacio = np.empty((2,3,5),dtype = 'str')\n",
    "array_vacio #de almacenamiento"
   ]
  },
  {
   "cell_type": "code",
   "execution_count": 8,
   "metadata": {},
   "outputs": [
    {
     "data": {
      "text/plain": [
       "2"
      ]
     },
     "execution_count": 8,
     "metadata": {},
     "output_type": "execute_result"
    }
   ],
   "source": [
    "array1.shape[0] #para automatizar por cualquier array"
   ]
  },
  {
   "cell_type": "code",
   "execution_count": 9,
   "metadata": {},
   "outputs": [],
   "source": [
    "for matriz in range (array1.shape[0]):\n",
    "    for fila in range (array1.shape[1]):\n",
    "        for columna in range (array1.shape[2]): #generando coordenadas completas del array\n",
    "                if array1[matriz][fila][columna] == media_array1:\n",
    "                    array_vacio[matriz][fila][columna] = \"A\"\n",
    "                elif array1[matriz][fila][columna] > media_array1:\n",
    "                    array_vacio[matriz][fila][columna] = \"B\"\n",
    "                elif array1[matriz][fila][columna] < media_array1:\n",
    "                      array_vacio[matriz][fila][columna] = \"C\"\n",
    "                elif array1[matriz][fila][columna] > maximo_array1:\n",
    "                      array_vacio[matriz][fila][columna] = \"D\"\n",
    "                elif array1[matriz][fila][columna] == minimo_array1:\n",
    "                      array_vacio[matriz][fila][columna] = \"E\"\n",
    "\n",
    "\n",
    "# CÓDIGO ANTERIOR INCORRECTO:\n",
    "\n",
    "            #   if elemento == media_array1:\n",
    "            #         array_vacio[matriz, fila, columna].append('A')\n",
    "            #     elif elemento > media_array1:\n",
    "            #         array_vacio[matriz, fila, columna].append('B')\n",
    "            #     elif elemento < media_array1:\n",
    "            #         array_vacio[matriz, fila, columna].append('C')\n",
    "            #     elif elemento > maximo_array1:\n",
    "            #         array_vacio[matriz, fila, columna].append('D')\n",
    "            #     else:\n",
    "            #         array_vacio[matriz, fila, columna].append('E')  \n",
    "\n",
    "\n",
    "# RECORDAMOS: NO se puede utilizar append() con arrays, es un método de listas "
   ]
  },
  {
   "cell_type": "code",
   "execution_count": 10,
   "metadata": {},
   "outputs": [
    {
     "data": {
      "text/plain": [
       "array([[['B', 'B', 'B', 'B', 'A'],\n",
       "        ['B', 'C', 'B', 'B', 'C'],\n",
       "        ['B', 'A', 'C', 'C', 'C']],\n",
       "\n",
       "       [['C', 'C', 'C', 'B', 'B'],\n",
       "        ['B', 'C', 'A', 'B', 'C'],\n",
       "        ['B', 'A', 'A', 'C', 'B']]], dtype='<U1')"
      ]
     },
     "execution_count": 10,
     "metadata": {},
     "output_type": "execute_result"
    }
   ],
   "source": [
    "array_vacio"
   ]
  },
  {
   "attachments": {},
   "cell_type": "markdown",
   "metadata": {},
   "source": [
    "5.Estupendo, tenemos un array con strings. Ahora realizaremos un ejercicio similar al anterior, pero en este caso nos crearemos un array vacío unidimensional de 30 elementos. Al final de este ejercicio acabaremos teniendo un array de tres dimensiones con la misma forma que el primero que nos creamos."
   ]
  },
  {
   "attachments": {},
   "cell_type": "markdown",
   "metadata": {},
   "source": [
    "- Si el valor del array creado en el ejercicio anterior es \"A\" o \"B\" lo reemplazaremos por 1.\n",
    "- Si el valor del array creado en el ejercicio anterior es \"C\" o \"D\" lo reemplazaremos por 2.\n",
    "- Si el valor del array creado en el ejercicio anterior es \"E\" lo reemplazaremos por 3."
   ]
  },
  {
   "cell_type": "code",
   "execution_count": 11,
   "metadata": {},
   "outputs": [],
   "source": [
    "array_strings = np.empty(30, dtype = str)"
   ]
  },
  {
   "cell_type": "code",
   "execution_count": 12,
   "metadata": {},
   "outputs": [
    {
     "data": {
      "text/plain": [
       "array(['', '', '', '', '', '', '', '', '', '', '', '', '', '', '', '', '',\n",
       "       '', '', '', '', '', '', '', '', '', '', '', '', ''], dtype='<U1')"
      ]
     },
     "execution_count": 12,
     "metadata": {},
     "output_type": "execute_result"
    }
   ],
   "source": [
    "array_strings"
   ]
  },
  {
   "cell_type": "code",
   "execution_count": 20,
   "metadata": {},
   "outputs": [
    {
     "name": "stdout",
     "output_type": "stream",
     "text": [
      "[['B' 'B' 'B' 'B' 'A']\n",
      " ['B' 'C' 'B' 'B' 'C']\n",
      " ['B' 'A' 'C' 'C' 'C']]\n",
      "[['C' 'C' 'C' 'B' 'B']\n",
      " ['B' 'C' 'A' 'B' 'C']\n",
      " ['B' 'A' 'A' 'C' 'B']]\n"
     ]
    }
   ],
   "source": [
    "contador = 0\n",
    "\n",
    "for matriz in array_vacio:\n",
    "    print(matriz)\n",
    "    for fila in matriz:\n",
    "        for elemento in fila:\n",
    "\n",
    "            if elemento == \"A\" or elemento == \"B\":\n",
    "                array_strings[contador] = 1\n",
    "                contador += 1\n",
    "\n",
    "            elif elemento == \"C\" or elemento == \"D\":\n",
    "                array_strings[contador] = 2\n",
    "                contador += 1\n",
    "            else:\n",
    "                array_strings[contador] = 3\n",
    "                contador += 1\n",
    "              \n",
    "\n",
    "#error checking - usamos el método print para ver dónde está el error, empezando por el primer nivel del for loop\n",
    "#estábamos iterando por el array equivocado"
   ]
  },
  {
   "cell_type": "code",
   "execution_count": 21,
   "metadata": {},
   "outputs": [
    {
     "data": {
      "text/plain": [
       "array(['1', '1', '1', '1', '1', '1', '2', '1', '1', '2', '1', '1', '2',\n",
       "       '2', '2', '2', '2', '2', '1', '1', '1', '2', '1', '1', '2', '1',\n",
       "       '1', '1', '2', '1'], dtype='<U1')"
      ]
     },
     "execution_count": 21,
     "metadata": {},
     "output_type": "execute_result"
    }
   ],
   "source": [
    "array_strings"
   ]
  },
  {
   "attachments": {},
   "cell_type": "markdown",
   "metadata": {},
   "source": [
    "Una vez que hayas reemplazado todos los valores cambiad la forma del array para que sea de tres dimensiones, con 2 matrices, 3 filas y 5 columnas."
   ]
  },
  {
   "cell_type": "code",
   "execution_count": 24,
   "metadata": {},
   "outputs": [
    {
     "data": {
      "text/plain": [
       "array([[['1', '1', '1', '1', '1'],\n",
       "        ['1', '2', '1', '1', '2'],\n",
       "        ['1', '1', '2', '2', '2']],\n",
       "\n",
       "       [['2', '2', '2', '1', '1'],\n",
       "        ['1', '2', '1', '1', '2'],\n",
       "        ['1', '1', '1', '2', '1']]], dtype='<U1')"
      ]
     },
     "execution_count": 24,
     "metadata": {},
     "output_type": "execute_result"
    }
   ],
   "source": [
    "#reshape\n",
    "\n",
    "array_strings_reshaped  = array_strings.reshape((2, 3, 5))\n",
    "\n",
    "array_strings_reshaped\n",
    "\n"
   ]
  }
 ],
 "metadata": {
  "kernelspec": {
   "display_name": "base",
   "language": "python",
   "name": "python3"
  },
  "language_info": {
   "codemirror_mode": {
    "name": "ipython",
    "version": 3
   },
   "file_extension": ".py",
   "mimetype": "text/x-python",
   "name": "python",
   "nbconvert_exporter": "python",
   "pygments_lexer": "ipython3",
   "version": "3.9.7"
  },
  "orig_nbformat": 4,
  "vscode": {
   "interpreter": {
    "hash": "9e93b45245d013bdd53ec1af459c1fa9a1f27ba233da755697f4231c0d29b83f"
   }
  }
 },
 "nbformat": 4,
 "nbformat_minor": 2
}
