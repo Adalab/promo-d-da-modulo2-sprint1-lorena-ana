{
 "cells": [
  {
   "attachments": {},
   "cell_type": "markdown",
   "metadata": {},
   "source": [
    "### Pair Programming NumPy IV\n"
   ]
  },
  {
   "cell_type": "code",
   "execution_count": 2,
   "metadata": {},
   "outputs": [],
   "source": [
    "import pandas as pd\n",
    "import numpy as np"
   ]
  },
  {
   "attachments": {},
   "cell_type": "markdown",
   "metadata": {},
   "source": [
    "Manos a la obra con la última lección de NumPy. En este caso pondremos en práctica como generar arrays que sigan ciertas distribuciones, así como las operaciones de teoría de conjuntos básicas."
   ]
  },
  {
   "attachments": {},
   "cell_type": "markdown",
   "metadata": {},
   "source": [
    "1. ¿Cómo podemos crear dos arrays de dos dimensiones usando el método random_sample que tengan los mismos valores?"
   ]
  },
  {
   "cell_type": "code",
   "execution_count": 21,
   "metadata": {},
   "outputs": [],
   "source": [
    "\n",
    "np.random.seed(1)\n",
    "\n",
    "array1 = np.random.random_sample((2,3))\n",
    "\n",
    "# usar seed en cada celda para crear cada uno de los arrays"
   ]
  },
  {
   "cell_type": "code",
   "execution_count": 22,
   "metadata": {},
   "outputs": [],
   "source": [
    "np.random.seed(1)\n",
    "array2 = np.random.random_sample((2,3))"
   ]
  },
  {
   "cell_type": "code",
   "execution_count": 23,
   "metadata": {},
   "outputs": [
    {
     "data": {
      "text/plain": [
       "array([[4.17022005e-01, 7.20324493e-01, 1.14374817e-04],\n",
       "       [3.02332573e-01, 1.46755891e-01, 9.23385948e-02]])"
      ]
     },
     "execution_count": 23,
     "metadata": {},
     "output_type": "execute_result"
    }
   ],
   "source": [
    "array1\n"
   ]
  },
  {
   "cell_type": "code",
   "execution_count": 24,
   "metadata": {},
   "outputs": [
    {
     "data": {
      "text/plain": [
       "array([[4.17022005e-01, 7.20324493e-01, 1.14374817e-04],\n",
       "       [3.02332573e-01, 1.46755891e-01, 9.23385948e-02]])"
      ]
     },
     "execution_count": 24,
     "metadata": {},
     "output_type": "execute_result"
    }
   ],
   "source": [
    "array2"
   ]
  },
  {
   "attachments": {},
   "cell_type": "markdown",
   "metadata": {},
   "source": [
    "2. Cread los siguientes arrays:\n",
    "\n",
    "Un array de tres dimensiones con distribución uniforme de 2 x 3 x 5, con números entre 0 y 10, que no tengan decimales y extrae sus valores únicos almacenándolos en una variable.\n",
    "\n",
    "\n",
    "Un array de tres dimensiones con distribución binomial de 2 x 3 x 5, con probabilidad de 0.3 y número de pruebas igual a 10. Igual que antes, extrae sus valores únicos y guarda los datos en una variable."
   ]
  },
  {
   "cell_type": "code",
   "execution_count": 28,
   "metadata": {},
   "outputs": [
    {
     "name": "stdout",
     "output_type": "stream",
     "text": [
      "[[[7 7 4 9 0]\n",
      "  [2 0 7 1 7]\n",
      "  [9 8 4 0 1]]\n",
      "\n",
      " [[9 8 2 3 1]\n",
      "  [2 7 2 6 0]\n",
      "  [9 2 6 6 2]]]\n",
      "[0 1 2 3 4 6 7 8 9]\n"
     ]
    }
   ],
   "source": [
    "\n",
    "array3 = np.random.randint(0,10, (2, 3, 5))\n",
    "print(array3)\n",
    "\n",
    "valores = np.unique(array3) \n",
    "print(valores)"
   ]
  },
  {
   "cell_type": "code",
   "execution_count": 31,
   "metadata": {},
   "outputs": [
    {
     "name": "stdout",
     "output_type": "stream",
     "text": [
      "[0 1 2 3 4 5 6]\n"
     ]
    }
   ],
   "source": [
    "#Un array de tres dimensiones con distribución binomial de 2 x 3 x 5, con probabilidad de 0.3 y \n",
    "#número de pruebas igual a 10. Igual que antes, \n",
    "#extrae sus valores únicos y guarda los datos en una variable.\n",
    "\n",
    "array4 = np.random.binomial(10, 0.3, size = (2,3,5))\n",
    "\n",
    "valores1 = np.unique(array4)\n",
    "print(valores1)"
   ]
  },
  {
   "cell_type": "code",
   "execution_count": 30,
   "metadata": {},
   "outputs": [
    {
     "data": {
      "text/plain": [
       "array([[[5, 3, 0, 3, 2],\n",
       "        [3, 5, 2, 5, 3],\n",
       "        [0, 5, 4, 7, 2]],\n",
       "\n",
       "       [[1, 5, 4, 1, 4],\n",
       "        [4, 5, 4, 1, 0],\n",
       "        [0, 1, 2, 5, 3]]])"
      ]
     },
     "execution_count": 30,
     "metadata": {},
     "output_type": "execute_result"
    }
   ],
   "source": [
    "array4"
   ]
  },
  {
   "attachments": {},
   "cell_type": "markdown",
   "metadata": {},
   "source": [
    "3. En esta lección hemos aprendido algunos métodos de teórias de conjuntos. Usando los arrays de elementos únicos obtenidos en el ejercicio anterior realizad las siguientes operaciones:\n",
    "\n",
    "Elementos comunes entre los dos arrays\n",
    "\n",
    "Unión de los dos arrays\n",
    "\n",
    "¿Qué elementos están en el array derivado de la distribución uniforme y no en los únicos de la distribución binomial? Extrae los valores númericos\n",
    "\n",
    "⚠️ Explicar cada uno de los outputs que os salgan. Que significa cada una de estas operaciones que hemos ido extrayendo?"
   ]
  },
  {
   "cell_type": "code",
   "execution_count": 32,
   "metadata": {},
   "outputs": [
    {
     "data": {
      "text/plain": [
       "(array([0, 1, 2, 3, 4, 6]),\n",
       " array([0, 1, 2, 3, 4, 5]),\n",
       " array([0, 1, 2, 3, 4, 6]))"
      ]
     },
     "execution_count": 32,
     "metadata": {},
     "output_type": "execute_result"
    }
   ],
   "source": [
    "\n",
    "\n",
    "#usamos el método intersect1d añadiendo el parámetro return_indices = True, obteniendo los valores \n",
    "#comunes en la intersección de ambos arrays, el parámetro, además, nos devuelve dos arrays más\n",
    "# dónde el primero corresponde a los índices del array valores y el segundo a los índices del array valores1 \n",
    "\n",
    "np.intersect1d(valores, valores1, return_indices= True)\n"
   ]
  },
  {
   "cell_type": "code",
   "execution_count": 35,
   "metadata": {},
   "outputs": [
    {
     "data": {
      "text/plain": [
       "array([7, 8, 9])"
      ]
     },
     "execution_count": 35,
     "metadata": {},
     "output_type": "execute_result"
    }
   ],
   "source": [
    "#¿Qué elementos están en el array derivado de la distribución uniforme (array3) y no en los únicos \n",
    "#de la distribución binomial (array4)? Extrae los valores númericos\n",
    "\n",
    "# el setdiff1d nos devuelve los valores que se encuentran en array3 y no en array4\n",
    " \n",
    "np.setdiff1d(array3, array4)\n",
    " "
   ]
  },
  {
   "cell_type": "code",
   "execution_count": 33,
   "metadata": {},
   "outputs": [
    {
     "data": {
      "text/plain": [
       "array([0, 1, 2, 3, 4, 5, 6, 7, 8, 9])"
      ]
     },
     "execution_count": 33,
     "metadata": {},
     "output_type": "execute_result"
    }
   ],
   "source": [
    "\n",
    "#usamos el método union1d porque devuelve un array ordenado con los elementos resultantes\n",
    "# de unir los arrays\n",
    "\n",
    "\n",
    "np.union1d(valores, valores1)\n",
    "\n"
   ]
  },
  {
   "attachments": {},
   "cell_type": "markdown",
   "metadata": {},
   "source": [
    "4. Cread dos arrays usando el método random.randint de Numpy con 80 elementos cada uno con números del 1-100, con los siguientes nombres array1 y array2.\n",
    "\n",
    "Extraed los valores únicos de cada uno de los arrays y los guardáis en variables en las que se les llame array1 y array2.\n",
    "\n",
    "Identificad los elementos presentes en el array1 pero no en el array2 y asiganarlo a una variable que se llame array3.\n",
    "\n",
    "Identificad los elementos presentes en el array2 pero no en el array1 y asiganarlo a una variable que se llame array4.\n",
    "\n",
    "Identificad los elementos presentes en ambos arrays y asiganarlos a una variable que se llame array5.\n",
    "\n",
    "¿Cuál es la relación que existe entre todos estos arrays? 💡 Pista 💡 Tendréis que usar las longitudes de cada uno de los arrays creados."
   ]
  },
  {
   "cell_type": "code",
   "execution_count": 37,
   "metadata": {},
   "outputs": [
    {
     "name": "stdout",
     "output_type": "stream",
     "text": [
      "[ 3 14 42 37 41 19 98 39 64 47 90  3 99 29 79 76 59 43 27 22 59 17 93 38\n",
      " 12 23  7 97 15 88 76 36 64 33 92 50  1 23 98 71 37 19 28 29 53 95 51 47\n",
      "  8 86 17 30 12 62 15 31  9 41 49 31 24 67 93 65 13 18 34 11 29 76  6 82\n",
      "  6 43 87 53 58 57 79 88]\n"
     ]
    }
   ],
   "source": [
    "array1 = np.random.randint(1, 100, (80))\n",
    "\n",
    "array2 = np.random.randint(1, 100, (80))\n",
    "print( array1)"
   ]
  },
  {
   "cell_type": "code",
   "execution_count": 39,
   "metadata": {},
   "outputs": [
    {
     "name": "stdout",
     "output_type": "stream",
     "text": [
      "[ 1  3  6  7  8  9 11 12 13 14 15 17 18 19 22 23 24 27 28 29 30 31 33 34\n",
      " 36 37 38 39 41 42 43 47 49 50 51 53 57 58 59 62 64 65 67 71 76 79 82 86\n",
      " 87 88 90 92 93 95 97 98 99]\n"
     ]
    }
   ],
   "source": [
    "array1 = np.unique(array1)\n",
    "array2 = np.unique(array2)\n",
    "print(array1)"
   ]
  },
  {
   "cell_type": "code",
   "execution_count": 40,
   "metadata": {},
   "outputs": [],
   "source": [
    "array3 = np.setdiff1d (array1, array2)"
   ]
  },
  {
   "cell_type": "code",
   "execution_count": 41,
   "metadata": {},
   "outputs": [
    {
     "data": {
      "text/plain": [
       "array([ 1,  7, 12, 14, 15, 18, 23, 24, 27, 30, 33, 36, 37, 42, 50, 53, 57,\n",
       "       58, 65, 67, 71, 76, 86, 87, 88, 90, 93, 95, 99])"
      ]
     },
     "execution_count": 41,
     "metadata": {},
     "output_type": "execute_result"
    }
   ],
   "source": [
    "array3"
   ]
  },
  {
   "cell_type": "code",
   "execution_count": 43,
   "metadata": {},
   "outputs": [],
   "source": [
    "array4 = np.setdiff1d (array2, array1 )"
   ]
  },
  {
   "cell_type": "code",
   "execution_count": 44,
   "metadata": {},
   "outputs": [
    {
     "data": {
      "text/plain": [
       "array([ 4,  5, 10, 16, 20, 25, 26, 32, 35, 40, 44, 45, 52, 55, 60, 61, 63,\n",
       "       68, 69, 70, 73, 75, 77, 78, 80, 81, 83, 89, 96])"
      ]
     },
     "execution_count": 44,
     "metadata": {},
     "output_type": "execute_result"
    }
   ],
   "source": [
    "array4"
   ]
  },
  {
   "cell_type": "code",
   "execution_count": null,
   "metadata": {},
   "outputs": [],
   "source": [
    "array5 = np.union1d "
   ]
  },
  {
   "cell_type": "code",
   "execution_count": 2,
   "metadata": {},
   "outputs": [
    {
     "ename": "NameError",
     "evalue": "name 'array1' is not defined",
     "output_type": "error",
     "traceback": [
      "\u001b[0;31m---------------------------------------------------------------------------\u001b[0m",
      "\u001b[0;31mNameError\u001b[0m                                 Traceback (most recent call last)",
      "\u001b[0;32m/var/folders/t_/wl_dxng13j93db49220bzdd40000gn/T/ipykernel_5923/2413928138.py\u001b[0m in \u001b[0;36m<module>\u001b[0;34m\u001b[0m\n\u001b[0;32m----> 1\u001b[0;31m \u001b[0mlen\u001b[0m\u001b[0;34m(\u001b[0m\u001b[0marray1\u001b[0m\u001b[0;34m)\u001b[0m\u001b[0;34m\u001b[0m\u001b[0;34m\u001b[0m\u001b[0m\n\u001b[0m",
      "\u001b[0;31mNameError\u001b[0m: name 'array1' is not defined"
     ]
    }
   ],
   "source": [
    "len(array1)"
   ]
  }
 ],
 "metadata": {
  "kernelspec": {
   "display_name": "base",
   "language": "python",
   "name": "python3"
  },
  "language_info": {
   "codemirror_mode": {
    "name": "ipython",
    "version": 3
   },
   "file_extension": ".py",
   "mimetype": "text/x-python",
   "name": "python",
   "nbconvert_exporter": "python",
   "pygments_lexer": "ipython3",
   "version": "3.9.7"
  },
  "orig_nbformat": 4,
  "vscode": {
   "interpreter": {
    "hash": "9e93b45245d013bdd53ec1af459c1fa9a1f27ba233da755697f4231c0d29b83f"
   }
  }
 },
 "nbformat": 4,
 "nbformat_minor": 2
}
